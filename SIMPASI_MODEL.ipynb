{
  "nbformat": 4,
  "nbformat_minor": 0,
  "metadata": {
    "colab": {
      "name": "SIMPASI MODEL",
      "provenance": [],
      "collapsed_sections": [],
      "toc_visible": true,
      "include_colab_link": true
    },
    "kernelspec": {
      "name": "python3",
      "display_name": "Python 3"
    },
    "language_info": {
      "name": "python"
    }
  },
  "cells": [
    {
      "cell_type": "markdown",
      "metadata": {
        "id": "view-in-github",
        "colab_type": "text"
      },
      "source": [
        "<a href=\"https://colab.research.google.com/github/ayuadmy/simpasi/blob/main/SIMPASI_MODEL.ipynb\" target=\"_parent\"><img src=\"https://colab.research.google.com/assets/colab-badge.svg\" alt=\"Open In Colab\"/></a>"
      ]
    },
    {
      "cell_type": "markdown",
      "source": [
        "# Library Needed\n"
      ],
      "metadata": {
        "id": "t1BXxKG1FS_u"
      }
    },
    {
      "cell_type": "code",
      "source": [
        "!python --version"
      ],
      "metadata": {
        "colab": {
          "base_uri": "https://localhost:8080/"
        },
        "id": "twOvvUblnR1k",
        "outputId": "15e291e6-e7d0-474d-93ce-9da4919c9ee7"
      },
      "execution_count": 3,
      "outputs": [
        {
          "output_type": "stream",
          "name": "stdout",
          "text": [
            "Python 3.7.13\n"
          ]
        }
      ]
    },
    {
      "cell_type": "code",
      "source": [
        "pip install -q tensorflow-recommenders"
      ],
      "metadata": {
        "id": "28wbgEe0ndCr",
        "colab": {
          "base_uri": "https://localhost:8080/"
        },
        "outputId": "159c4cb7-6f14-4671-d412-40318f557ad4"
      },
      "execution_count": 4,
      "outputs": [
        {
          "output_type": "stream",
          "name": "stdout",
          "text": [
            "\u001b[K     |████████████████████████████████| 85 kB 4.1 MB/s \n",
            "\u001b[K     |████████████████████████████████| 462 kB 45.4 MB/s \n",
            "\u001b[?25h"
          ]
        }
      ]
    },
    {
      "cell_type": "code",
      "execution_count": 5,
      "metadata": {
        "id": "so5I41Limcv5"
      },
      "outputs": [],
      "source": [
        "import pathlib\n",
        "import os\n",
        "import pprint\n",
        "import tempfile\n",
        "\n",
        "from typing import Dict, Text\n",
        "\n",
        "import csv\n",
        "import pandas as pd \n",
        "import numpy as np \n",
        "import matplotlib.pyplot as plt \n",
        "\n",
        "import tensorflow as tf\n",
        "import tensorflow_datasets as tfds\n",
        "import tensorflow_recommenders as tfrs"
      ]
    },
    {
      "cell_type": "markdown",
      "source": [
        "# MPASI Menu, Recipe, Ingredients Dataset"
      ],
      "metadata": {
        "id": "-QUqx8euFe9G"
      }
    },
    {
      "cell_type": "code",
      "source": [
        "#Download datasets from google drive\n",
        "#Bahan_Makanan\n",
        "!gdown --id 1eenpLlfkok_acgmuIC2XI4tZCnMIkUrS\\\n",
        "\n",
        "#Move files to tmp (To be deleted after closing this google colab in some time)\n",
        "!mv \"/content/bahan_makanan.csv\" \"/tmp\"\n",
        "\n",
        "#Create directory of datasets\n",
        "bahan_makanan_dir = \"/tmp/bahan_makanan.csv\""
      ],
      "metadata": {
        "colab": {
          "base_uri": "https://localhost:8080/"
        },
        "id": "hx-SBcmaCizm",
        "outputId": "1fe10c83-24af-4a39-dc49-74622fa7726a"
      },
      "execution_count": 6,
      "outputs": [
        {
          "output_type": "stream",
          "name": "stdout",
          "text": [
            "/usr/local/lib/python3.7/dist-packages/gdown/cli.py:131: FutureWarning: Option `--id` was deprecated in version 4.3.1 and will be removed in 5.0. You don't need to pass it anymore to use a file ID.\n",
            "  category=FutureWarning,\n",
            "Downloading...\n",
            "From: https://drive.google.com/uc?id=1eenpLlfkok_acgmuIC2XI4tZCnMIkUrS\n",
            "To: /content/bahan_makanan.csv\n",
            "100% 5.64k/5.64k [00:00<00:00, 6.10MB/s]\n"
          ]
        }
      ]
    },
    {
      "cell_type": "code",
      "source": [
        "#Resep\n",
        "!gdown --id 1miF99iHy0E0OUfkqP6dZVUccAmW_KpVT\\\n",
        "\n",
        "!mv \"/content/resep.csv\" \"/tmp\"\n",
        "resep_dir = \"/tmp/resep.csv\""
      ],
      "metadata": {
        "colab": {
          "base_uri": "https://localhost:8080/"
        },
        "id": "Ok7cA28bBhyv",
        "outputId": "097df420-e191-4f95-b7c3-63c2c8b89169"
      },
      "execution_count": 7,
      "outputs": [
        {
          "output_type": "stream",
          "name": "stdout",
          "text": [
            "/usr/local/lib/python3.7/dist-packages/gdown/cli.py:131: FutureWarning: Option `--id` was deprecated in version 4.3.1 and will be removed in 5.0. You don't need to pass it anymore to use a file ID.\n",
            "  category=FutureWarning,\n",
            "Downloading...\n",
            "From: https://drive.google.com/uc?id=1miF99iHy0E0OUfkqP6dZVUccAmW_KpVT\n",
            "To: /content/resep.csv\n",
            "100% 3.57k/3.57k [00:00<00:00, 4.22MB/s]\n"
          ]
        }
      ]
    },
    {
      "cell_type": "code",
      "source": [
        "#Komposisi\n",
        "!gdown --id 1xufQ7DEIiKIcWWd0sOYXMLkjJQ8kYgvJ\\\n",
        "\n",
        "!mv \"/content/komposisi_baru.csv\" \"/tmp\"\n",
        "komposisi_dir = \"/tmp/komposisi_baru.csv\""
      ],
      "metadata": {
        "colab": {
          "base_uri": "https://localhost:8080/"
        },
        "id": "UUF_EP5WChq4",
        "outputId": "debe0e95-2a5c-4ca8-9c4b-0a6fbe23e579"
      },
      "execution_count": 8,
      "outputs": [
        {
          "output_type": "stream",
          "name": "stdout",
          "text": [
            "/usr/local/lib/python3.7/dist-packages/gdown/cli.py:131: FutureWarning: Option `--id` was deprecated in version 4.3.1 and will be removed in 5.0. You don't need to pass it anymore to use a file ID.\n",
            "  category=FutureWarning,\n",
            "Downloading...\n",
            "From: https://drive.google.com/uc?id=1xufQ7DEIiKIcWWd0sOYXMLkjJQ8kYgvJ\n",
            "To: /content/komposisi_baru.csv\n",
            "100% 9.23k/9.23k [00:00<00:00, 15.1MB/s]\n"
          ]
        }
      ]
    },
    {
      "cell_type": "code",
      "source": [
        "#Menu Makanan\n",
        "!gdown --id 1Elz56RH18uKtrV3DDePpT9SKOzhFGVPb\\\n",
        "\n",
        "!mv \"/content/kombinasi_menu.csv\" \"/tmp\"\n",
        "kombinasi_menu_dir = \"/tmp/kombinasi_menu.csv\""
      ],
      "metadata": {
        "colab": {
          "base_uri": "https://localhost:8080/"
        },
        "id": "mNB8cl-kCio-",
        "outputId": "507d1378-2acd-4e44-aa9f-a16c038da57a"
      },
      "execution_count": 9,
      "outputs": [
        {
          "output_type": "stream",
          "name": "stdout",
          "text": [
            "/usr/local/lib/python3.7/dist-packages/gdown/cli.py:131: FutureWarning: Option `--id` was deprecated in version 4.3.1 and will be removed in 5.0. You don't need to pass it anymore to use a file ID.\n",
            "  category=FutureWarning,\n",
            "Downloading...\n",
            "From: https://drive.google.com/uc?id=1Elz56RH18uKtrV3DDePpT9SKOzhFGVPb\n",
            "To: /content/kombinasi_menu.csv\n",
            "100% 3.00M/3.00M [00:00<00:00, 207MB/s]\n"
          ]
        }
      ]
    },
    {
      "cell_type": "code",
      "source": [
        "#Feedback_bahan\n",
        "!gdown --id 12g229KO46uBZ8mSPRaSuAsxVjosmy7Ty\\\n",
        "\n",
        "!mv \"/content/feedback_bahan.csv\" \"/tmp\"\n",
        "feedback_bahan_dir = \"/tmp/feedback_bahan.csv\""
      ],
      "metadata": {
        "colab": {
          "base_uri": "https://localhost:8080/"
        },
        "id": "NpFqrgPCDIvl",
        "outputId": "660d1513-3b98-40be-d33d-a1e5351275f6"
      },
      "execution_count": 10,
      "outputs": [
        {
          "output_type": "stream",
          "name": "stdout",
          "text": [
            "/usr/local/lib/python3.7/dist-packages/gdown/cli.py:131: FutureWarning: Option `--id` was deprecated in version 4.3.1 and will be removed in 5.0. You don't need to pass it anymore to use a file ID.\n",
            "  category=FutureWarning,\n",
            "Downloading...\n",
            "From: https://drive.google.com/uc?id=12g229KO46uBZ8mSPRaSuAsxVjosmy7Ty\n",
            "To: /content/feedback_bahan.csv\n",
            "100% 1.37k/1.37k [00:00<00:00, 2.54MB/s]\n"
          ]
        }
      ]
    },
    {
      "cell_type": "code",
      "source": [
        "feedback_bahan = pd.read_csv(feedback_bahan_dir)\n",
        "feedback_bahan = feedback_bahan.iloc[:,[2,5]]\n",
        "feedback_bahan.head()"
      ],
      "metadata": {
        "colab": {
          "base_uri": "https://localhost:8080/",
          "height": 206
        },
        "id": "QVLniz6KEHll",
        "outputId": "c896b663-9274-469e-9ca3-5101d00b7493"
      },
      "execution_count": 11,
      "outputs": [
        {
          "output_type": "execute_result",
          "data": {
            "text/plain": [
              "   user_id   nama_bahan\n",
              "0        1    Strawbery\n",
              "1        1      Brokoli\n",
              "2        1  Beras Merah\n",
              "3        1   Kaldu Ayam\n",
              "4        1        Tempe"
            ],
            "text/html": [
              "\n",
              "  <div id=\"df-a06798e4-2b74-4cd5-9e60-bec08934b673\">\n",
              "    <div class=\"colab-df-container\">\n",
              "      <div>\n",
              "<style scoped>\n",
              "    .dataframe tbody tr th:only-of-type {\n",
              "        vertical-align: middle;\n",
              "    }\n",
              "\n",
              "    .dataframe tbody tr th {\n",
              "        vertical-align: top;\n",
              "    }\n",
              "\n",
              "    .dataframe thead th {\n",
              "        text-align: right;\n",
              "    }\n",
              "</style>\n",
              "<table border=\"1\" class=\"dataframe\">\n",
              "  <thead>\n",
              "    <tr style=\"text-align: right;\">\n",
              "      <th></th>\n",
              "      <th>user_id</th>\n",
              "      <th>nama_bahan</th>\n",
              "    </tr>\n",
              "  </thead>\n",
              "  <tbody>\n",
              "    <tr>\n",
              "      <th>0</th>\n",
              "      <td>1</td>\n",
              "      <td>Strawbery</td>\n",
              "    </tr>\n",
              "    <tr>\n",
              "      <th>1</th>\n",
              "      <td>1</td>\n",
              "      <td>Brokoli</td>\n",
              "    </tr>\n",
              "    <tr>\n",
              "      <th>2</th>\n",
              "      <td>1</td>\n",
              "      <td>Beras Merah</td>\n",
              "    </tr>\n",
              "    <tr>\n",
              "      <th>3</th>\n",
              "      <td>1</td>\n",
              "      <td>Kaldu Ayam</td>\n",
              "    </tr>\n",
              "    <tr>\n",
              "      <th>4</th>\n",
              "      <td>1</td>\n",
              "      <td>Tempe</td>\n",
              "    </tr>\n",
              "  </tbody>\n",
              "</table>\n",
              "</div>\n",
              "      <button class=\"colab-df-convert\" onclick=\"convertToInteractive('df-a06798e4-2b74-4cd5-9e60-bec08934b673')\"\n",
              "              title=\"Convert this dataframe to an interactive table.\"\n",
              "              style=\"display:none;\">\n",
              "        \n",
              "  <svg xmlns=\"http://www.w3.org/2000/svg\" height=\"24px\"viewBox=\"0 0 24 24\"\n",
              "       width=\"24px\">\n",
              "    <path d=\"M0 0h24v24H0V0z\" fill=\"none\"/>\n",
              "    <path d=\"M18.56 5.44l.94 2.06.94-2.06 2.06-.94-2.06-.94-.94-2.06-.94 2.06-2.06.94zm-11 1L8.5 8.5l.94-2.06 2.06-.94-2.06-.94L8.5 2.5l-.94 2.06-2.06.94zm10 10l.94 2.06.94-2.06 2.06-.94-2.06-.94-.94-2.06-.94 2.06-2.06.94z\"/><path d=\"M17.41 7.96l-1.37-1.37c-.4-.4-.92-.59-1.43-.59-.52 0-1.04.2-1.43.59L10.3 9.45l-7.72 7.72c-.78.78-.78 2.05 0 2.83L4 21.41c.39.39.9.59 1.41.59.51 0 1.02-.2 1.41-.59l7.78-7.78 2.81-2.81c.8-.78.8-2.07 0-2.86zM5.41 20L4 18.59l7.72-7.72 1.47 1.35L5.41 20z\"/>\n",
              "  </svg>\n",
              "      </button>\n",
              "      \n",
              "  <style>\n",
              "    .colab-df-container {\n",
              "      display:flex;\n",
              "      flex-wrap:wrap;\n",
              "      gap: 12px;\n",
              "    }\n",
              "\n",
              "    .colab-df-convert {\n",
              "      background-color: #E8F0FE;\n",
              "      border: none;\n",
              "      border-radius: 50%;\n",
              "      cursor: pointer;\n",
              "      display: none;\n",
              "      fill: #1967D2;\n",
              "      height: 32px;\n",
              "      padding: 0 0 0 0;\n",
              "      width: 32px;\n",
              "    }\n",
              "\n",
              "    .colab-df-convert:hover {\n",
              "      background-color: #E2EBFA;\n",
              "      box-shadow: 0px 1px 2px rgba(60, 64, 67, 0.3), 0px 1px 3px 1px rgba(60, 64, 67, 0.15);\n",
              "      fill: #174EA6;\n",
              "    }\n",
              "\n",
              "    [theme=dark] .colab-df-convert {\n",
              "      background-color: #3B4455;\n",
              "      fill: #D2E3FC;\n",
              "    }\n",
              "\n",
              "    [theme=dark] .colab-df-convert:hover {\n",
              "      background-color: #434B5C;\n",
              "      box-shadow: 0px 1px 3px 1px rgba(0, 0, 0, 0.15);\n",
              "      filter: drop-shadow(0px 1px 2px rgba(0, 0, 0, 0.3));\n",
              "      fill: #FFFFFF;\n",
              "    }\n",
              "  </style>\n",
              "\n",
              "      <script>\n",
              "        const buttonEl =\n",
              "          document.querySelector('#df-a06798e4-2b74-4cd5-9e60-bec08934b673 button.colab-df-convert');\n",
              "        buttonEl.style.display =\n",
              "          google.colab.kernel.accessAllowed ? 'block' : 'none';\n",
              "\n",
              "        async function convertToInteractive(key) {\n",
              "          const element = document.querySelector('#df-a06798e4-2b74-4cd5-9e60-bec08934b673');\n",
              "          const dataTable =\n",
              "            await google.colab.kernel.invokeFunction('convertToInteractive',\n",
              "                                                     [key], {});\n",
              "          if (!dataTable) return;\n",
              "\n",
              "          const docLinkHtml = 'Like what you see? Visit the ' +\n",
              "            '<a target=\"_blank\" href=https://colab.research.google.com/notebooks/data_table.ipynb>data table notebook</a>'\n",
              "            + ' to learn more about interactive tables.';\n",
              "          element.innerHTML = '';\n",
              "          dataTable['output_type'] = 'display_data';\n",
              "          await google.colab.output.renderOutput(dataTable, element);\n",
              "          const docLink = document.createElement('div');\n",
              "          docLink.innerHTML = docLinkHtml;\n",
              "          element.appendChild(docLink);\n",
              "        }\n",
              "      </script>\n",
              "    </div>\n",
              "  </div>\n",
              "  "
            ]
          },
          "metadata": {},
          "execution_count": 11
        }
      ]
    },
    {
      "cell_type": "code",
      "source": [
        "nama_bahan = bahan_makanan.pop(\"nama_bahan\")\n",
        "nama_bahan.head()"
      ],
      "metadata": {
        "colab": {
          "base_uri": "https://localhost:8080/",
          "height": 184
        },
        "id": "vhC1roRYMqHl",
        "outputId": "c0f908c9-56ea-4f07-ac88-7b78b5920999"
      },
      "execution_count": 12,
      "outputs": [
        {
          "output_type": "error",
          "ename": "NameError",
          "evalue": "ignored",
          "traceback": [
            "\u001b[0;31m---------------------------------------------------------------------------\u001b[0m",
            "\u001b[0;31mNameError\u001b[0m                                 Traceback (most recent call last)",
            "\u001b[0;32m<ipython-input-12-cae4dab3fa7a>\u001b[0m in \u001b[0;36m<module>\u001b[0;34m()\u001b[0m\n\u001b[0;32m----> 1\u001b[0;31m \u001b[0mnama_bahan\u001b[0m \u001b[0;34m=\u001b[0m \u001b[0mbahan_makanan\u001b[0m\u001b[0;34m.\u001b[0m\u001b[0mpop\u001b[0m\u001b[0;34m(\u001b[0m\u001b[0;34m\"nama_bahan\"\u001b[0m\u001b[0;34m)\u001b[0m\u001b[0;34m\u001b[0m\u001b[0;34m\u001b[0m\u001b[0m\n\u001b[0m\u001b[1;32m      2\u001b[0m \u001b[0mnama_bahan\u001b[0m\u001b[0;34m.\u001b[0m\u001b[0mhead\u001b[0m\u001b[0;34m(\u001b[0m\u001b[0;34m)\u001b[0m\u001b[0;34m\u001b[0m\u001b[0;34m\u001b[0m\u001b[0m\n",
            "\u001b[0;31mNameError\u001b[0m: name 'bahan_makanan' is not defined"
          ]
        }
      ]
    },
    {
      "cell_type": "code",
      "source": [
        "user_id_vocabulary = tf.keras.layers.StringLookup(mask_token=None)\n",
        "user_id_vocabulary.adapt(feedback_bahan.loc[:,\"user_id\"].map(str))\n",
        "\n",
        "\n",
        "nama_bahan_vocabulary = tf.keras.layers.StringLookup(mask_token=None)\n",
        "nama_bahan_vocabulary.adapt(nama_bahan)"
      ],
      "metadata": {
        "id": "d1rejtRJLsxU",
        "colab": {
          "base_uri": "https://localhost:8080/",
          "height": 201
        },
        "outputId": "ff465175-364b-4c96-af5e-a239061d8aee"
      },
      "execution_count": 13,
      "outputs": [
        {
          "output_type": "error",
          "ename": "NameError",
          "evalue": "ignored",
          "traceback": [
            "\u001b[0;31m---------------------------------------------------------------------------\u001b[0m",
            "\u001b[0;31mNameError\u001b[0m                                 Traceback (most recent call last)",
            "\u001b[0;32m<ipython-input-13-c1ae93f7f469>\u001b[0m in \u001b[0;36m<module>\u001b[0;34m()\u001b[0m\n\u001b[1;32m      4\u001b[0m \u001b[0;34m\u001b[0m\u001b[0m\n\u001b[1;32m      5\u001b[0m \u001b[0mnama_bahan_vocabulary\u001b[0m \u001b[0;34m=\u001b[0m \u001b[0mtf\u001b[0m\u001b[0;34m.\u001b[0m\u001b[0mkeras\u001b[0m\u001b[0;34m.\u001b[0m\u001b[0mlayers\u001b[0m\u001b[0;34m.\u001b[0m\u001b[0mStringLookup\u001b[0m\u001b[0;34m(\u001b[0m\u001b[0mmask_token\u001b[0m\u001b[0;34m=\u001b[0m\u001b[0;32mNone\u001b[0m\u001b[0;34m)\u001b[0m\u001b[0;34m\u001b[0m\u001b[0;34m\u001b[0m\u001b[0m\n\u001b[0;32m----> 6\u001b[0;31m \u001b[0mnama_bahan_vocabulary\u001b[0m\u001b[0;34m.\u001b[0m\u001b[0madapt\u001b[0m\u001b[0;34m(\u001b[0m\u001b[0mnama_bahan\u001b[0m\u001b[0;34m)\u001b[0m\u001b[0;34m\u001b[0m\u001b[0;34m\u001b[0m\u001b[0m\n\u001b[0m",
            "\u001b[0;31mNameError\u001b[0m: name 'nama_bahan' is not defined"
          ]
        }
      ]
    },
    {
      "cell_type": "code",
      "source": [
        "class SIMPASIModel(tfrs.Model):\n",
        "  # We derive from a custom base class to help reduce boilerplate. Under the hood,\n",
        "  # these are still plain Keras Models.\n",
        "\n",
        "  def __init__(\n",
        "      self,\n",
        "      user_model: tf.keras.Model,\n",
        "      nama_bahan_model: tf.keras.Model,\n",
        "      task: tfrs.tasks.Retrieval):\n",
        "    super().__init__()\n",
        "\n",
        "    # Set up user and movie representations.\n",
        "    self.user_model = user_model\n",
        "    self.nama_bahan_model = nama_bahan_model\n",
        "\n",
        "    # Set up a retrieval task.\n",
        "    self.task = task\n",
        "\n",
        "  def compute_loss(self, features: Dict[Text, tf.Tensor], training=False) -> tf.Tensor:\n",
        "    # Define how the loss is computed.\n",
        "\n",
        "    user_embeddings = self.user_model(features[\"user_id\"])\n",
        "    nama_bahan_embeddings = self.movie_model(features[\"nama_bahan\"])\n",
        "\n",
        "    return self.task(user_embeddings, nama_bahan_embeddings)"
      ],
      "metadata": {
        "id": "zWXhRffwOvZ8"
      },
      "execution_count": 14,
      "outputs": []
    },
    {
      "cell_type": "code",
      "source": [
        "# Define user and movie models.\n",
        "user_model = tf.keras.Sequential([\n",
        "    user_id_vocabulary,\n",
        "    tf.keras.layers.Embedding(user_id_vocabulary.vocab_size(), 64)\n",
        "])\n",
        "nama_bahan_model = tf.keras.Sequential([\n",
        "    nama_bahan_vocabulary,\n",
        "    tf.keras.layers.Embedding(nama_bahan_vocabulary.vocab_size(), 64)\n",
        "])\n",
        "\n",
        "# Define your objectives.\n",
        "task = tfrs.tasks.Retrieval(metrics=tfrs.metrics.FactorizedTopK(\n",
        "    nama_bahan\n",
        "  )\n",
        ")"
      ],
      "metadata": {
        "colab": {
          "base_uri": "https://localhost:8080/",
          "height": 270
        },
        "id": "J62F35n7PHak",
        "outputId": "d81fb3e9-7987-4992-81f8-e9639fafbd1f"
      },
      "execution_count": 15,
      "outputs": [
        {
          "output_type": "stream",
          "name": "stdout",
          "text": [
            "WARNING:tensorflow:vocab_size is deprecated, please use vocabulary_size.\n",
            "WARNING:tensorflow:vocab_size is deprecated, please use vocabulary_size.\n"
          ]
        },
        {
          "output_type": "error",
          "ename": "NameError",
          "evalue": "ignored",
          "traceback": [
            "\u001b[0;31m---------------------------------------------------------------------------\u001b[0m",
            "\u001b[0;31mNameError\u001b[0m                                 Traceback (most recent call last)",
            "\u001b[0;32m<ipython-input-15-33b6ffb253a9>\u001b[0m in \u001b[0;36m<module>\u001b[0;34m()\u001b[0m\n\u001b[1;32m     11\u001b[0m \u001b[0;31m# Define your objectives.\u001b[0m\u001b[0;34m\u001b[0m\u001b[0;34m\u001b[0m\u001b[0;34m\u001b[0m\u001b[0m\n\u001b[1;32m     12\u001b[0m task = tfrs.tasks.Retrieval(metrics=tfrs.metrics.FactorizedTopK(\n\u001b[0;32m---> 13\u001b[0;31m     \u001b[0mnama_bahan\u001b[0m\u001b[0;34m\u001b[0m\u001b[0;34m\u001b[0m\u001b[0m\n\u001b[0m\u001b[1;32m     14\u001b[0m   )\n\u001b[1;32m     15\u001b[0m )\n",
            "\u001b[0;31mNameError\u001b[0m: name 'nama_bahan' is not defined"
          ]
        }
      ]
    },
    {
      "cell_type": "code",
      "source": [
        "# Create a retrieval model.\n",
        "model = SIMPASIModel(user_model, nama_bahan_model, task)\n",
        "model.compile(optimizer=tf.keras.optimizers.Adagrad(0.5))\n",
        "\n",
        "# Train for 3 epochs.\n",
        "model.fit(feedback_bahan, epochs=3)\n",
        "\n",
        "# Use brute-force search to set up retrieval using the trained representations.\n",
        "index = tfrs.layers.factorized_top_k.BruteForce(model.user_model)\n",
        "index.index_from_dataset(\n",
        "    nama_bahan.batch(100).map(lambda title: (title, model.movie_model(title))))\n",
        "\n",
        "# Get some recommendations.\n",
        "_, titles = index(np.array([\"42\"]))\n",
        "print(f\"Top 3 recommendations for user 42: {titles[0, :3]}\")"
      ],
      "metadata": {
        "colab": {
          "base_uri": "https://localhost:8080/",
          "height": 236
        },
        "id": "Gj_AebWRj4pE",
        "outputId": "1ecb4959-697e-4c3f-ace1-01c4306accee"
      },
      "execution_count": 16,
      "outputs": [
        {
          "output_type": "error",
          "ename": "NameError",
          "evalue": "ignored",
          "traceback": [
            "\u001b[0;31m---------------------------------------------------------------------------\u001b[0m",
            "\u001b[0;31mNameError\u001b[0m                                 Traceback (most recent call last)",
            "\u001b[0;32m<ipython-input-16-b025753fa226>\u001b[0m in \u001b[0;36m<module>\u001b[0;34m()\u001b[0m\n\u001b[1;32m      1\u001b[0m \u001b[0;31m# Create a retrieval model.\u001b[0m\u001b[0;34m\u001b[0m\u001b[0;34m\u001b[0m\u001b[0;34m\u001b[0m\u001b[0m\n\u001b[0;32m----> 2\u001b[0;31m \u001b[0mmodel\u001b[0m \u001b[0;34m=\u001b[0m \u001b[0mSIMPASIModel\u001b[0m\u001b[0;34m(\u001b[0m\u001b[0muser_model\u001b[0m\u001b[0;34m,\u001b[0m \u001b[0mnama_bahan_model\u001b[0m\u001b[0;34m,\u001b[0m \u001b[0mtask\u001b[0m\u001b[0;34m)\u001b[0m\u001b[0;34m\u001b[0m\u001b[0;34m\u001b[0m\u001b[0m\n\u001b[0m\u001b[1;32m      3\u001b[0m \u001b[0mmodel\u001b[0m\u001b[0;34m.\u001b[0m\u001b[0mcompile\u001b[0m\u001b[0;34m(\u001b[0m\u001b[0moptimizer\u001b[0m\u001b[0;34m=\u001b[0m\u001b[0mtf\u001b[0m\u001b[0;34m.\u001b[0m\u001b[0mkeras\u001b[0m\u001b[0;34m.\u001b[0m\u001b[0moptimizers\u001b[0m\u001b[0;34m.\u001b[0m\u001b[0mAdagrad\u001b[0m\u001b[0;34m(\u001b[0m\u001b[0;36m0.5\u001b[0m\u001b[0;34m)\u001b[0m\u001b[0;34m)\u001b[0m\u001b[0;34m\u001b[0m\u001b[0;34m\u001b[0m\u001b[0m\n\u001b[1;32m      4\u001b[0m \u001b[0;34m\u001b[0m\u001b[0m\n\u001b[1;32m      5\u001b[0m \u001b[0;31m# Train for 3 epochs.\u001b[0m\u001b[0;34m\u001b[0m\u001b[0;34m\u001b[0m\u001b[0;34m\u001b[0m\u001b[0m\n",
            "\u001b[0;31mNameError\u001b[0m: name 'task' is not defined"
          ]
        }
      ]
    },
    {
      "cell_type": "code",
      "source": [
        "import pandas as pd\n",
        "\n",
        "bahan_makanan = pd.read_csv(bahan_makanan_dir)\n",
        "bahan_makanan.head()"
      ],
      "metadata": {
        "id": "fAy2gAfgGJvZ",
        "colab": {
          "base_uri": "https://localhost:8080/",
          "height": 206
        },
        "outputId": "34b51980-26e5-4613-bcb8-b087d13b380c"
      },
      "execution_count": 17,
      "outputs": [
        {
          "output_type": "execute_result",
          "data": {
            "text/plain": [
              "   id_bahan    nama_bahan\n",
              "0         0     Agar-Agar\n",
              "1         1     Agar Laut\n",
              "2         2  Akar Tonjong\n",
              "3         3       Alpukat\n",
              "4         4    Ampas Tahu"
            ],
            "text/html": [
              "\n",
              "  <div id=\"df-77e91aea-9556-4dea-b564-e29d1dea6111\">\n",
              "    <div class=\"colab-df-container\">\n",
              "      <div>\n",
              "<style scoped>\n",
              "    .dataframe tbody tr th:only-of-type {\n",
              "        vertical-align: middle;\n",
              "    }\n",
              "\n",
              "    .dataframe tbody tr th {\n",
              "        vertical-align: top;\n",
              "    }\n",
              "\n",
              "    .dataframe thead th {\n",
              "        text-align: right;\n",
              "    }\n",
              "</style>\n",
              "<table border=\"1\" class=\"dataframe\">\n",
              "  <thead>\n",
              "    <tr style=\"text-align: right;\">\n",
              "      <th></th>\n",
              "      <th>id_bahan</th>\n",
              "      <th>nama_bahan</th>\n",
              "    </tr>\n",
              "  </thead>\n",
              "  <tbody>\n",
              "    <tr>\n",
              "      <th>0</th>\n",
              "      <td>0</td>\n",
              "      <td>Agar-Agar</td>\n",
              "    </tr>\n",
              "    <tr>\n",
              "      <th>1</th>\n",
              "      <td>1</td>\n",
              "      <td>Agar Laut</td>\n",
              "    </tr>\n",
              "    <tr>\n",
              "      <th>2</th>\n",
              "      <td>2</td>\n",
              "      <td>Akar Tonjong</td>\n",
              "    </tr>\n",
              "    <tr>\n",
              "      <th>3</th>\n",
              "      <td>3</td>\n",
              "      <td>Alpukat</td>\n",
              "    </tr>\n",
              "    <tr>\n",
              "      <th>4</th>\n",
              "      <td>4</td>\n",
              "      <td>Ampas Tahu</td>\n",
              "    </tr>\n",
              "  </tbody>\n",
              "</table>\n",
              "</div>\n",
              "      <button class=\"colab-df-convert\" onclick=\"convertToInteractive('df-77e91aea-9556-4dea-b564-e29d1dea6111')\"\n",
              "              title=\"Convert this dataframe to an interactive table.\"\n",
              "              style=\"display:none;\">\n",
              "        \n",
              "  <svg xmlns=\"http://www.w3.org/2000/svg\" height=\"24px\"viewBox=\"0 0 24 24\"\n",
              "       width=\"24px\">\n",
              "    <path d=\"M0 0h24v24H0V0z\" fill=\"none\"/>\n",
              "    <path d=\"M18.56 5.44l.94 2.06.94-2.06 2.06-.94-2.06-.94-.94-2.06-.94 2.06-2.06.94zm-11 1L8.5 8.5l.94-2.06 2.06-.94-2.06-.94L8.5 2.5l-.94 2.06-2.06.94zm10 10l.94 2.06.94-2.06 2.06-.94-2.06-.94-.94-2.06-.94 2.06-2.06.94z\"/><path d=\"M17.41 7.96l-1.37-1.37c-.4-.4-.92-.59-1.43-.59-.52 0-1.04.2-1.43.59L10.3 9.45l-7.72 7.72c-.78.78-.78 2.05 0 2.83L4 21.41c.39.39.9.59 1.41.59.51 0 1.02-.2 1.41-.59l7.78-7.78 2.81-2.81c.8-.78.8-2.07 0-2.86zM5.41 20L4 18.59l7.72-7.72 1.47 1.35L5.41 20z\"/>\n",
              "  </svg>\n",
              "      </button>\n",
              "      \n",
              "  <style>\n",
              "    .colab-df-container {\n",
              "      display:flex;\n",
              "      flex-wrap:wrap;\n",
              "      gap: 12px;\n",
              "    }\n",
              "\n",
              "    .colab-df-convert {\n",
              "      background-color: #E8F0FE;\n",
              "      border: none;\n",
              "      border-radius: 50%;\n",
              "      cursor: pointer;\n",
              "      display: none;\n",
              "      fill: #1967D2;\n",
              "      height: 32px;\n",
              "      padding: 0 0 0 0;\n",
              "      width: 32px;\n",
              "    }\n",
              "\n",
              "    .colab-df-convert:hover {\n",
              "      background-color: #E2EBFA;\n",
              "      box-shadow: 0px 1px 2px rgba(60, 64, 67, 0.3), 0px 1px 3px 1px rgba(60, 64, 67, 0.15);\n",
              "      fill: #174EA6;\n",
              "    }\n",
              "\n",
              "    [theme=dark] .colab-df-convert {\n",
              "      background-color: #3B4455;\n",
              "      fill: #D2E3FC;\n",
              "    }\n",
              "\n",
              "    [theme=dark] .colab-df-convert:hover {\n",
              "      background-color: #434B5C;\n",
              "      box-shadow: 0px 1px 3px 1px rgba(0, 0, 0, 0.15);\n",
              "      filter: drop-shadow(0px 1px 2px rgba(0, 0, 0, 0.3));\n",
              "      fill: #FFFFFF;\n",
              "    }\n",
              "  </style>\n",
              "\n",
              "      <script>\n",
              "        const buttonEl =\n",
              "          document.querySelector('#df-77e91aea-9556-4dea-b564-e29d1dea6111 button.colab-df-convert');\n",
              "        buttonEl.style.display =\n",
              "          google.colab.kernel.accessAllowed ? 'block' : 'none';\n",
              "\n",
              "        async function convertToInteractive(key) {\n",
              "          const element = document.querySelector('#df-77e91aea-9556-4dea-b564-e29d1dea6111');\n",
              "          const dataTable =\n",
              "            await google.colab.kernel.invokeFunction('convertToInteractive',\n",
              "                                                     [key], {});\n",
              "          if (!dataTable) return;\n",
              "\n",
              "          const docLinkHtml = 'Like what you see? Visit the ' +\n",
              "            '<a target=\"_blank\" href=https://colab.research.google.com/notebooks/data_table.ipynb>data table notebook</a>'\n",
              "            + ' to learn more about interactive tables.';\n",
              "          element.innerHTML = '';\n",
              "          dataTable['output_type'] = 'display_data';\n",
              "          await google.colab.output.renderOutput(dataTable, element);\n",
              "          const docLink = document.createElement('div');\n",
              "          docLink.innerHTML = docLinkHtml;\n",
              "          element.appendChild(docLink);\n",
              "        }\n",
              "      </script>\n",
              "    </div>\n",
              "  </div>\n",
              "  "
            ]
          },
          "metadata": {},
          "execution_count": 17
        }
      ]
    },
    {
      "cell_type": "code",
      "source": [
        "kombinasi_menu = pd.read_csv(kombinasi_menu_dir)\n",
        "\n",
        "kombinasi_menu[\"malam\"].fillna(\"\", inplace = True) \n",
        "kombinasi_menu[\"snack1\"].fillna(\"\", inplace = True) \n",
        "kombinasi_menu[\"snack2\"].fillna(\"\", inplace = True) \n",
        "\n",
        "kombinasi_menu.head()"
      ],
      "metadata": {
        "colab": {
          "base_uri": "https://localhost:8080/",
          "height": 392
        },
        "id": "AxHB4RgjEpCn",
        "outputId": "620de3cf-e031-4349-bae0-a98a5c126cbb"
      },
      "execution_count": 18,
      "outputs": [
        {
          "output_type": "execute_result",
          "data": {
            "text/plain": [
              "   id_kombinasi                 pagi                siang malam snack1 snack2  \\\n",
              "0             1           Apel Rebus           Apel Rebus                       \n",
              "1             2           Bubur Apel           Bubur Apel                       \n",
              "2             3  Bubur Kacang Polong  Bubur Kacang Polong                       \n",
              "3             4    Bubur Kembang Kol    Bubur Kembang Kol                       \n",
              "4             5           Bubur Plum           Bubur Plum                       \n",
              "\n",
              "   bulan_6  bulan_7_8  bulan_9_11  bulan_12_24  total_energi  total_carbo  \\\n",
              "0        1          0           0            0        144.00        38.12   \n",
              "1        1          0           0            0        144.50        34.52   \n",
              "2        1          0           0            0        127.44        15.60   \n",
              "3        1          0           0            0        143.20        21.12   \n",
              "4        1          0           0            0        128.10        30.88   \n",
              "\n",
              "   total_protein  total_lipid  \n",
              "0           0.72         0.46  \n",
              "1           0.66         0.42  \n",
              "2           3.84         5.52  \n",
              "3           9.46         2.32  \n",
              "4           1.10         0.02  "
            ],
            "text/html": [
              "\n",
              "  <div id=\"df-5ab0e011-509f-4bc2-8021-6714b7ed542e\">\n",
              "    <div class=\"colab-df-container\">\n",
              "      <div>\n",
              "<style scoped>\n",
              "    .dataframe tbody tr th:only-of-type {\n",
              "        vertical-align: middle;\n",
              "    }\n",
              "\n",
              "    .dataframe tbody tr th {\n",
              "        vertical-align: top;\n",
              "    }\n",
              "\n",
              "    .dataframe thead th {\n",
              "        text-align: right;\n",
              "    }\n",
              "</style>\n",
              "<table border=\"1\" class=\"dataframe\">\n",
              "  <thead>\n",
              "    <tr style=\"text-align: right;\">\n",
              "      <th></th>\n",
              "      <th>id_kombinasi</th>\n",
              "      <th>pagi</th>\n",
              "      <th>siang</th>\n",
              "      <th>malam</th>\n",
              "      <th>snack1</th>\n",
              "      <th>snack2</th>\n",
              "      <th>bulan_6</th>\n",
              "      <th>bulan_7_8</th>\n",
              "      <th>bulan_9_11</th>\n",
              "      <th>bulan_12_24</th>\n",
              "      <th>total_energi</th>\n",
              "      <th>total_carbo</th>\n",
              "      <th>total_protein</th>\n",
              "      <th>total_lipid</th>\n",
              "    </tr>\n",
              "  </thead>\n",
              "  <tbody>\n",
              "    <tr>\n",
              "      <th>0</th>\n",
              "      <td>1</td>\n",
              "      <td>Apel Rebus</td>\n",
              "      <td>Apel Rebus</td>\n",
              "      <td></td>\n",
              "      <td></td>\n",
              "      <td></td>\n",
              "      <td>1</td>\n",
              "      <td>0</td>\n",
              "      <td>0</td>\n",
              "      <td>0</td>\n",
              "      <td>144.00</td>\n",
              "      <td>38.12</td>\n",
              "      <td>0.72</td>\n",
              "      <td>0.46</td>\n",
              "    </tr>\n",
              "    <tr>\n",
              "      <th>1</th>\n",
              "      <td>2</td>\n",
              "      <td>Bubur Apel</td>\n",
              "      <td>Bubur Apel</td>\n",
              "      <td></td>\n",
              "      <td></td>\n",
              "      <td></td>\n",
              "      <td>1</td>\n",
              "      <td>0</td>\n",
              "      <td>0</td>\n",
              "      <td>0</td>\n",
              "      <td>144.50</td>\n",
              "      <td>34.52</td>\n",
              "      <td>0.66</td>\n",
              "      <td>0.42</td>\n",
              "    </tr>\n",
              "    <tr>\n",
              "      <th>2</th>\n",
              "      <td>3</td>\n",
              "      <td>Bubur Kacang Polong</td>\n",
              "      <td>Bubur Kacang Polong</td>\n",
              "      <td></td>\n",
              "      <td></td>\n",
              "      <td></td>\n",
              "      <td>1</td>\n",
              "      <td>0</td>\n",
              "      <td>0</td>\n",
              "      <td>0</td>\n",
              "      <td>127.44</td>\n",
              "      <td>15.60</td>\n",
              "      <td>3.84</td>\n",
              "      <td>5.52</td>\n",
              "    </tr>\n",
              "    <tr>\n",
              "      <th>3</th>\n",
              "      <td>4</td>\n",
              "      <td>Bubur Kembang Kol</td>\n",
              "      <td>Bubur Kembang Kol</td>\n",
              "      <td></td>\n",
              "      <td></td>\n",
              "      <td></td>\n",
              "      <td>1</td>\n",
              "      <td>0</td>\n",
              "      <td>0</td>\n",
              "      <td>0</td>\n",
              "      <td>143.20</td>\n",
              "      <td>21.12</td>\n",
              "      <td>9.46</td>\n",
              "      <td>2.32</td>\n",
              "    </tr>\n",
              "    <tr>\n",
              "      <th>4</th>\n",
              "      <td>5</td>\n",
              "      <td>Bubur Plum</td>\n",
              "      <td>Bubur Plum</td>\n",
              "      <td></td>\n",
              "      <td></td>\n",
              "      <td></td>\n",
              "      <td>1</td>\n",
              "      <td>0</td>\n",
              "      <td>0</td>\n",
              "      <td>0</td>\n",
              "      <td>128.10</td>\n",
              "      <td>30.88</td>\n",
              "      <td>1.10</td>\n",
              "      <td>0.02</td>\n",
              "    </tr>\n",
              "  </tbody>\n",
              "</table>\n",
              "</div>\n",
              "      <button class=\"colab-df-convert\" onclick=\"convertToInteractive('df-5ab0e011-509f-4bc2-8021-6714b7ed542e')\"\n",
              "              title=\"Convert this dataframe to an interactive table.\"\n",
              "              style=\"display:none;\">\n",
              "        \n",
              "  <svg xmlns=\"http://www.w3.org/2000/svg\" height=\"24px\"viewBox=\"0 0 24 24\"\n",
              "       width=\"24px\">\n",
              "    <path d=\"M0 0h24v24H0V0z\" fill=\"none\"/>\n",
              "    <path d=\"M18.56 5.44l.94 2.06.94-2.06 2.06-.94-2.06-.94-.94-2.06-.94 2.06-2.06.94zm-11 1L8.5 8.5l.94-2.06 2.06-.94-2.06-.94L8.5 2.5l-.94 2.06-2.06.94zm10 10l.94 2.06.94-2.06 2.06-.94-2.06-.94-.94-2.06-.94 2.06-2.06.94z\"/><path d=\"M17.41 7.96l-1.37-1.37c-.4-.4-.92-.59-1.43-.59-.52 0-1.04.2-1.43.59L10.3 9.45l-7.72 7.72c-.78.78-.78 2.05 0 2.83L4 21.41c.39.39.9.59 1.41.59.51 0 1.02-.2 1.41-.59l7.78-7.78 2.81-2.81c.8-.78.8-2.07 0-2.86zM5.41 20L4 18.59l7.72-7.72 1.47 1.35L5.41 20z\"/>\n",
              "  </svg>\n",
              "      </button>\n",
              "      \n",
              "  <style>\n",
              "    .colab-df-container {\n",
              "      display:flex;\n",
              "      flex-wrap:wrap;\n",
              "      gap: 12px;\n",
              "    }\n",
              "\n",
              "    .colab-df-convert {\n",
              "      background-color: #E8F0FE;\n",
              "      border: none;\n",
              "      border-radius: 50%;\n",
              "      cursor: pointer;\n",
              "      display: none;\n",
              "      fill: #1967D2;\n",
              "      height: 32px;\n",
              "      padding: 0 0 0 0;\n",
              "      width: 32px;\n",
              "    }\n",
              "\n",
              "    .colab-df-convert:hover {\n",
              "      background-color: #E2EBFA;\n",
              "      box-shadow: 0px 1px 2px rgba(60, 64, 67, 0.3), 0px 1px 3px 1px rgba(60, 64, 67, 0.15);\n",
              "      fill: #174EA6;\n",
              "    }\n",
              "\n",
              "    [theme=dark] .colab-df-convert {\n",
              "      background-color: #3B4455;\n",
              "      fill: #D2E3FC;\n",
              "    }\n",
              "\n",
              "    [theme=dark] .colab-df-convert:hover {\n",
              "      background-color: #434B5C;\n",
              "      box-shadow: 0px 1px 3px 1px rgba(0, 0, 0, 0.15);\n",
              "      filter: drop-shadow(0px 1px 2px rgba(0, 0, 0, 0.3));\n",
              "      fill: #FFFFFF;\n",
              "    }\n",
              "  </style>\n",
              "\n",
              "      <script>\n",
              "        const buttonEl =\n",
              "          document.querySelector('#df-5ab0e011-509f-4bc2-8021-6714b7ed542e button.colab-df-convert');\n",
              "        buttonEl.style.display =\n",
              "          google.colab.kernel.accessAllowed ? 'block' : 'none';\n",
              "\n",
              "        async function convertToInteractive(key) {\n",
              "          const element = document.querySelector('#df-5ab0e011-509f-4bc2-8021-6714b7ed542e');\n",
              "          const dataTable =\n",
              "            await google.colab.kernel.invokeFunction('convertToInteractive',\n",
              "                                                     [key], {});\n",
              "          if (!dataTable) return;\n",
              "\n",
              "          const docLinkHtml = 'Like what you see? Visit the ' +\n",
              "            '<a target=\"_blank\" href=https://colab.research.google.com/notebooks/data_table.ipynb>data table notebook</a>'\n",
              "            + ' to learn more about interactive tables.';\n",
              "          element.innerHTML = '';\n",
              "          dataTable['output_type'] = 'display_data';\n",
              "          await google.colab.output.renderOutput(dataTable, element);\n",
              "          const docLink = document.createElement('div');\n",
              "          docLink.innerHTML = docLinkHtml;\n",
              "          element.appendChild(docLink);\n",
              "        }\n",
              "      </script>\n",
              "    </div>\n",
              "  </div>\n",
              "  "
            ]
          },
          "metadata": {},
          "execution_count": 18
        }
      ]
    },
    {
      "cell_type": "code",
      "source": [
        " import csv\n",
        "\n",
        "dict_komposisi = {}\n",
        "\n",
        "with open(komposisi_dir, mode=\"r\") as data_komposisi:\n",
        "  reader = csv.reader(data_komposisi)\n",
        "  keys = next(reader)\n",
        "  for row in reader:\n",
        "    if row[0] not in dict_komposisi.keys():\n",
        "      dict_komposisi[row[0]] = row[2]\n",
        "    else:\n",
        "      dict_komposisi[row[0]] = dict_komposisi[row[0]] + \", \" + row[2]\n",
        "    \n",
        "data = {keys[0]: dict_komposisi.keys(), keys[2]: dict_komposisi.values()}\n",
        "komposisi = pd.DataFrame.from_dict(data)\n",
        "komposisi.head()"
      ],
      "metadata": {
        "colab": {
          "base_uri": "https://localhost:8080/",
          "height": 206
        },
        "id": "flaI5ti-EvaJ",
        "outputId": "2ba5d62e-2573-4379-9804-434a7e236042"
      },
      "execution_count": 19,
      "outputs": [
        {
          "output_type": "execute_result",
          "data": {
            "text/plain": [
              "  id_resep                                         nama_bahan\n",
              "0        0                           Blewah, Melon, Agar-Agar\n",
              "1        1                                               Apel\n",
              "2        2                           Apel, Margarine, Oatmeal\n",
              "3        3                           Tahu Sutra, Pisang, Apel\n",
              "4        4  Hati Ayam, Wortel, Kaldu Ayam, Beras, Ayam, Da..."
            ],
            "text/html": [
              "\n",
              "  <div id=\"df-d257208d-9d4f-4830-b574-71460c6f14dd\">\n",
              "    <div class=\"colab-df-container\">\n",
              "      <div>\n",
              "<style scoped>\n",
              "    .dataframe tbody tr th:only-of-type {\n",
              "        vertical-align: middle;\n",
              "    }\n",
              "\n",
              "    .dataframe tbody tr th {\n",
              "        vertical-align: top;\n",
              "    }\n",
              "\n",
              "    .dataframe thead th {\n",
              "        text-align: right;\n",
              "    }\n",
              "</style>\n",
              "<table border=\"1\" class=\"dataframe\">\n",
              "  <thead>\n",
              "    <tr style=\"text-align: right;\">\n",
              "      <th></th>\n",
              "      <th>id_resep</th>\n",
              "      <th>nama_bahan</th>\n",
              "    </tr>\n",
              "  </thead>\n",
              "  <tbody>\n",
              "    <tr>\n",
              "      <th>0</th>\n",
              "      <td>0</td>\n",
              "      <td>Blewah, Melon, Agar-Agar</td>\n",
              "    </tr>\n",
              "    <tr>\n",
              "      <th>1</th>\n",
              "      <td>1</td>\n",
              "      <td>Apel</td>\n",
              "    </tr>\n",
              "    <tr>\n",
              "      <th>2</th>\n",
              "      <td>2</td>\n",
              "      <td>Apel, Margarine, Oatmeal</td>\n",
              "    </tr>\n",
              "    <tr>\n",
              "      <th>3</th>\n",
              "      <td>3</td>\n",
              "      <td>Tahu Sutra, Pisang, Apel</td>\n",
              "    </tr>\n",
              "    <tr>\n",
              "      <th>4</th>\n",
              "      <td>4</td>\n",
              "      <td>Hati Ayam, Wortel, Kaldu Ayam, Beras, Ayam, Da...</td>\n",
              "    </tr>\n",
              "  </tbody>\n",
              "</table>\n",
              "</div>\n",
              "      <button class=\"colab-df-convert\" onclick=\"convertToInteractive('df-d257208d-9d4f-4830-b574-71460c6f14dd')\"\n",
              "              title=\"Convert this dataframe to an interactive table.\"\n",
              "              style=\"display:none;\">\n",
              "        \n",
              "  <svg xmlns=\"http://www.w3.org/2000/svg\" height=\"24px\"viewBox=\"0 0 24 24\"\n",
              "       width=\"24px\">\n",
              "    <path d=\"M0 0h24v24H0V0z\" fill=\"none\"/>\n",
              "    <path d=\"M18.56 5.44l.94 2.06.94-2.06 2.06-.94-2.06-.94-.94-2.06-.94 2.06-2.06.94zm-11 1L8.5 8.5l.94-2.06 2.06-.94-2.06-.94L8.5 2.5l-.94 2.06-2.06.94zm10 10l.94 2.06.94-2.06 2.06-.94-2.06-.94-.94-2.06-.94 2.06-2.06.94z\"/><path d=\"M17.41 7.96l-1.37-1.37c-.4-.4-.92-.59-1.43-.59-.52 0-1.04.2-1.43.59L10.3 9.45l-7.72 7.72c-.78.78-.78 2.05 0 2.83L4 21.41c.39.39.9.59 1.41.59.51 0 1.02-.2 1.41-.59l7.78-7.78 2.81-2.81c.8-.78.8-2.07 0-2.86zM5.41 20L4 18.59l7.72-7.72 1.47 1.35L5.41 20z\"/>\n",
              "  </svg>\n",
              "      </button>\n",
              "      \n",
              "  <style>\n",
              "    .colab-df-container {\n",
              "      display:flex;\n",
              "      flex-wrap:wrap;\n",
              "      gap: 12px;\n",
              "    }\n",
              "\n",
              "    .colab-df-convert {\n",
              "      background-color: #E8F0FE;\n",
              "      border: none;\n",
              "      border-radius: 50%;\n",
              "      cursor: pointer;\n",
              "      display: none;\n",
              "      fill: #1967D2;\n",
              "      height: 32px;\n",
              "      padding: 0 0 0 0;\n",
              "      width: 32px;\n",
              "    }\n",
              "\n",
              "    .colab-df-convert:hover {\n",
              "      background-color: #E2EBFA;\n",
              "      box-shadow: 0px 1px 2px rgba(60, 64, 67, 0.3), 0px 1px 3px 1px rgba(60, 64, 67, 0.15);\n",
              "      fill: #174EA6;\n",
              "    }\n",
              "\n",
              "    [theme=dark] .colab-df-convert {\n",
              "      background-color: #3B4455;\n",
              "      fill: #D2E3FC;\n",
              "    }\n",
              "\n",
              "    [theme=dark] .colab-df-convert:hover {\n",
              "      background-color: #434B5C;\n",
              "      box-shadow: 0px 1px 3px 1px rgba(0, 0, 0, 0.15);\n",
              "      filter: drop-shadow(0px 1px 2px rgba(0, 0, 0, 0.3));\n",
              "      fill: #FFFFFF;\n",
              "    }\n",
              "  </style>\n",
              "\n",
              "      <script>\n",
              "        const buttonEl =\n",
              "          document.querySelector('#df-d257208d-9d4f-4830-b574-71460c6f14dd button.colab-df-convert');\n",
              "        buttonEl.style.display =\n",
              "          google.colab.kernel.accessAllowed ? 'block' : 'none';\n",
              "\n",
              "        async function convertToInteractive(key) {\n",
              "          const element = document.querySelector('#df-d257208d-9d4f-4830-b574-71460c6f14dd');\n",
              "          const dataTable =\n",
              "            await google.colab.kernel.invokeFunction('convertToInteractive',\n",
              "                                                     [key], {});\n",
              "          if (!dataTable) return;\n",
              "\n",
              "          const docLinkHtml = 'Like what you see? Visit the ' +\n",
              "            '<a target=\"_blank\" href=https://colab.research.google.com/notebooks/data_table.ipynb>data table notebook</a>'\n",
              "            + ' to learn more about interactive tables.';\n",
              "          element.innerHTML = '';\n",
              "          dataTable['output_type'] = 'display_data';\n",
              "          await google.colab.output.renderOutput(dataTable, element);\n",
              "          const docLink = document.createElement('div');\n",
              "          docLink.innerHTML = docLinkHtml;\n",
              "          element.appendChild(docLink);\n",
              "        }\n",
              "      </script>\n",
              "    </div>\n",
              "  </div>\n",
              "  "
            ]
          },
          "metadata": {},
          "execution_count": 19
        }
      ]
    },
    {
      "cell_type": "code",
      "source": [
        "resep = pd.read_csv(resep_dir)\n",
        "resep.head()"
      ],
      "metadata": {
        "colab": {
          "base_uri": "https://localhost:8080/",
          "height": 206
        },
        "id": "McpJ6lMfExmu",
        "outputId": "454edee9-e8b9-4bbd-c0b1-59b2be969155"
      },
      "execution_count": 20,
      "outputs": [
        {
          "output_type": "execute_result",
          "data": {
            "text/plain": [
              "   id_resep            nama_resep\n",
              "0         0  Agar-agar Isi Blewah\n",
              "1         1            Apel Rebus\n",
              "2         2         Apple Crumble\n",
              "3         3          Apricot Tahu\n",
              "4         4      Ayam Zukini Hati"
            ],
            "text/html": [
              "\n",
              "  <div id=\"df-4000836b-ac45-4ea7-a2e8-6dc77033c3d6\">\n",
              "    <div class=\"colab-df-container\">\n",
              "      <div>\n",
              "<style scoped>\n",
              "    .dataframe tbody tr th:only-of-type {\n",
              "        vertical-align: middle;\n",
              "    }\n",
              "\n",
              "    .dataframe tbody tr th {\n",
              "        vertical-align: top;\n",
              "    }\n",
              "\n",
              "    .dataframe thead th {\n",
              "        text-align: right;\n",
              "    }\n",
              "</style>\n",
              "<table border=\"1\" class=\"dataframe\">\n",
              "  <thead>\n",
              "    <tr style=\"text-align: right;\">\n",
              "      <th></th>\n",
              "      <th>id_resep</th>\n",
              "      <th>nama_resep</th>\n",
              "    </tr>\n",
              "  </thead>\n",
              "  <tbody>\n",
              "    <tr>\n",
              "      <th>0</th>\n",
              "      <td>0</td>\n",
              "      <td>Agar-agar Isi Blewah</td>\n",
              "    </tr>\n",
              "    <tr>\n",
              "      <th>1</th>\n",
              "      <td>1</td>\n",
              "      <td>Apel Rebus</td>\n",
              "    </tr>\n",
              "    <tr>\n",
              "      <th>2</th>\n",
              "      <td>2</td>\n",
              "      <td>Apple Crumble</td>\n",
              "    </tr>\n",
              "    <tr>\n",
              "      <th>3</th>\n",
              "      <td>3</td>\n",
              "      <td>Apricot Tahu</td>\n",
              "    </tr>\n",
              "    <tr>\n",
              "      <th>4</th>\n",
              "      <td>4</td>\n",
              "      <td>Ayam Zukini Hati</td>\n",
              "    </tr>\n",
              "  </tbody>\n",
              "</table>\n",
              "</div>\n",
              "      <button class=\"colab-df-convert\" onclick=\"convertToInteractive('df-4000836b-ac45-4ea7-a2e8-6dc77033c3d6')\"\n",
              "              title=\"Convert this dataframe to an interactive table.\"\n",
              "              style=\"display:none;\">\n",
              "        \n",
              "  <svg xmlns=\"http://www.w3.org/2000/svg\" height=\"24px\"viewBox=\"0 0 24 24\"\n",
              "       width=\"24px\">\n",
              "    <path d=\"M0 0h24v24H0V0z\" fill=\"none\"/>\n",
              "    <path d=\"M18.56 5.44l.94 2.06.94-2.06 2.06-.94-2.06-.94-.94-2.06-.94 2.06-2.06.94zm-11 1L8.5 8.5l.94-2.06 2.06-.94-2.06-.94L8.5 2.5l-.94 2.06-2.06.94zm10 10l.94 2.06.94-2.06 2.06-.94-2.06-.94-.94-2.06-.94 2.06-2.06.94z\"/><path d=\"M17.41 7.96l-1.37-1.37c-.4-.4-.92-.59-1.43-.59-.52 0-1.04.2-1.43.59L10.3 9.45l-7.72 7.72c-.78.78-.78 2.05 0 2.83L4 21.41c.39.39.9.59 1.41.59.51 0 1.02-.2 1.41-.59l7.78-7.78 2.81-2.81c.8-.78.8-2.07 0-2.86zM5.41 20L4 18.59l7.72-7.72 1.47 1.35L5.41 20z\"/>\n",
              "  </svg>\n",
              "      </button>\n",
              "      \n",
              "  <style>\n",
              "    .colab-df-container {\n",
              "      display:flex;\n",
              "      flex-wrap:wrap;\n",
              "      gap: 12px;\n",
              "    }\n",
              "\n",
              "    .colab-df-convert {\n",
              "      background-color: #E8F0FE;\n",
              "      border: none;\n",
              "      border-radius: 50%;\n",
              "      cursor: pointer;\n",
              "      display: none;\n",
              "      fill: #1967D2;\n",
              "      height: 32px;\n",
              "      padding: 0 0 0 0;\n",
              "      width: 32px;\n",
              "    }\n",
              "\n",
              "    .colab-df-convert:hover {\n",
              "      background-color: #E2EBFA;\n",
              "      box-shadow: 0px 1px 2px rgba(60, 64, 67, 0.3), 0px 1px 3px 1px rgba(60, 64, 67, 0.15);\n",
              "      fill: #174EA6;\n",
              "    }\n",
              "\n",
              "    [theme=dark] .colab-df-convert {\n",
              "      background-color: #3B4455;\n",
              "      fill: #D2E3FC;\n",
              "    }\n",
              "\n",
              "    [theme=dark] .colab-df-convert:hover {\n",
              "      background-color: #434B5C;\n",
              "      box-shadow: 0px 1px 3px 1px rgba(0, 0, 0, 0.15);\n",
              "      filter: drop-shadow(0px 1px 2px rgba(0, 0, 0, 0.3));\n",
              "      fill: #FFFFFF;\n",
              "    }\n",
              "  </style>\n",
              "\n",
              "      <script>\n",
              "        const buttonEl =\n",
              "          document.querySelector('#df-4000836b-ac45-4ea7-a2e8-6dc77033c3d6 button.colab-df-convert');\n",
              "        buttonEl.style.display =\n",
              "          google.colab.kernel.accessAllowed ? 'block' : 'none';\n",
              "\n",
              "        async function convertToInteractive(key) {\n",
              "          const element = document.querySelector('#df-4000836b-ac45-4ea7-a2e8-6dc77033c3d6');\n",
              "          const dataTable =\n",
              "            await google.colab.kernel.invokeFunction('convertToInteractive',\n",
              "                                                     [key], {});\n",
              "          if (!dataTable) return;\n",
              "\n",
              "          const docLinkHtml = 'Like what you see? Visit the ' +\n",
              "            '<a target=\"_blank\" href=https://colab.research.google.com/notebooks/data_table.ipynb>data table notebook</a>'\n",
              "            + ' to learn more about interactive tables.';\n",
              "          element.innerHTML = '';\n",
              "          dataTable['output_type'] = 'display_data';\n",
              "          await google.colab.output.renderOutput(dataTable, element);\n",
              "          const docLink = document.createElement('div');\n",
              "          docLink.innerHTML = docLinkHtml;\n",
              "          element.appendChild(docLink);\n",
              "        }\n",
              "      </script>\n",
              "    </div>\n",
              "  </div>\n",
              "  "
            ]
          },
          "metadata": {},
          "execution_count": 20
        }
      ]
    },
    {
      "cell_type": "code",
      "source": [
        "#komposisi_resep = komposisi.set_index('id_resep').join(resep.set_index('id_resep'))\n",
        "#komposisi_resep = pd.concat([komposisi, resep], ignore_index=True)\n",
        "#komposisi_resep = pd.merge(komposisi, resep, how='inner', left = 'id_resep', right = 'id_resep')\n",
        "komposisi['id_resep']=komposisi['id_resep'].astype(int)\n",
        "komposisi_resep = komposisi.merge(resep, on=['id_resep', 'id_resep'], how='left')\n",
        "#komposisi_resep\n",
        "\n",
        "del(komposisi_resep['id_resep'])\n",
        "komposisi_resep = komposisi_resep[['nama_resep', 'nama_bahan']]\n",
        "komposisi_resep\n"
      ],
      "metadata": {
        "colab": {
          "base_uri": "https://localhost:8080/",
          "height": 424
        },
        "id": "eC04ruoBMtBC",
        "outputId": "699a7894-934e-4efa-e05e-4e7c1272a289"
      },
      "execution_count": 28,
      "outputs": [
        {
          "output_type": "execute_result",
          "data": {
            "text/plain": [
              "                nama_resep                                         nama_bahan\n",
              "0     Agar-agar Isi Blewah                           Blewah, Melon, Agar-Agar\n",
              "1               Apel Rebus                                               Apel\n",
              "2            Apple Crumble                           Apel, Margarine, Oatmeal\n",
              "3             Apricot Tahu                           Tahu Sutra, Pisang, Apel\n",
              "4         Ayam Zukini Hati  Hati Ayam, Wortel, Kaldu Ayam, Beras, Ayam, Da...\n",
              "..                     ...                                                ...\n",
              "155             Tim Saring  Beras, Kaldu Ayam, Ikan Salmon, Beras Merah, W...\n",
              "156        Tumis Ikan Dori  Bawang Merah, Wortel, Ketimun, Bawang Putih, T...\n",
              "157            Tuna Mornay  Saus Pasta, Ikan Tuna, Roti Tawar, Keju, Krim ...\n",
              "158       Yoghurt Buah Pop                                 Strawbery, Yoghurt\n",
              "159  Yoghurt Buah Smoothie                                Yoghurt, Kiwi, Susu\n",
              "\n",
              "[160 rows x 2 columns]"
            ],
            "text/html": [
              "\n",
              "  <div id=\"df-146c4a87-9825-4ca4-b2c7-0e14e5fde2fb\">\n",
              "    <div class=\"colab-df-container\">\n",
              "      <div>\n",
              "<style scoped>\n",
              "    .dataframe tbody tr th:only-of-type {\n",
              "        vertical-align: middle;\n",
              "    }\n",
              "\n",
              "    .dataframe tbody tr th {\n",
              "        vertical-align: top;\n",
              "    }\n",
              "\n",
              "    .dataframe thead th {\n",
              "        text-align: right;\n",
              "    }\n",
              "</style>\n",
              "<table border=\"1\" class=\"dataframe\">\n",
              "  <thead>\n",
              "    <tr style=\"text-align: right;\">\n",
              "      <th></th>\n",
              "      <th>nama_resep</th>\n",
              "      <th>nama_bahan</th>\n",
              "    </tr>\n",
              "  </thead>\n",
              "  <tbody>\n",
              "    <tr>\n",
              "      <th>0</th>\n",
              "      <td>Agar-agar Isi Blewah</td>\n",
              "      <td>Blewah, Melon, Agar-Agar</td>\n",
              "    </tr>\n",
              "    <tr>\n",
              "      <th>1</th>\n",
              "      <td>Apel Rebus</td>\n",
              "      <td>Apel</td>\n",
              "    </tr>\n",
              "    <tr>\n",
              "      <th>2</th>\n",
              "      <td>Apple Crumble</td>\n",
              "      <td>Apel, Margarine, Oatmeal</td>\n",
              "    </tr>\n",
              "    <tr>\n",
              "      <th>3</th>\n",
              "      <td>Apricot Tahu</td>\n",
              "      <td>Tahu Sutra, Pisang, Apel</td>\n",
              "    </tr>\n",
              "    <tr>\n",
              "      <th>4</th>\n",
              "      <td>Ayam Zukini Hati</td>\n",
              "      <td>Hati Ayam, Wortel, Kaldu Ayam, Beras, Ayam, Da...</td>\n",
              "    </tr>\n",
              "    <tr>\n",
              "      <th>...</th>\n",
              "      <td>...</td>\n",
              "      <td>...</td>\n",
              "    </tr>\n",
              "    <tr>\n",
              "      <th>155</th>\n",
              "      <td>Tim Saring</td>\n",
              "      <td>Beras, Kaldu Ayam, Ikan Salmon, Beras Merah, W...</td>\n",
              "    </tr>\n",
              "    <tr>\n",
              "      <th>156</th>\n",
              "      <td>Tumis Ikan Dori</td>\n",
              "      <td>Bawang Merah, Wortel, Ketimun, Bawang Putih, T...</td>\n",
              "    </tr>\n",
              "    <tr>\n",
              "      <th>157</th>\n",
              "      <td>Tuna Mornay</td>\n",
              "      <td>Saus Pasta, Ikan Tuna, Roti Tawar, Keju, Krim ...</td>\n",
              "    </tr>\n",
              "    <tr>\n",
              "      <th>158</th>\n",
              "      <td>Yoghurt Buah Pop</td>\n",
              "      <td>Strawbery, Yoghurt</td>\n",
              "    </tr>\n",
              "    <tr>\n",
              "      <th>159</th>\n",
              "      <td>Yoghurt Buah Smoothie</td>\n",
              "      <td>Yoghurt, Kiwi, Susu</td>\n",
              "    </tr>\n",
              "  </tbody>\n",
              "</table>\n",
              "<p>160 rows × 2 columns</p>\n",
              "</div>\n",
              "      <button class=\"colab-df-convert\" onclick=\"convertToInteractive('df-146c4a87-9825-4ca4-b2c7-0e14e5fde2fb')\"\n",
              "              title=\"Convert this dataframe to an interactive table.\"\n",
              "              style=\"display:none;\">\n",
              "        \n",
              "  <svg xmlns=\"http://www.w3.org/2000/svg\" height=\"24px\"viewBox=\"0 0 24 24\"\n",
              "       width=\"24px\">\n",
              "    <path d=\"M0 0h24v24H0V0z\" fill=\"none\"/>\n",
              "    <path d=\"M18.56 5.44l.94 2.06.94-2.06 2.06-.94-2.06-.94-.94-2.06-.94 2.06-2.06.94zm-11 1L8.5 8.5l.94-2.06 2.06-.94-2.06-.94L8.5 2.5l-.94 2.06-2.06.94zm10 10l.94 2.06.94-2.06 2.06-.94-2.06-.94-.94-2.06-.94 2.06-2.06.94z\"/><path d=\"M17.41 7.96l-1.37-1.37c-.4-.4-.92-.59-1.43-.59-.52 0-1.04.2-1.43.59L10.3 9.45l-7.72 7.72c-.78.78-.78 2.05 0 2.83L4 21.41c.39.39.9.59 1.41.59.51 0 1.02-.2 1.41-.59l7.78-7.78 2.81-2.81c.8-.78.8-2.07 0-2.86zM5.41 20L4 18.59l7.72-7.72 1.47 1.35L5.41 20z\"/>\n",
              "  </svg>\n",
              "      </button>\n",
              "      \n",
              "  <style>\n",
              "    .colab-df-container {\n",
              "      display:flex;\n",
              "      flex-wrap:wrap;\n",
              "      gap: 12px;\n",
              "    }\n",
              "\n",
              "    .colab-df-convert {\n",
              "      background-color: #E8F0FE;\n",
              "      border: none;\n",
              "      border-radius: 50%;\n",
              "      cursor: pointer;\n",
              "      display: none;\n",
              "      fill: #1967D2;\n",
              "      height: 32px;\n",
              "      padding: 0 0 0 0;\n",
              "      width: 32px;\n",
              "    }\n",
              "\n",
              "    .colab-df-convert:hover {\n",
              "      background-color: #E2EBFA;\n",
              "      box-shadow: 0px 1px 2px rgba(60, 64, 67, 0.3), 0px 1px 3px 1px rgba(60, 64, 67, 0.15);\n",
              "      fill: #174EA6;\n",
              "    }\n",
              "\n",
              "    [theme=dark] .colab-df-convert {\n",
              "      background-color: #3B4455;\n",
              "      fill: #D2E3FC;\n",
              "    }\n",
              "\n",
              "    [theme=dark] .colab-df-convert:hover {\n",
              "      background-color: #434B5C;\n",
              "      box-shadow: 0px 1px 3px 1px rgba(0, 0, 0, 0.15);\n",
              "      filter: drop-shadow(0px 1px 2px rgba(0, 0, 0, 0.3));\n",
              "      fill: #FFFFFF;\n",
              "    }\n",
              "  </style>\n",
              "\n",
              "      <script>\n",
              "        const buttonEl =\n",
              "          document.querySelector('#df-146c4a87-9825-4ca4-b2c7-0e14e5fde2fb button.colab-df-convert');\n",
              "        buttonEl.style.display =\n",
              "          google.colab.kernel.accessAllowed ? 'block' : 'none';\n",
              "\n",
              "        async function convertToInteractive(key) {\n",
              "          const element = document.querySelector('#df-146c4a87-9825-4ca4-b2c7-0e14e5fde2fb');\n",
              "          const dataTable =\n",
              "            await google.colab.kernel.invokeFunction('convertToInteractive',\n",
              "                                                     [key], {});\n",
              "          if (!dataTable) return;\n",
              "\n",
              "          const docLinkHtml = 'Like what you see? Visit the ' +\n",
              "            '<a target=\"_blank\" href=https://colab.research.google.com/notebooks/data_table.ipynb>data table notebook</a>'\n",
              "            + ' to learn more about interactive tables.';\n",
              "          element.innerHTML = '';\n",
              "          dataTable['output_type'] = 'display_data';\n",
              "          await google.colab.output.renderOutput(dataTable, element);\n",
              "          const docLink = document.createElement('div');\n",
              "          docLink.innerHTML = docLinkHtml;\n",
              "          element.appendChild(docLink);\n",
              "        }\n",
              "      </script>\n",
              "    </div>\n",
              "  </div>\n",
              "  "
            ]
          },
          "metadata": {},
          "execution_count": 28
        }
      ]
    },
    {
      "cell_type": "markdown",
      "source": [
        "# Simulasi Aplikasi SIMPASI - User Baru"
      ],
      "metadata": {
        "id": "BUOwZ9pknOJk"
      }
    },
    {
      "cell_type": "markdown",
      "source": [
        "Pada user baru, customer akan melewati tahap-tahap berikut akan berupa:\n",
        "\n",
        "1.   Log-in/Sign-up dengan email dan passsword\n",
        "2.   Meminta data bayi berupa nama, tanggal lahir, bahan yang pernah dicoba sebelumnya (suka/tidak suka/alergi)\n",
        "3.   Mendapatkan rekomendasi makanan dari riwayat makanan yang disukai/tidak disukai/alergi\n",
        "\n",
        "\n"
      ],
      "metadata": {
        "id": "HUAk9ShCnWd7"
      }
    },
    {
      "cell_type": "markdown",
      "source": [
        "Sehingga, sistem rekomendasi harus melakukan:\n",
        "\n",
        "\n",
        "1.   Meminta username/email/password untuk masuk ke akun\n",
        "2.   Meminta nama, tanggal lahir, bahan yang pernah dicoba sebelumnya *(suka/tidak suka/alergi)\n",
        "3.   Menghitung umur anak\n",
        "4.   Menghitung EER anak\n",
        "5.   Memfilter bahan berdasarkan alergi\n",
        "6.   Memfilter resep berdasarkan umur dan EER\n",
        "7.   Menampilkan kombinasi menu dari resep yang cocok\n",
        "\n"
      ],
      "metadata": {
        "id": "UEfUBqHgtCAG"
      }
    },
    {
      "cell_type": "markdown",
      "source": [
        "\n",
        "## I. *Contoh Profil User*"
      ],
      "metadata": {
        "id": "y0B3bAQ8m9Tk"
      }
    },
    {
      "cell_type": "code",
      "source": [
        "#Contoh\n",
        "username = \"brianjang\"\n",
        "password = \"d8d807375d408c888d0ff9974a82edf4971ed91c0810ec4daa5e47b91bf0de76\"\n",
        "email = \"ujang@mail.com\"\n",
        "nama_user = \"Ujang Ramabrian\"\n",
        "nama_bayi = \"Biyan\"\n",
        "tanggal_lahir = \"2021/07/03\"\n",
        "berat_badan = 6.9"
      ],
      "metadata": {
        "id": "TWhr29LFqa3Y"
      },
      "execution_count": 29,
      "outputs": []
    },
    {
      "cell_type": "markdown",
      "source": [
        "## II. Cek 8 Bahan (Suka, Tidak Suka, Alergi, Tidak tahu)\n"
      ],
      "metadata": {
        "id": "zpqwC-QdFQaK"
      }
    },
    {
      "cell_type": "code",
      "source": [
        "#Menampilkan Nama Bahan Berdasarkan ID\n",
        "def ingredient_name(id):\n",
        "  return bahan_makanan.loc[id, 'nama_bahan']\n",
        "\n",
        "#driver code\n",
        "print(ingredient_name(1))"
      ],
      "metadata": {
        "id": "KRU3hlUFdJTl",
        "colab": {
          "base_uri": "https://localhost:8080/"
        },
        "outputId": "3f1f6050-e8d3-4200-8658-940a3ab6877a"
      },
      "execution_count": 30,
      "outputs": [
        {
          "output_type": "stream",
          "name": "stdout",
          "text": [
            "Agar Laut\n"
          ]
        }
      ]
    },
    {
      "cell_type": "code",
      "source": [
        "#Bahan Alergi Umum: Susu, Telur Ayam, Telur Bebek, Kacang Tanah, Kacang Kedelai, Udang, Kerang, Cumi-Cumi, Tepung Beras, Roti, Daging Sapi, Pisang, Alpukat\n",
        "tes_bahan = [\"Susu\", \"Telur Ayam\", \"Telur Bebek\", \"Kacang Tanah\", \"Kacang Kedelai\", \"Udang\", \"Kerang\", \"Cumi-Cumi\", \"Tepung Beras\", \"Roti Tawar\", \"Daging Sapi\", \"Pisang\", \"Alpukat\"]\n",
        "jumlah_tes = 8\n",
        "alergi = []\n",
        "tidak_suka = []\n",
        "suka = []\n",
        "tidak_tahu = []\n",
        "\n",
        "import random\n",
        "tes_bahan_random = random.sample(tes_bahan, jumlah_tes)\n",
        "\n",
        "#Meminta 8 Feedback Bahan dari User\n",
        "print(\"Pilih Suka/Tidak Suka/Alergi/Tidak Tahu Pada Bahan Yang Ditampilkan\")\n",
        "print(\"Ketik 1 = Suka, 2 = Tidak Suka, 3 = Alergi, 4 = Tidak Tahu\")\n",
        "for i in range(len(tes_bahan_random)):\n",
        "\n",
        "  x = int(input(tes_bahan_random[i] + \": \"))\n",
        "\n",
        "  if x == 2:\n",
        "    tidak_suka.append(tes_bahan_random[i])\n",
        "  elif x == 3:\n",
        "    alergi.append(tes_bahan_random[i])\n",
        "  elif x == 4:\n",
        "    tidak_tahu.append(tes_bahan_random[i])\n",
        "  elif x == 1:\n",
        "    suka.append(tes_bahan_random[i])\n",
        "\n",
        "print(tidak_suka)\n",
        "print(suka)\n",
        "print(tidak_tahu)\n",
        "print(alergi)"
      ],
      "metadata": {
        "id": "OTmboNvBFPEF",
        "colab": {
          "base_uri": "https://localhost:8080/"
        },
        "outputId": "4f9a31b6-11dd-46d6-c27f-df9facd182cb"
      },
      "execution_count": 31,
      "outputs": [
        {
          "output_type": "stream",
          "name": "stdout",
          "text": [
            "Pilih Suka/Tidak Suka/Alergi/Tidak Tahu Pada Bahan Yang Ditampilkan\n",
            "Ketik 1 = Suka, 2 = Tidak Suka, 3 = Alergi, 4 = Tidak Tahu\n",
            "Kerang: 3\n",
            "Tepung Beras: 1\n",
            "Telur Bebek: 2\n",
            "Daging Sapi: 1\n",
            "Kacang Kedelai: 4\n",
            "Udang: 2\n",
            "Telur Ayam: 3\n",
            "Cumi-Cumi: 2\n",
            "['Telur Bebek', 'Udang', 'Cumi-Cumi']\n",
            "['Tepung Beras', 'Daging Sapi']\n",
            "['Kacang Kedelai']\n",
            "['Kerang', 'Telur Ayam']\n"
          ]
        }
      ]
    },
    {
      "cell_type": "markdown",
      "source": [
        "## III. *Hitung Umur dan EER*"
      ],
      "metadata": {
        "id": "aM6RU_kZLpQI"
      }
    },
    {
      "cell_type": "code",
      "source": [
        "from datetime import datetime\n",
        "from datetime import date\n",
        "\n",
        "#Fungsi Menghitung Umur User\n",
        "def ageCalculator(birthdate):\n",
        "  my_birthdate = datetime.strptime(birthdate, \"%Y/%m/%d\")\n",
        "  my_year = my_birthdate.year\n",
        "  my_month = my_birthdate.month\n",
        "  my_day = my_birthdate.year\n",
        "  \n",
        "  born = my_birthdate.date()\n",
        "  today = date.today()\n",
        "  \n",
        "  years = ((today-born).total_seconds()/ (365.242*24*3600))\n",
        "  yearsInt = int(years)\n",
        "  months = (years-yearsInt)*12\n",
        "  monthsInt = int(months)\n",
        "  days = (months-monthsInt)*(365.242/12)\n",
        "  daysInt = int(days)\n",
        "\n",
        "  return yearsInt, monthsInt, daysInt\n",
        "  \n",
        "\n",
        "#Fungsi Menghitung EER (Estimated Energy Requirements)\n",
        "def eerCalculator(year, month, day, weight):\n",
        "  if month == 6:\n",
        "    EER = (89*weight - 100) + 56\n",
        "  elif 7 <= month <= 12:\n",
        "    EER = (89*weight - 100) + 22\n",
        "  elif 13 <= month <= 35:\n",
        "    EER = (89*weight - 100) + 20\n",
        "  \n",
        "  return EER\n",
        "  \n",
        "#Driver Code\n",
        "#Cari Umur User (Tahun, Bulan, Tanggal)\n",
        "tahun, bulan, hari = ageCalculator(tanggal_lahir)\n",
        "print(\"Sekarang kamu berumur {0} tahun, {1} bulan, {2} hari.\".format(tahun , bulan, hari))\n",
        "\n",
        "#Cari EER User (+-10%)\n",
        "eer = eerCalculator(tahun, bulan, hari, berat_badan)\n",
        "print(\"Kebutuhan energi harianmu: {0} - {1} Joule\".format(int(eer*0.9), int(eer*1.1)))"
      ],
      "metadata": {
        "id": "sm428CUsLvwl",
        "colab": {
          "base_uri": "https://localhost:8080/"
        },
        "outputId": "bf005fc1-a4bd-40b9-fdaa-08d7b2facec1"
      },
      "execution_count": 32,
      "outputs": [
        {
          "output_type": "stream",
          "name": "stdout",
          "text": [
            "Sekarang kamu berumur 0 tahun, 10 bulan, 26 hari.\n",
            "Kebutuhan energi harianmu: 482 - 589 Joule\n"
          ]
        }
      ]
    },
    {
      "cell_type": "markdown",
      "source": [
        "## IV. *Filtering Resep Berdasarkan Alergi*"
      ],
      "metadata": {
        "id": "Fp6D6s5mLkLn"
      }
    },
    {
      "cell_type": "code",
      "source": [
        "#pattern = '|'.join(alergi)\n",
        "pattern = '|'.join([f'(?i){bahan_alergi}' for bahan_alergi in suka])\n",
        "#frame.a.str.contains(pattern)\n",
        "#for i in alergi:\n",
        "  #mask = (komposisi['nama_bahan'] == 'Agar-Agar')\n",
        "bahan = [\"Apel\"]\n",
        "#mask = komposisi['nama_bahan'].isin(bahan)\n",
        "  #mask = menu_filter.loc[menu_filter['nama_bahan'] != i]\n",
        "mask = komposisi_resep.nama_bahan.str.contains(pattern)\n",
        "komposisi_resep[~mask]"
      ],
      "metadata": {
        "id": "Vff_38nSSk_F",
        "colab": {
          "base_uri": "https://localhost:8080/",
          "height": 424
        },
        "outputId": "ec8052e3-dd00-4bb1-9345-cd7e0777db78"
      },
      "execution_count": 35,
      "outputs": [
        {
          "output_type": "execute_result",
          "data": {
            "text/plain": [
              "                nama_resep                                         nama_bahan\n",
              "0     Agar-agar Isi Blewah                           Blewah, Melon, Agar-Agar\n",
              "1               Apel Rebus                                               Apel\n",
              "2            Apple Crumble                           Apel, Margarine, Oatmeal\n",
              "3             Apricot Tahu                           Tahu Sutra, Pisang, Apel\n",
              "4         Ayam Zukini Hati  Hati Ayam, Wortel, Kaldu Ayam, Beras, Ayam, Da...\n",
              "..                     ...                                                ...\n",
              "155             Tim Saring  Beras, Kaldu Ayam, Ikan Salmon, Beras Merah, W...\n",
              "156        Tumis Ikan Dori  Bawang Merah, Wortel, Ketimun, Bawang Putih, T...\n",
              "157            Tuna Mornay  Saus Pasta, Ikan Tuna, Roti Tawar, Keju, Krim ...\n",
              "158       Yoghurt Buah Pop                                 Strawbery, Yoghurt\n",
              "159  Yoghurt Buah Smoothie                                Yoghurt, Kiwi, Susu\n",
              "\n",
              "[151 rows x 2 columns]"
            ],
            "text/html": [
              "\n",
              "  <div id=\"df-709c4504-ba7f-4b6e-be30-fdfd0693d5a1\">\n",
              "    <div class=\"colab-df-container\">\n",
              "      <div>\n",
              "<style scoped>\n",
              "    .dataframe tbody tr th:only-of-type {\n",
              "        vertical-align: middle;\n",
              "    }\n",
              "\n",
              "    .dataframe tbody tr th {\n",
              "        vertical-align: top;\n",
              "    }\n",
              "\n",
              "    .dataframe thead th {\n",
              "        text-align: right;\n",
              "    }\n",
              "</style>\n",
              "<table border=\"1\" class=\"dataframe\">\n",
              "  <thead>\n",
              "    <tr style=\"text-align: right;\">\n",
              "      <th></th>\n",
              "      <th>nama_resep</th>\n",
              "      <th>nama_bahan</th>\n",
              "    </tr>\n",
              "  </thead>\n",
              "  <tbody>\n",
              "    <tr>\n",
              "      <th>0</th>\n",
              "      <td>Agar-agar Isi Blewah</td>\n",
              "      <td>Blewah, Melon, Agar-Agar</td>\n",
              "    </tr>\n",
              "    <tr>\n",
              "      <th>1</th>\n",
              "      <td>Apel Rebus</td>\n",
              "      <td>Apel</td>\n",
              "    </tr>\n",
              "    <tr>\n",
              "      <th>2</th>\n",
              "      <td>Apple Crumble</td>\n",
              "      <td>Apel, Margarine, Oatmeal</td>\n",
              "    </tr>\n",
              "    <tr>\n",
              "      <th>3</th>\n",
              "      <td>Apricot Tahu</td>\n",
              "      <td>Tahu Sutra, Pisang, Apel</td>\n",
              "    </tr>\n",
              "    <tr>\n",
              "      <th>4</th>\n",
              "      <td>Ayam Zukini Hati</td>\n",
              "      <td>Hati Ayam, Wortel, Kaldu Ayam, Beras, Ayam, Da...</td>\n",
              "    </tr>\n",
              "    <tr>\n",
              "      <th>...</th>\n",
              "      <td>...</td>\n",
              "      <td>...</td>\n",
              "    </tr>\n",
              "    <tr>\n",
              "      <th>155</th>\n",
              "      <td>Tim Saring</td>\n",
              "      <td>Beras, Kaldu Ayam, Ikan Salmon, Beras Merah, W...</td>\n",
              "    </tr>\n",
              "    <tr>\n",
              "      <th>156</th>\n",
              "      <td>Tumis Ikan Dori</td>\n",
              "      <td>Bawang Merah, Wortel, Ketimun, Bawang Putih, T...</td>\n",
              "    </tr>\n",
              "    <tr>\n",
              "      <th>157</th>\n",
              "      <td>Tuna Mornay</td>\n",
              "      <td>Saus Pasta, Ikan Tuna, Roti Tawar, Keju, Krim ...</td>\n",
              "    </tr>\n",
              "    <tr>\n",
              "      <th>158</th>\n",
              "      <td>Yoghurt Buah Pop</td>\n",
              "      <td>Strawbery, Yoghurt</td>\n",
              "    </tr>\n",
              "    <tr>\n",
              "      <th>159</th>\n",
              "      <td>Yoghurt Buah Smoothie</td>\n",
              "      <td>Yoghurt, Kiwi, Susu</td>\n",
              "    </tr>\n",
              "  </tbody>\n",
              "</table>\n",
              "<p>151 rows × 2 columns</p>\n",
              "</div>\n",
              "      <button class=\"colab-df-convert\" onclick=\"convertToInteractive('df-709c4504-ba7f-4b6e-be30-fdfd0693d5a1')\"\n",
              "              title=\"Convert this dataframe to an interactive table.\"\n",
              "              style=\"display:none;\">\n",
              "        \n",
              "  <svg xmlns=\"http://www.w3.org/2000/svg\" height=\"24px\"viewBox=\"0 0 24 24\"\n",
              "       width=\"24px\">\n",
              "    <path d=\"M0 0h24v24H0V0z\" fill=\"none\"/>\n",
              "    <path d=\"M18.56 5.44l.94 2.06.94-2.06 2.06-.94-2.06-.94-.94-2.06-.94 2.06-2.06.94zm-11 1L8.5 8.5l.94-2.06 2.06-.94-2.06-.94L8.5 2.5l-.94 2.06-2.06.94zm10 10l.94 2.06.94-2.06 2.06-.94-2.06-.94-.94-2.06-.94 2.06-2.06.94z\"/><path d=\"M17.41 7.96l-1.37-1.37c-.4-.4-.92-.59-1.43-.59-.52 0-1.04.2-1.43.59L10.3 9.45l-7.72 7.72c-.78.78-.78 2.05 0 2.83L4 21.41c.39.39.9.59 1.41.59.51 0 1.02-.2 1.41-.59l7.78-7.78 2.81-2.81c.8-.78.8-2.07 0-2.86zM5.41 20L4 18.59l7.72-7.72 1.47 1.35L5.41 20z\"/>\n",
              "  </svg>\n",
              "      </button>\n",
              "      \n",
              "  <style>\n",
              "    .colab-df-container {\n",
              "      display:flex;\n",
              "      flex-wrap:wrap;\n",
              "      gap: 12px;\n",
              "    }\n",
              "\n",
              "    .colab-df-convert {\n",
              "      background-color: #E8F0FE;\n",
              "      border: none;\n",
              "      border-radius: 50%;\n",
              "      cursor: pointer;\n",
              "      display: none;\n",
              "      fill: #1967D2;\n",
              "      height: 32px;\n",
              "      padding: 0 0 0 0;\n",
              "      width: 32px;\n",
              "    }\n",
              "\n",
              "    .colab-df-convert:hover {\n",
              "      background-color: #E2EBFA;\n",
              "      box-shadow: 0px 1px 2px rgba(60, 64, 67, 0.3), 0px 1px 3px 1px rgba(60, 64, 67, 0.15);\n",
              "      fill: #174EA6;\n",
              "    }\n",
              "\n",
              "    [theme=dark] .colab-df-convert {\n",
              "      background-color: #3B4455;\n",
              "      fill: #D2E3FC;\n",
              "    }\n",
              "\n",
              "    [theme=dark] .colab-df-convert:hover {\n",
              "      background-color: #434B5C;\n",
              "      box-shadow: 0px 1px 3px 1px rgba(0, 0, 0, 0.15);\n",
              "      filter: drop-shadow(0px 1px 2px rgba(0, 0, 0, 0.3));\n",
              "      fill: #FFFFFF;\n",
              "    }\n",
              "  </style>\n",
              "\n",
              "      <script>\n",
              "        const buttonEl =\n",
              "          document.querySelector('#df-709c4504-ba7f-4b6e-be30-fdfd0693d5a1 button.colab-df-convert');\n",
              "        buttonEl.style.display =\n",
              "          google.colab.kernel.accessAllowed ? 'block' : 'none';\n",
              "\n",
              "        async function convertToInteractive(key) {\n",
              "          const element = document.querySelector('#df-709c4504-ba7f-4b6e-be30-fdfd0693d5a1');\n",
              "          const dataTable =\n",
              "            await google.colab.kernel.invokeFunction('convertToInteractive',\n",
              "                                                     [key], {});\n",
              "          if (!dataTable) return;\n",
              "\n",
              "          const docLinkHtml = 'Like what you see? Visit the ' +\n",
              "            '<a target=\"_blank\" href=https://colab.research.google.com/notebooks/data_table.ipynb>data table notebook</a>'\n",
              "            + ' to learn more about interactive tables.';\n",
              "          element.innerHTML = '';\n",
              "          dataTable['output_type'] = 'display_data';\n",
              "          await google.colab.output.renderOutput(dataTable, element);\n",
              "          const docLink = document.createElement('div');\n",
              "          docLink.innerHTML = docLinkHtml;\n",
              "          element.appendChild(docLink);\n",
              "        }\n",
              "      </script>\n",
              "    </div>\n",
              "  </div>\n",
              "  "
            ]
          },
          "metadata": {},
          "execution_count": 35
        }
      ]
    },
    {
      "cell_type": "markdown",
      "source": [
        "## V. *Filtering Resep Berdasarkan umur dan EER*"
      ],
      "metadata": {
        "id": "jmRQmB-0LkZp"
      }
    },
    {
      "cell_type": "code",
      "source": [
        ""
      ],
      "metadata": {
        "id": "FcaFMSGwSlT_"
      },
      "execution_count": null,
      "outputs": []
    },
    {
      "cell_type": "markdown",
      "source": [
        "## VI. *Model Sistem Rekomendasi Menu MPASI*"
      ],
      "metadata": {
        "id": "pQKljr2cLypQ"
      }
    },
    {
      "cell_type": "code",
      "source": [
        ""
      ],
      "metadata": {
        "id": "VvC3Is6LSlrV"
      },
      "execution_count": null,
      "outputs": []
    }
  ]
}