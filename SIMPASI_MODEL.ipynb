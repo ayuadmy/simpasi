{
  "cells": [
    {
      "cell_type": "markdown",
      "metadata": {
        "id": "view-in-github",
        "colab_type": "text"
      },
      "source": [
        "<a href=\"https://colab.research.google.com/github/ayuadmy/simpasi/blob/main/SIMPASI_MODEL.ipynb\" target=\"_parent\"><img src=\"https://colab.research.google.com/assets/colab-badge.svg\" alt=\"Open In Colab\"/></a>"
      ]
    },
    {
      "cell_type": "markdown",
      "metadata": {
        "id": "t1BXxKG1FS_u"
      },
      "source": [
        "# Library Needed\n"
      ]
    },
    {
      "cell_type": "code",
      "execution_count": null,
      "metadata": {
        "colab": {
          "base_uri": "https://localhost:8080/"
        },
        "id": "twOvvUblnR1k",
        "outputId": "630fa132-9fb4-4c45-9cb4-40a7df0d7143"
      },
      "outputs": [
        {
          "output_type": "stream",
          "name": "stdout",
          "text": [
            "Python 3.7.13\n"
          ]
        }
      ],
      "source": [
        "!python --version"
      ]
    },
    {
      "cell_type": "code",
      "execution_count": null,
      "metadata": {
        "id": "28wbgEe0ndCr"
      },
      "outputs": [],
      "source": [
        "!pip install -q tensorflow-recommenders\n",
        "!pip install -q tensorflowjs\n",
        "!pip install -q scann"
      ]
    },
    {
      "cell_type": "code",
      "execution_count": null,
      "metadata": {
        "id": "so5I41Limcv5",
        "colab": {
          "base_uri": "https://localhost:8080/"
        },
        "outputId": "0791e3cf-08d3-4549-eba2-1b3130040700"
      },
      "outputs": [
        {
          "output_type": "stream",
          "name": "stdout",
          "text": [
            "2.8.2\n"
          ]
        }
      ],
      "source": [
        "import pathlib\n",
        "import os\n",
        "import pprint\n",
        "import tempfile\n",
        "from google.colab import files\n",
        "\n",
        "\n",
        "from typing import Dict, Text\n",
        "\n",
        "import csv\n",
        "import pandas as pd \n",
        "import numpy as np \n",
        "import matplotlib.pyplot as plt \n",
        "\n",
        "import tensorflow as tf\n",
        "import tensorflow_datasets as tfds\n",
        "import tensorflowjs as tfjs\n",
        "import tensorflow_recommenders as tfrs\n",
        "print(tf. __version__)"
      ]
    },
    {
      "cell_type": "markdown",
      "metadata": {
        "id": "-QUqx8euFe9G"
      },
      "source": [
        "# MPASI Menu, Recipe, Ingredients Dataset"
      ]
    },
    {
      "cell_type": "code",
      "execution_count": null,
      "metadata": {
        "colab": {
          "base_uri": "https://localhost:8080/"
        },
        "id": "hx-SBcmaCizm",
        "outputId": "0dc279bc-61dd-4fa0-8e17-9ef690e9d38b"
      },
      "outputs": [
        {
          "output_type": "stream",
          "name": "stdout",
          "text": [
            "/usr/local/lib/python3.7/dist-packages/gdown/cli.py:131: FutureWarning: Option `--id` was deprecated in version 4.3.1 and will be removed in 5.0. You don't need to pass it anymore to use a file ID.\n",
            "  category=FutureWarning,\n",
            "Downloading...\n",
            "From: https://drive.google.com/uc?id=1eenpLlfkok_acgmuIC2XI4tZCnMIkUrS\n",
            "To: /content/bahan_makanan.csv\n",
            "100% 5.64k/5.64k [00:00<00:00, 8.56MB/s]\n",
            "/usr/local/lib/python3.7/dist-packages/gdown/cli.py:131: FutureWarning: Option `--id` was deprecated in version 4.3.1 and will be removed in 5.0. You don't need to pass it anymore to use a file ID.\n",
            "  category=FutureWarning,\n",
            "Downloading...\n",
            "From: https://drive.google.com/uc?id=1miF99iHy0E0OUfkqP6dZVUccAmW_KpVT\n",
            "To: /content/resep.csv\n",
            "100% 3.57k/3.57k [00:00<00:00, 5.32MB/s]\n",
            "/usr/local/lib/python3.7/dist-packages/gdown/cli.py:131: FutureWarning: Option `--id` was deprecated in version 4.3.1 and will be removed in 5.0. You don't need to pass it anymore to use a file ID.\n",
            "  category=FutureWarning,\n",
            "Downloading...\n",
            "From: https://drive.google.com/uc?id=1xufQ7DEIiKIcWWd0sOYXMLkjJQ8kYgvJ\n",
            "To: /content/komposisi_baru.csv\n",
            "100% 9.23k/9.23k [00:00<00:00, 10.7MB/s]\n",
            "/usr/local/lib/python3.7/dist-packages/gdown/cli.py:131: FutureWarning: Option `--id` was deprecated in version 4.3.1 and will be removed in 5.0. You don't need to pass it anymore to use a file ID.\n",
            "  category=FutureWarning,\n",
            "Downloading...\n",
            "From: https://drive.google.com/uc?id=1Elz56RH18uKtrV3DDePpT9SKOzhFGVPb\n",
            "To: /content/kombinasi_menu.csv\n",
            "100% 3.00M/3.00M [00:00<00:00, 102MB/s]\n",
            "/usr/local/lib/python3.7/dist-packages/gdown/cli.py:131: FutureWarning: Option `--id` was deprecated in version 4.3.1 and will be removed in 5.0. You don't need to pass it anymore to use a file ID.\n",
            "  category=FutureWarning,\n",
            "Downloading...\n",
            "From: https://drive.google.com/uc?id=1ddU24ajNxXtljNaBjhwY0kx0SvqxqLzC\n",
            "To: /content/feedback_fix.csv\n",
            "100% 6.79k/6.79k [00:00<00:00, 7.40MB/s]\n",
            "/usr/local/lib/python3.7/dist-packages/gdown/cli.py:131: FutureWarning: Option `--id` was deprecated in version 4.3.1 and will be removed in 5.0. You don't need to pass it anymore to use a file ID.\n",
            "  category=FutureWarning,\n",
            "Downloading...\n",
            "From: https://drive.google.com/uc?id=1GevXM5jVP6jD0wtWPi9LOIxSs3EzHLrY\n",
            "To: /content/Feedback_Bahan.csv\n",
            "100% 2.56k/2.56k [00:00<00:00, 2.97MB/s]\n"
          ]
        }
      ],
      "source": [
        "#Download dataset from google drive\n",
        "#Bahan_Makanan\n",
        "!gdown --id 1eenpLlfkok_acgmuIC2XI4tZCnMIkUrS\\\n",
        "\n",
        "#Resep\n",
        "!gdown --id 1miF99iHy0E0OUfkqP6dZVUccAmW_KpVT\\\n",
        "\n",
        "#Komposisi\n",
        "!gdown --id 1xufQ7DEIiKIcWWd0sOYXMLkjJQ8kYgvJ\\\n",
        "\n",
        "#Menu Makanan\n",
        "!gdown --id 1Elz56RH18uKtrV3DDePpT9SKOzhFGVPb\\\n",
        "\n",
        "#Feedback\n",
        "!gdown --id 1ddU24ajNxXtljNaBjhwY0kx0SvqxqLzC\\\n",
        "\n",
        "#Feedback Bahan\n",
        "!gdown --id 1GevXM5jVP6jD0wtWPi9LOIxSs3EzHLrY\\"
      ]
    },
    {
      "cell_type": "code",
      "execution_count": null,
      "metadata": {
        "id": "Ok7cA28bBhyv"
      },
      "outputs": [],
      "source": [
        "#Move files to tmp (To be deleted after closing this google colab in some time)\n",
        "!mv \"/content/bahan_makanan.csv\" \"/tmp\"\n",
        "!mv \"/content/resep.csv\" \"/tmp\"\n",
        "!mv \"/content/komposisi_baru.csv\" \"/tmp\"\n",
        "!mv \"/content/kombinasi_menu.csv\" \"/tmp\"\n",
        "!mv \"/content/feedback_fix.csv\" \"/tmp\"\n",
        "!mv \"/content/Feedback_Bahan.csv\" \"/tmp\""
      ]
    },
    {
      "cell_type": "code",
      "execution_count": null,
      "metadata": {
        "id": "UUF_EP5WChq4"
      },
      "outputs": [],
      "source": [
        "#Create directory of datasets\n",
        "bahan_makanan_dir = \"/tmp/bahan_makanan.csv\"\n",
        "resep_dir = \"/tmp/resep.csv\"\n",
        "komposisi_dir = \"/tmp/komposisi_baru.csv\"\n",
        "kombinasi_menu_dir = \"/tmp/kombinasi_menu.csv\"\n",
        "feedback_dir = \"/tmp/feedback_fix.csv\"\n",
        "feedback_bahan_dir = \"/tmp/Feedback_Bahan.csv\""
      ]
    },
    {
      "cell_type": "code",
      "execution_count": null,
      "metadata": {
        "colab": {
          "base_uri": "https://localhost:8080/",
          "height": 206
        },
        "id": "fAy2gAfgGJvZ",
        "outputId": "74589f65-6110-4095-f46c-aa16060285dc"
      },
      "outputs": [
        {
          "output_type": "execute_result",
          "data": {
            "text/plain": [
              "   id_bahan    nama_bahan\n",
              "0         0     Agar-Agar\n",
              "1         1     Agar Laut\n",
              "2         2  Akar Tonjong\n",
              "3         3       Alpukat\n",
              "4         4    Ampas Tahu"
            ],
            "text/html": [
              "\n",
              "  <div id=\"df-4f0bbb73-7aef-4d9b-92ca-b6972ed87470\">\n",
              "    <div class=\"colab-df-container\">\n",
              "      <div>\n",
              "<style scoped>\n",
              "    .dataframe tbody tr th:only-of-type {\n",
              "        vertical-align: middle;\n",
              "    }\n",
              "\n",
              "    .dataframe tbody tr th {\n",
              "        vertical-align: top;\n",
              "    }\n",
              "\n",
              "    .dataframe thead th {\n",
              "        text-align: right;\n",
              "    }\n",
              "</style>\n",
              "<table border=\"1\" class=\"dataframe\">\n",
              "  <thead>\n",
              "    <tr style=\"text-align: right;\">\n",
              "      <th></th>\n",
              "      <th>id_bahan</th>\n",
              "      <th>nama_bahan</th>\n",
              "    </tr>\n",
              "  </thead>\n",
              "  <tbody>\n",
              "    <tr>\n",
              "      <th>0</th>\n",
              "      <td>0</td>\n",
              "      <td>Agar-Agar</td>\n",
              "    </tr>\n",
              "    <tr>\n",
              "      <th>1</th>\n",
              "      <td>1</td>\n",
              "      <td>Agar Laut</td>\n",
              "    </tr>\n",
              "    <tr>\n",
              "      <th>2</th>\n",
              "      <td>2</td>\n",
              "      <td>Akar Tonjong</td>\n",
              "    </tr>\n",
              "    <tr>\n",
              "      <th>3</th>\n",
              "      <td>3</td>\n",
              "      <td>Alpukat</td>\n",
              "    </tr>\n",
              "    <tr>\n",
              "      <th>4</th>\n",
              "      <td>4</td>\n",
              "      <td>Ampas Tahu</td>\n",
              "    </tr>\n",
              "  </tbody>\n",
              "</table>\n",
              "</div>\n",
              "      <button class=\"colab-df-convert\" onclick=\"convertToInteractive('df-4f0bbb73-7aef-4d9b-92ca-b6972ed87470')\"\n",
              "              title=\"Convert this dataframe to an interactive table.\"\n",
              "              style=\"display:none;\">\n",
              "        \n",
              "  <svg xmlns=\"http://www.w3.org/2000/svg\" height=\"24px\"viewBox=\"0 0 24 24\"\n",
              "       width=\"24px\">\n",
              "    <path d=\"M0 0h24v24H0V0z\" fill=\"none\"/>\n",
              "    <path d=\"M18.56 5.44l.94 2.06.94-2.06 2.06-.94-2.06-.94-.94-2.06-.94 2.06-2.06.94zm-11 1L8.5 8.5l.94-2.06 2.06-.94-2.06-.94L8.5 2.5l-.94 2.06-2.06.94zm10 10l.94 2.06.94-2.06 2.06-.94-2.06-.94-.94-2.06-.94 2.06-2.06.94z\"/><path d=\"M17.41 7.96l-1.37-1.37c-.4-.4-.92-.59-1.43-.59-.52 0-1.04.2-1.43.59L10.3 9.45l-7.72 7.72c-.78.78-.78 2.05 0 2.83L4 21.41c.39.39.9.59 1.41.59.51 0 1.02-.2 1.41-.59l7.78-7.78 2.81-2.81c.8-.78.8-2.07 0-2.86zM5.41 20L4 18.59l7.72-7.72 1.47 1.35L5.41 20z\"/>\n",
              "  </svg>\n",
              "      </button>\n",
              "      \n",
              "  <style>\n",
              "    .colab-df-container {\n",
              "      display:flex;\n",
              "      flex-wrap:wrap;\n",
              "      gap: 12px;\n",
              "    }\n",
              "\n",
              "    .colab-df-convert {\n",
              "      background-color: #E8F0FE;\n",
              "      border: none;\n",
              "      border-radius: 50%;\n",
              "      cursor: pointer;\n",
              "      display: none;\n",
              "      fill: #1967D2;\n",
              "      height: 32px;\n",
              "      padding: 0 0 0 0;\n",
              "      width: 32px;\n",
              "    }\n",
              "\n",
              "    .colab-df-convert:hover {\n",
              "      background-color: #E2EBFA;\n",
              "      box-shadow: 0px 1px 2px rgba(60, 64, 67, 0.3), 0px 1px 3px 1px rgba(60, 64, 67, 0.15);\n",
              "      fill: #174EA6;\n",
              "    }\n",
              "\n",
              "    [theme=dark] .colab-df-convert {\n",
              "      background-color: #3B4455;\n",
              "      fill: #D2E3FC;\n",
              "    }\n",
              "\n",
              "    [theme=dark] .colab-df-convert:hover {\n",
              "      background-color: #434B5C;\n",
              "      box-shadow: 0px 1px 3px 1px rgba(0, 0, 0, 0.15);\n",
              "      filter: drop-shadow(0px 1px 2px rgba(0, 0, 0, 0.3));\n",
              "      fill: #FFFFFF;\n",
              "    }\n",
              "  </style>\n",
              "\n",
              "      <script>\n",
              "        const buttonEl =\n",
              "          document.querySelector('#df-4f0bbb73-7aef-4d9b-92ca-b6972ed87470 button.colab-df-convert');\n",
              "        buttonEl.style.display =\n",
              "          google.colab.kernel.accessAllowed ? 'block' : 'none';\n",
              "\n",
              "        async function convertToInteractive(key) {\n",
              "          const element = document.querySelector('#df-4f0bbb73-7aef-4d9b-92ca-b6972ed87470');\n",
              "          const dataTable =\n",
              "            await google.colab.kernel.invokeFunction('convertToInteractive',\n",
              "                                                     [key], {});\n",
              "          if (!dataTable) return;\n",
              "\n",
              "          const docLinkHtml = 'Like what you see? Visit the ' +\n",
              "            '<a target=\"_blank\" href=https://colab.research.google.com/notebooks/data_table.ipynb>data table notebook</a>'\n",
              "            + ' to learn more about interactive tables.';\n",
              "          element.innerHTML = '';\n",
              "          dataTable['output_type'] = 'display_data';\n",
              "          await google.colab.output.renderOutput(dataTable, element);\n",
              "          const docLink = document.createElement('div');\n",
              "          docLink.innerHTML = docLinkHtml;\n",
              "          element.appendChild(docLink);\n",
              "        }\n",
              "      </script>\n",
              "    </div>\n",
              "  </div>\n",
              "  "
            ]
          },
          "metadata": {},
          "execution_count": 12
        }
      ],
      "source": [
        "bahan_makanan = pd.read_csv(bahan_makanan_dir)\n",
        "bahan_makanan.head()"
      ]
    },
    {
      "cell_type": "code",
      "execution_count": null,
      "metadata": {
        "colab": {
          "base_uri": "https://localhost:8080/",
          "height": 206
        },
        "id": "flaI5ti-EvaJ",
        "outputId": "24a161d4-e1db-4988-acf7-7c0819462e61"
      },
      "outputs": [
        {
          "output_type": "execute_result",
          "data": {
            "text/plain": [
              "  id_resep                                         nama_bahan\n",
              "0        0                           Blewah, Melon, Agar-Agar\n",
              "1        1                                               Apel\n",
              "2        2                           Apel, Margarine, Oatmeal\n",
              "3        3                           Tahu Sutra, Pisang, Apel\n",
              "4        4  Hati Ayam, Wortel, Kaldu Ayam, Beras, Ayam, Da..."
            ],
            "text/html": [
              "\n",
              "  <div id=\"df-9392c08c-8e39-41ea-a196-d9282471733d\">\n",
              "    <div class=\"colab-df-container\">\n",
              "      <div>\n",
              "<style scoped>\n",
              "    .dataframe tbody tr th:only-of-type {\n",
              "        vertical-align: middle;\n",
              "    }\n",
              "\n",
              "    .dataframe tbody tr th {\n",
              "        vertical-align: top;\n",
              "    }\n",
              "\n",
              "    .dataframe thead th {\n",
              "        text-align: right;\n",
              "    }\n",
              "</style>\n",
              "<table border=\"1\" class=\"dataframe\">\n",
              "  <thead>\n",
              "    <tr style=\"text-align: right;\">\n",
              "      <th></th>\n",
              "      <th>id_resep</th>\n",
              "      <th>nama_bahan</th>\n",
              "    </tr>\n",
              "  </thead>\n",
              "  <tbody>\n",
              "    <tr>\n",
              "      <th>0</th>\n",
              "      <td>0</td>\n",
              "      <td>Blewah, Melon, Agar-Agar</td>\n",
              "    </tr>\n",
              "    <tr>\n",
              "      <th>1</th>\n",
              "      <td>1</td>\n",
              "      <td>Apel</td>\n",
              "    </tr>\n",
              "    <tr>\n",
              "      <th>2</th>\n",
              "      <td>2</td>\n",
              "      <td>Apel, Margarine, Oatmeal</td>\n",
              "    </tr>\n",
              "    <tr>\n",
              "      <th>3</th>\n",
              "      <td>3</td>\n",
              "      <td>Tahu Sutra, Pisang, Apel</td>\n",
              "    </tr>\n",
              "    <tr>\n",
              "      <th>4</th>\n",
              "      <td>4</td>\n",
              "      <td>Hati Ayam, Wortel, Kaldu Ayam, Beras, Ayam, Da...</td>\n",
              "    </tr>\n",
              "  </tbody>\n",
              "</table>\n",
              "</div>\n",
              "      <button class=\"colab-df-convert\" onclick=\"convertToInteractive('df-9392c08c-8e39-41ea-a196-d9282471733d')\"\n",
              "              title=\"Convert this dataframe to an interactive table.\"\n",
              "              style=\"display:none;\">\n",
              "        \n",
              "  <svg xmlns=\"http://www.w3.org/2000/svg\" height=\"24px\"viewBox=\"0 0 24 24\"\n",
              "       width=\"24px\">\n",
              "    <path d=\"M0 0h24v24H0V0z\" fill=\"none\"/>\n",
              "    <path d=\"M18.56 5.44l.94 2.06.94-2.06 2.06-.94-2.06-.94-.94-2.06-.94 2.06-2.06.94zm-11 1L8.5 8.5l.94-2.06 2.06-.94-2.06-.94L8.5 2.5l-.94 2.06-2.06.94zm10 10l.94 2.06.94-2.06 2.06-.94-2.06-.94-.94-2.06-.94 2.06-2.06.94z\"/><path d=\"M17.41 7.96l-1.37-1.37c-.4-.4-.92-.59-1.43-.59-.52 0-1.04.2-1.43.59L10.3 9.45l-7.72 7.72c-.78.78-.78 2.05 0 2.83L4 21.41c.39.39.9.59 1.41.59.51 0 1.02-.2 1.41-.59l7.78-7.78 2.81-2.81c.8-.78.8-2.07 0-2.86zM5.41 20L4 18.59l7.72-7.72 1.47 1.35L5.41 20z\"/>\n",
              "  </svg>\n",
              "      </button>\n",
              "      \n",
              "  <style>\n",
              "    .colab-df-container {\n",
              "      display:flex;\n",
              "      flex-wrap:wrap;\n",
              "      gap: 12px;\n",
              "    }\n",
              "\n",
              "    .colab-df-convert {\n",
              "      background-color: #E8F0FE;\n",
              "      border: none;\n",
              "      border-radius: 50%;\n",
              "      cursor: pointer;\n",
              "      display: none;\n",
              "      fill: #1967D2;\n",
              "      height: 32px;\n",
              "      padding: 0 0 0 0;\n",
              "      width: 32px;\n",
              "    }\n",
              "\n",
              "    .colab-df-convert:hover {\n",
              "      background-color: #E2EBFA;\n",
              "      box-shadow: 0px 1px 2px rgba(60, 64, 67, 0.3), 0px 1px 3px 1px rgba(60, 64, 67, 0.15);\n",
              "      fill: #174EA6;\n",
              "    }\n",
              "\n",
              "    [theme=dark] .colab-df-convert {\n",
              "      background-color: #3B4455;\n",
              "      fill: #D2E3FC;\n",
              "    }\n",
              "\n",
              "    [theme=dark] .colab-df-convert:hover {\n",
              "      background-color: #434B5C;\n",
              "      box-shadow: 0px 1px 3px 1px rgba(0, 0, 0, 0.15);\n",
              "      filter: drop-shadow(0px 1px 2px rgba(0, 0, 0, 0.3));\n",
              "      fill: #FFFFFF;\n",
              "    }\n",
              "  </style>\n",
              "\n",
              "      <script>\n",
              "        const buttonEl =\n",
              "          document.querySelector('#df-9392c08c-8e39-41ea-a196-d9282471733d button.colab-df-convert');\n",
              "        buttonEl.style.display =\n",
              "          google.colab.kernel.accessAllowed ? 'block' : 'none';\n",
              "\n",
              "        async function convertToInteractive(key) {\n",
              "          const element = document.querySelector('#df-9392c08c-8e39-41ea-a196-d9282471733d');\n",
              "          const dataTable =\n",
              "            await google.colab.kernel.invokeFunction('convertToInteractive',\n",
              "                                                     [key], {});\n",
              "          if (!dataTable) return;\n",
              "\n",
              "          const docLinkHtml = 'Like what you see? Visit the ' +\n",
              "            '<a target=\"_blank\" href=https://colab.research.google.com/notebooks/data_table.ipynb>data table notebook</a>'\n",
              "            + ' to learn more about interactive tables.';\n",
              "          element.innerHTML = '';\n",
              "          dataTable['output_type'] = 'display_data';\n",
              "          await google.colab.output.renderOutput(dataTable, element);\n",
              "          const docLink = document.createElement('div');\n",
              "          docLink.innerHTML = docLinkHtml;\n",
              "          element.appendChild(docLink);\n",
              "        }\n",
              "      </script>\n",
              "    </div>\n",
              "  </div>\n",
              "  "
            ]
          },
          "metadata": {},
          "execution_count": 13
        }
      ],
      "source": [
        "dict_komposisi = {}\n",
        "\n",
        "with open(komposisi_dir, mode=\"r\") as data_komposisi:\n",
        "  reader = csv.reader(data_komposisi)\n",
        "  keys = next(reader)\n",
        "  for row in reader:\n",
        "    if row[0] not in dict_komposisi.keys():\n",
        "      dict_komposisi[row[0]] = row[2]\n",
        "    else:\n",
        "      dict_komposisi[row[0]] = dict_komposisi[row[0]] + \", \" + row[2]\n",
        "    \n",
        "data = {keys[0]: dict_komposisi.keys(), keys[2]: dict_komposisi.values()}\n",
        "komposisi = pd.DataFrame.from_dict(data)\n",
        "komposisi.head()"
      ]
    },
    {
      "cell_type": "code",
      "execution_count": null,
      "metadata": {
        "colab": {
          "base_uri": "https://localhost:8080/",
          "height": 206
        },
        "id": "McpJ6lMfExmu",
        "outputId": "54d79469-6963-4d73-c4ce-0814ca04ef79"
      },
      "outputs": [
        {
          "output_type": "execute_result",
          "data": {
            "text/plain": [
              "   id_resep            nama_resep\n",
              "0         0  Agar-agar Isi Blewah\n",
              "1         1            Apel Rebus\n",
              "2         2         Apple Crumble\n",
              "3         3          Apricot Tahu\n",
              "4         4      Ayam Zukini Hati"
            ],
            "text/html": [
              "\n",
              "  <div id=\"df-4ee9106d-175a-4155-bd78-fde1b1b89372\">\n",
              "    <div class=\"colab-df-container\">\n",
              "      <div>\n",
              "<style scoped>\n",
              "    .dataframe tbody tr th:only-of-type {\n",
              "        vertical-align: middle;\n",
              "    }\n",
              "\n",
              "    .dataframe tbody tr th {\n",
              "        vertical-align: top;\n",
              "    }\n",
              "\n",
              "    .dataframe thead th {\n",
              "        text-align: right;\n",
              "    }\n",
              "</style>\n",
              "<table border=\"1\" class=\"dataframe\">\n",
              "  <thead>\n",
              "    <tr style=\"text-align: right;\">\n",
              "      <th></th>\n",
              "      <th>id_resep</th>\n",
              "      <th>nama_resep</th>\n",
              "    </tr>\n",
              "  </thead>\n",
              "  <tbody>\n",
              "    <tr>\n",
              "      <th>0</th>\n",
              "      <td>0</td>\n",
              "      <td>Agar-agar Isi Blewah</td>\n",
              "    </tr>\n",
              "    <tr>\n",
              "      <th>1</th>\n",
              "      <td>1</td>\n",
              "      <td>Apel Rebus</td>\n",
              "    </tr>\n",
              "    <tr>\n",
              "      <th>2</th>\n",
              "      <td>2</td>\n",
              "      <td>Apple Crumble</td>\n",
              "    </tr>\n",
              "    <tr>\n",
              "      <th>3</th>\n",
              "      <td>3</td>\n",
              "      <td>Apricot Tahu</td>\n",
              "    </tr>\n",
              "    <tr>\n",
              "      <th>4</th>\n",
              "      <td>4</td>\n",
              "      <td>Ayam Zukini Hati</td>\n",
              "    </tr>\n",
              "  </tbody>\n",
              "</table>\n",
              "</div>\n",
              "      <button class=\"colab-df-convert\" onclick=\"convertToInteractive('df-4ee9106d-175a-4155-bd78-fde1b1b89372')\"\n",
              "              title=\"Convert this dataframe to an interactive table.\"\n",
              "              style=\"display:none;\">\n",
              "        \n",
              "  <svg xmlns=\"http://www.w3.org/2000/svg\" height=\"24px\"viewBox=\"0 0 24 24\"\n",
              "       width=\"24px\">\n",
              "    <path d=\"M0 0h24v24H0V0z\" fill=\"none\"/>\n",
              "    <path d=\"M18.56 5.44l.94 2.06.94-2.06 2.06-.94-2.06-.94-.94-2.06-.94 2.06-2.06.94zm-11 1L8.5 8.5l.94-2.06 2.06-.94-2.06-.94L8.5 2.5l-.94 2.06-2.06.94zm10 10l.94 2.06.94-2.06 2.06-.94-2.06-.94-.94-2.06-.94 2.06-2.06.94z\"/><path d=\"M17.41 7.96l-1.37-1.37c-.4-.4-.92-.59-1.43-.59-.52 0-1.04.2-1.43.59L10.3 9.45l-7.72 7.72c-.78.78-.78 2.05 0 2.83L4 21.41c.39.39.9.59 1.41.59.51 0 1.02-.2 1.41-.59l7.78-7.78 2.81-2.81c.8-.78.8-2.07 0-2.86zM5.41 20L4 18.59l7.72-7.72 1.47 1.35L5.41 20z\"/>\n",
              "  </svg>\n",
              "      </button>\n",
              "      \n",
              "  <style>\n",
              "    .colab-df-container {\n",
              "      display:flex;\n",
              "      flex-wrap:wrap;\n",
              "      gap: 12px;\n",
              "    }\n",
              "\n",
              "    .colab-df-convert {\n",
              "      background-color: #E8F0FE;\n",
              "      border: none;\n",
              "      border-radius: 50%;\n",
              "      cursor: pointer;\n",
              "      display: none;\n",
              "      fill: #1967D2;\n",
              "      height: 32px;\n",
              "      padding: 0 0 0 0;\n",
              "      width: 32px;\n",
              "    }\n",
              "\n",
              "    .colab-df-convert:hover {\n",
              "      background-color: #E2EBFA;\n",
              "      box-shadow: 0px 1px 2px rgba(60, 64, 67, 0.3), 0px 1px 3px 1px rgba(60, 64, 67, 0.15);\n",
              "      fill: #174EA6;\n",
              "    }\n",
              "\n",
              "    [theme=dark] .colab-df-convert {\n",
              "      background-color: #3B4455;\n",
              "      fill: #D2E3FC;\n",
              "    }\n",
              "\n",
              "    [theme=dark] .colab-df-convert:hover {\n",
              "      background-color: #434B5C;\n",
              "      box-shadow: 0px 1px 3px 1px rgba(0, 0, 0, 0.15);\n",
              "      filter: drop-shadow(0px 1px 2px rgba(0, 0, 0, 0.3));\n",
              "      fill: #FFFFFF;\n",
              "    }\n",
              "  </style>\n",
              "\n",
              "      <script>\n",
              "        const buttonEl =\n",
              "          document.querySelector('#df-4ee9106d-175a-4155-bd78-fde1b1b89372 button.colab-df-convert');\n",
              "        buttonEl.style.display =\n",
              "          google.colab.kernel.accessAllowed ? 'block' : 'none';\n",
              "\n",
              "        async function convertToInteractive(key) {\n",
              "          const element = document.querySelector('#df-4ee9106d-175a-4155-bd78-fde1b1b89372');\n",
              "          const dataTable =\n",
              "            await google.colab.kernel.invokeFunction('convertToInteractive',\n",
              "                                                     [key], {});\n",
              "          if (!dataTable) return;\n",
              "\n",
              "          const docLinkHtml = 'Like what you see? Visit the ' +\n",
              "            '<a target=\"_blank\" href=https://colab.research.google.com/notebooks/data_table.ipynb>data table notebook</a>'\n",
              "            + ' to learn more about interactive tables.';\n",
              "          element.innerHTML = '';\n",
              "          dataTable['output_type'] = 'display_data';\n",
              "          await google.colab.output.renderOutput(dataTable, element);\n",
              "          const docLink = document.createElement('div');\n",
              "          docLink.innerHTML = docLinkHtml;\n",
              "          element.appendChild(docLink);\n",
              "        }\n",
              "      </script>\n",
              "    </div>\n",
              "  </div>\n",
              "  "
            ]
          },
          "metadata": {},
          "execution_count": 14
        }
      ],
      "source": [
        "resep = pd.read_csv(resep_dir)\n",
        "resep.head()"
      ]
    },
    {
      "cell_type": "code",
      "execution_count": null,
      "metadata": {
        "colab": {
          "base_uri": "https://localhost:8080/",
          "height": 424
        },
        "id": "eC04ruoBMtBC",
        "outputId": "621b71ff-d984-483d-e7ee-eb9e179b0d94"
      },
      "outputs": [
        {
          "output_type": "execute_result",
          "data": {
            "text/plain": [
              "                nama_resep                                         nama_bahan\n",
              "0     Agar-agar Isi Blewah                           Blewah, Melon, Agar-Agar\n",
              "1               Apel Rebus                                               Apel\n",
              "2            Apple Crumble                           Apel, Margarine, Oatmeal\n",
              "3             Apricot Tahu                           Tahu Sutra, Pisang, Apel\n",
              "4         Ayam Zukini Hati  Hati Ayam, Wortel, Kaldu Ayam, Beras, Ayam, Da...\n",
              "..                     ...                                                ...\n",
              "155             Tim Saring  Beras, Kaldu Ayam, Ikan Salmon, Beras Merah, W...\n",
              "156        Tumis Ikan Dori  Bawang Merah, Wortel, Ketimun, Bawang Putih, T...\n",
              "157            Tuna Mornay  Saus Pasta, Ikan Tuna, Roti Tawar, Keju, Krim ...\n",
              "158       Yoghurt Buah Pop                                 Strawbery, Yoghurt\n",
              "159  Yoghurt Buah Smoothie                                Yoghurt, Kiwi, Susu\n",
              "\n",
              "[160 rows x 2 columns]"
            ],
            "text/html": [
              "\n",
              "  <div id=\"df-a84fcc03-1b32-4824-bdab-746aa8b0b24a\">\n",
              "    <div class=\"colab-df-container\">\n",
              "      <div>\n",
              "<style scoped>\n",
              "    .dataframe tbody tr th:only-of-type {\n",
              "        vertical-align: middle;\n",
              "    }\n",
              "\n",
              "    .dataframe tbody tr th {\n",
              "        vertical-align: top;\n",
              "    }\n",
              "\n",
              "    .dataframe thead th {\n",
              "        text-align: right;\n",
              "    }\n",
              "</style>\n",
              "<table border=\"1\" class=\"dataframe\">\n",
              "  <thead>\n",
              "    <tr style=\"text-align: right;\">\n",
              "      <th></th>\n",
              "      <th>nama_resep</th>\n",
              "      <th>nama_bahan</th>\n",
              "    </tr>\n",
              "  </thead>\n",
              "  <tbody>\n",
              "    <tr>\n",
              "      <th>0</th>\n",
              "      <td>Agar-agar Isi Blewah</td>\n",
              "      <td>Blewah, Melon, Agar-Agar</td>\n",
              "    </tr>\n",
              "    <tr>\n",
              "      <th>1</th>\n",
              "      <td>Apel Rebus</td>\n",
              "      <td>Apel</td>\n",
              "    </tr>\n",
              "    <tr>\n",
              "      <th>2</th>\n",
              "      <td>Apple Crumble</td>\n",
              "      <td>Apel, Margarine, Oatmeal</td>\n",
              "    </tr>\n",
              "    <tr>\n",
              "      <th>3</th>\n",
              "      <td>Apricot Tahu</td>\n",
              "      <td>Tahu Sutra, Pisang, Apel</td>\n",
              "    </tr>\n",
              "    <tr>\n",
              "      <th>4</th>\n",
              "      <td>Ayam Zukini Hati</td>\n",
              "      <td>Hati Ayam, Wortel, Kaldu Ayam, Beras, Ayam, Da...</td>\n",
              "    </tr>\n",
              "    <tr>\n",
              "      <th>...</th>\n",
              "      <td>...</td>\n",
              "      <td>...</td>\n",
              "    </tr>\n",
              "    <tr>\n",
              "      <th>155</th>\n",
              "      <td>Tim Saring</td>\n",
              "      <td>Beras, Kaldu Ayam, Ikan Salmon, Beras Merah, W...</td>\n",
              "    </tr>\n",
              "    <tr>\n",
              "      <th>156</th>\n",
              "      <td>Tumis Ikan Dori</td>\n",
              "      <td>Bawang Merah, Wortel, Ketimun, Bawang Putih, T...</td>\n",
              "    </tr>\n",
              "    <tr>\n",
              "      <th>157</th>\n",
              "      <td>Tuna Mornay</td>\n",
              "      <td>Saus Pasta, Ikan Tuna, Roti Tawar, Keju, Krim ...</td>\n",
              "    </tr>\n",
              "    <tr>\n",
              "      <th>158</th>\n",
              "      <td>Yoghurt Buah Pop</td>\n",
              "      <td>Strawbery, Yoghurt</td>\n",
              "    </tr>\n",
              "    <tr>\n",
              "      <th>159</th>\n",
              "      <td>Yoghurt Buah Smoothie</td>\n",
              "      <td>Yoghurt, Kiwi, Susu</td>\n",
              "    </tr>\n",
              "  </tbody>\n",
              "</table>\n",
              "<p>160 rows × 2 columns</p>\n",
              "</div>\n",
              "      <button class=\"colab-df-convert\" onclick=\"convertToInteractive('df-a84fcc03-1b32-4824-bdab-746aa8b0b24a')\"\n",
              "              title=\"Convert this dataframe to an interactive table.\"\n",
              "              style=\"display:none;\">\n",
              "        \n",
              "  <svg xmlns=\"http://www.w3.org/2000/svg\" height=\"24px\"viewBox=\"0 0 24 24\"\n",
              "       width=\"24px\">\n",
              "    <path d=\"M0 0h24v24H0V0z\" fill=\"none\"/>\n",
              "    <path d=\"M18.56 5.44l.94 2.06.94-2.06 2.06-.94-2.06-.94-.94-2.06-.94 2.06-2.06.94zm-11 1L8.5 8.5l.94-2.06 2.06-.94-2.06-.94L8.5 2.5l-.94 2.06-2.06.94zm10 10l.94 2.06.94-2.06 2.06-.94-2.06-.94-.94-2.06-.94 2.06-2.06.94z\"/><path d=\"M17.41 7.96l-1.37-1.37c-.4-.4-.92-.59-1.43-.59-.52 0-1.04.2-1.43.59L10.3 9.45l-7.72 7.72c-.78.78-.78 2.05 0 2.83L4 21.41c.39.39.9.59 1.41.59.51 0 1.02-.2 1.41-.59l7.78-7.78 2.81-2.81c.8-.78.8-2.07 0-2.86zM5.41 20L4 18.59l7.72-7.72 1.47 1.35L5.41 20z\"/>\n",
              "  </svg>\n",
              "      </button>\n",
              "      \n",
              "  <style>\n",
              "    .colab-df-container {\n",
              "      display:flex;\n",
              "      flex-wrap:wrap;\n",
              "      gap: 12px;\n",
              "    }\n",
              "\n",
              "    .colab-df-convert {\n",
              "      background-color: #E8F0FE;\n",
              "      border: none;\n",
              "      border-radius: 50%;\n",
              "      cursor: pointer;\n",
              "      display: none;\n",
              "      fill: #1967D2;\n",
              "      height: 32px;\n",
              "      padding: 0 0 0 0;\n",
              "      width: 32px;\n",
              "    }\n",
              "\n",
              "    .colab-df-convert:hover {\n",
              "      background-color: #E2EBFA;\n",
              "      box-shadow: 0px 1px 2px rgba(60, 64, 67, 0.3), 0px 1px 3px 1px rgba(60, 64, 67, 0.15);\n",
              "      fill: #174EA6;\n",
              "    }\n",
              "\n",
              "    [theme=dark] .colab-df-convert {\n",
              "      background-color: #3B4455;\n",
              "      fill: #D2E3FC;\n",
              "    }\n",
              "\n",
              "    [theme=dark] .colab-df-convert:hover {\n",
              "      background-color: #434B5C;\n",
              "      box-shadow: 0px 1px 3px 1px rgba(0, 0, 0, 0.15);\n",
              "      filter: drop-shadow(0px 1px 2px rgba(0, 0, 0, 0.3));\n",
              "      fill: #FFFFFF;\n",
              "    }\n",
              "  </style>\n",
              "\n",
              "      <script>\n",
              "        const buttonEl =\n",
              "          document.querySelector('#df-a84fcc03-1b32-4824-bdab-746aa8b0b24a button.colab-df-convert');\n",
              "        buttonEl.style.display =\n",
              "          google.colab.kernel.accessAllowed ? 'block' : 'none';\n",
              "\n",
              "        async function convertToInteractive(key) {\n",
              "          const element = document.querySelector('#df-a84fcc03-1b32-4824-bdab-746aa8b0b24a');\n",
              "          const dataTable =\n",
              "            await google.colab.kernel.invokeFunction('convertToInteractive',\n",
              "                                                     [key], {});\n",
              "          if (!dataTable) return;\n",
              "\n",
              "          const docLinkHtml = 'Like what you see? Visit the ' +\n",
              "            '<a target=\"_blank\" href=https://colab.research.google.com/notebooks/data_table.ipynb>data table notebook</a>'\n",
              "            + ' to learn more about interactive tables.';\n",
              "          element.innerHTML = '';\n",
              "          dataTable['output_type'] = 'display_data';\n",
              "          await google.colab.output.renderOutput(dataTable, element);\n",
              "          const docLink = document.createElement('div');\n",
              "          docLink.innerHTML = docLinkHtml;\n",
              "          element.appendChild(docLink);\n",
              "        }\n",
              "      </script>\n",
              "    </div>\n",
              "  </div>\n",
              "  "
            ]
          },
          "metadata": {},
          "execution_count": 15
        }
      ],
      "source": [
        "komposisi['id_resep'] = komposisi['id_resep'].astype(int)\n",
        "komposisi_resep = komposisi.merge(resep, on=['id_resep', 'id_resep'], how='left')\n",
        "#komposisi_resep\n",
        "\n",
        "del(komposisi_resep['id_resep'])\n",
        "komposisi_resep = komposisi_resep[['nama_resep', 'nama_bahan']]\n",
        "komposisi_resep"
      ]
    },
    {
      "cell_type": "code",
      "execution_count": null,
      "metadata": {
        "colab": {
          "base_uri": "https://localhost:8080/",
          "height": 392
        },
        "id": "AxHB4RgjEpCn",
        "outputId": "3bc53f5a-274f-42c0-a944-c019c1631227"
      },
      "outputs": [
        {
          "output_type": "execute_result",
          "data": {
            "text/plain": [
              "   id_kombinasi                 pagi                siang malam snack1 snack2  \\\n",
              "0             1           Apel Rebus           Apel Rebus                       \n",
              "1             2           Bubur Apel           Bubur Apel                       \n",
              "2             3  Bubur Kacang Polong  Bubur Kacang Polong                       \n",
              "3             4    Bubur Kembang Kol    Bubur Kembang Kol                       \n",
              "4             5           Bubur Plum           Bubur Plum                       \n",
              "\n",
              "   bulan_6  bulan_7_8  bulan_9_11  bulan_12_24  total_energi  total_carbo  \\\n",
              "0        1          0           0            0        144.00        38.12   \n",
              "1        1          0           0            0        144.50        34.52   \n",
              "2        1          0           0            0        127.44        15.60   \n",
              "3        1          0           0            0        143.20        21.12   \n",
              "4        1          0           0            0        128.10        30.88   \n",
              "\n",
              "   total_protein  total_lipid  \n",
              "0           0.72         0.46  \n",
              "1           0.66         0.42  \n",
              "2           3.84         5.52  \n",
              "3           9.46         2.32  \n",
              "4           1.10         0.02  "
            ],
            "text/html": [
              "\n",
              "  <div id=\"df-56d2698f-1920-4c6e-a9e1-ad143776269a\">\n",
              "    <div class=\"colab-df-container\">\n",
              "      <div>\n",
              "<style scoped>\n",
              "    .dataframe tbody tr th:only-of-type {\n",
              "        vertical-align: middle;\n",
              "    }\n",
              "\n",
              "    .dataframe tbody tr th {\n",
              "        vertical-align: top;\n",
              "    }\n",
              "\n",
              "    .dataframe thead th {\n",
              "        text-align: right;\n",
              "    }\n",
              "</style>\n",
              "<table border=\"1\" class=\"dataframe\">\n",
              "  <thead>\n",
              "    <tr style=\"text-align: right;\">\n",
              "      <th></th>\n",
              "      <th>id_kombinasi</th>\n",
              "      <th>pagi</th>\n",
              "      <th>siang</th>\n",
              "      <th>malam</th>\n",
              "      <th>snack1</th>\n",
              "      <th>snack2</th>\n",
              "      <th>bulan_6</th>\n",
              "      <th>bulan_7_8</th>\n",
              "      <th>bulan_9_11</th>\n",
              "      <th>bulan_12_24</th>\n",
              "      <th>total_energi</th>\n",
              "      <th>total_carbo</th>\n",
              "      <th>total_protein</th>\n",
              "      <th>total_lipid</th>\n",
              "    </tr>\n",
              "  </thead>\n",
              "  <tbody>\n",
              "    <tr>\n",
              "      <th>0</th>\n",
              "      <td>1</td>\n",
              "      <td>Apel Rebus</td>\n",
              "      <td>Apel Rebus</td>\n",
              "      <td></td>\n",
              "      <td></td>\n",
              "      <td></td>\n",
              "      <td>1</td>\n",
              "      <td>0</td>\n",
              "      <td>0</td>\n",
              "      <td>0</td>\n",
              "      <td>144.00</td>\n",
              "      <td>38.12</td>\n",
              "      <td>0.72</td>\n",
              "      <td>0.46</td>\n",
              "    </tr>\n",
              "    <tr>\n",
              "      <th>1</th>\n",
              "      <td>2</td>\n",
              "      <td>Bubur Apel</td>\n",
              "      <td>Bubur Apel</td>\n",
              "      <td></td>\n",
              "      <td></td>\n",
              "      <td></td>\n",
              "      <td>1</td>\n",
              "      <td>0</td>\n",
              "      <td>0</td>\n",
              "      <td>0</td>\n",
              "      <td>144.50</td>\n",
              "      <td>34.52</td>\n",
              "      <td>0.66</td>\n",
              "      <td>0.42</td>\n",
              "    </tr>\n",
              "    <tr>\n",
              "      <th>2</th>\n",
              "      <td>3</td>\n",
              "      <td>Bubur Kacang Polong</td>\n",
              "      <td>Bubur Kacang Polong</td>\n",
              "      <td></td>\n",
              "      <td></td>\n",
              "      <td></td>\n",
              "      <td>1</td>\n",
              "      <td>0</td>\n",
              "      <td>0</td>\n",
              "      <td>0</td>\n",
              "      <td>127.44</td>\n",
              "      <td>15.60</td>\n",
              "      <td>3.84</td>\n",
              "      <td>5.52</td>\n",
              "    </tr>\n",
              "    <tr>\n",
              "      <th>3</th>\n",
              "      <td>4</td>\n",
              "      <td>Bubur Kembang Kol</td>\n",
              "      <td>Bubur Kembang Kol</td>\n",
              "      <td></td>\n",
              "      <td></td>\n",
              "      <td></td>\n",
              "      <td>1</td>\n",
              "      <td>0</td>\n",
              "      <td>0</td>\n",
              "      <td>0</td>\n",
              "      <td>143.20</td>\n",
              "      <td>21.12</td>\n",
              "      <td>9.46</td>\n",
              "      <td>2.32</td>\n",
              "    </tr>\n",
              "    <tr>\n",
              "      <th>4</th>\n",
              "      <td>5</td>\n",
              "      <td>Bubur Plum</td>\n",
              "      <td>Bubur Plum</td>\n",
              "      <td></td>\n",
              "      <td></td>\n",
              "      <td></td>\n",
              "      <td>1</td>\n",
              "      <td>0</td>\n",
              "      <td>0</td>\n",
              "      <td>0</td>\n",
              "      <td>128.10</td>\n",
              "      <td>30.88</td>\n",
              "      <td>1.10</td>\n",
              "      <td>0.02</td>\n",
              "    </tr>\n",
              "  </tbody>\n",
              "</table>\n",
              "</div>\n",
              "      <button class=\"colab-df-convert\" onclick=\"convertToInteractive('df-56d2698f-1920-4c6e-a9e1-ad143776269a')\"\n",
              "              title=\"Convert this dataframe to an interactive table.\"\n",
              "              style=\"display:none;\">\n",
              "        \n",
              "  <svg xmlns=\"http://www.w3.org/2000/svg\" height=\"24px\"viewBox=\"0 0 24 24\"\n",
              "       width=\"24px\">\n",
              "    <path d=\"M0 0h24v24H0V0z\" fill=\"none\"/>\n",
              "    <path d=\"M18.56 5.44l.94 2.06.94-2.06 2.06-.94-2.06-.94-.94-2.06-.94 2.06-2.06.94zm-11 1L8.5 8.5l.94-2.06 2.06-.94-2.06-.94L8.5 2.5l-.94 2.06-2.06.94zm10 10l.94 2.06.94-2.06 2.06-.94-2.06-.94-.94-2.06-.94 2.06-2.06.94z\"/><path d=\"M17.41 7.96l-1.37-1.37c-.4-.4-.92-.59-1.43-.59-.52 0-1.04.2-1.43.59L10.3 9.45l-7.72 7.72c-.78.78-.78 2.05 0 2.83L4 21.41c.39.39.9.59 1.41.59.51 0 1.02-.2 1.41-.59l7.78-7.78 2.81-2.81c.8-.78.8-2.07 0-2.86zM5.41 20L4 18.59l7.72-7.72 1.47 1.35L5.41 20z\"/>\n",
              "  </svg>\n",
              "      </button>\n",
              "      \n",
              "  <style>\n",
              "    .colab-df-container {\n",
              "      display:flex;\n",
              "      flex-wrap:wrap;\n",
              "      gap: 12px;\n",
              "    }\n",
              "\n",
              "    .colab-df-convert {\n",
              "      background-color: #E8F0FE;\n",
              "      border: none;\n",
              "      border-radius: 50%;\n",
              "      cursor: pointer;\n",
              "      display: none;\n",
              "      fill: #1967D2;\n",
              "      height: 32px;\n",
              "      padding: 0 0 0 0;\n",
              "      width: 32px;\n",
              "    }\n",
              "\n",
              "    .colab-df-convert:hover {\n",
              "      background-color: #E2EBFA;\n",
              "      box-shadow: 0px 1px 2px rgba(60, 64, 67, 0.3), 0px 1px 3px 1px rgba(60, 64, 67, 0.15);\n",
              "      fill: #174EA6;\n",
              "    }\n",
              "\n",
              "    [theme=dark] .colab-df-convert {\n",
              "      background-color: #3B4455;\n",
              "      fill: #D2E3FC;\n",
              "    }\n",
              "\n",
              "    [theme=dark] .colab-df-convert:hover {\n",
              "      background-color: #434B5C;\n",
              "      box-shadow: 0px 1px 3px 1px rgba(0, 0, 0, 0.15);\n",
              "      filter: drop-shadow(0px 1px 2px rgba(0, 0, 0, 0.3));\n",
              "      fill: #FFFFFF;\n",
              "    }\n",
              "  </style>\n",
              "\n",
              "      <script>\n",
              "        const buttonEl =\n",
              "          document.querySelector('#df-56d2698f-1920-4c6e-a9e1-ad143776269a button.colab-df-convert');\n",
              "        buttonEl.style.display =\n",
              "          google.colab.kernel.accessAllowed ? 'block' : 'none';\n",
              "\n",
              "        async function convertToInteractive(key) {\n",
              "          const element = document.querySelector('#df-56d2698f-1920-4c6e-a9e1-ad143776269a');\n",
              "          const dataTable =\n",
              "            await google.colab.kernel.invokeFunction('convertToInteractive',\n",
              "                                                     [key], {});\n",
              "          if (!dataTable) return;\n",
              "\n",
              "          const docLinkHtml = 'Like what you see? Visit the ' +\n",
              "            '<a target=\"_blank\" href=https://colab.research.google.com/notebooks/data_table.ipynb>data table notebook</a>'\n",
              "            + ' to learn more about interactive tables.';\n",
              "          element.innerHTML = '';\n",
              "          dataTable['output_type'] = 'display_data';\n",
              "          await google.colab.output.renderOutput(dataTable, element);\n",
              "          const docLink = document.createElement('div');\n",
              "          docLink.innerHTML = docLinkHtml;\n",
              "          element.appendChild(docLink);\n",
              "        }\n",
              "      </script>\n",
              "    </div>\n",
              "  </div>\n",
              "  "
            ]
          },
          "metadata": {},
          "execution_count": 16
        }
      ],
      "source": [
        "menu_harian = pd.read_csv(kombinasi_menu_dir)\n",
        "\n",
        "menu_harian[\"malam\"].fillna(\"\", inplace = True) \n",
        "menu_harian[\"snack1\"].fillna(\"\", inplace = True) \n",
        "menu_harian[\"snack2\"].fillna(\"\", inplace = True) \n",
        "\n",
        "menu_harian.head()"
      ]
    },
    {
      "cell_type": "code",
      "source": [
        "menu_harian.to_csv('menu_harian.csv')\n",
        "files.download(\"menu_harian.csv\")"
      ],
      "metadata": {
        "id": "vn_ydHM2EEtL",
        "colab": {
          "base_uri": "https://localhost:8080/",
          "height": 17
        },
        "outputId": "d1bd9000-5c0e-4072-9c15-767ea9fa0ba1"
      },
      "execution_count": null,
      "outputs": [
        {
          "output_type": "display_data",
          "data": {
            "text/plain": [
              "<IPython.core.display.Javascript object>"
            ],
            "application/javascript": [
              "\n",
              "    async function download(id, filename, size) {\n",
              "      if (!google.colab.kernel.accessAllowed) {\n",
              "        return;\n",
              "      }\n",
              "      const div = document.createElement('div');\n",
              "      const label = document.createElement('label');\n",
              "      label.textContent = `Downloading \"${filename}\": `;\n",
              "      div.appendChild(label);\n",
              "      const progress = document.createElement('progress');\n",
              "      progress.max = size;\n",
              "      div.appendChild(progress);\n",
              "      document.body.appendChild(div);\n",
              "\n",
              "      const buffers = [];\n",
              "      let downloaded = 0;\n",
              "\n",
              "      const channel = await google.colab.kernel.comms.open(id);\n",
              "      // Send a message to notify the kernel that we're ready.\n",
              "      channel.send({})\n",
              "\n",
              "      for await (const message of channel.messages) {\n",
              "        // Send a message to notify the kernel that we're ready.\n",
              "        channel.send({})\n",
              "        if (message.buffers) {\n",
              "          for (const buffer of message.buffers) {\n",
              "            buffers.push(buffer);\n",
              "            downloaded += buffer.byteLength;\n",
              "            progress.value = downloaded;\n",
              "          }\n",
              "        }\n",
              "      }\n",
              "      const blob = new Blob(buffers, {type: 'application/binary'});\n",
              "      const a = document.createElement('a');\n",
              "      a.href = window.URL.createObjectURL(blob);\n",
              "      a.download = filename;\n",
              "      div.appendChild(a);\n",
              "      a.click();\n",
              "      div.remove();\n",
              "    }\n",
              "  "
            ]
          },
          "metadata": {}
        },
        {
          "output_type": "display_data",
          "data": {
            "text/plain": [
              "<IPython.core.display.Javascript object>"
            ],
            "application/javascript": [
              "download(\"download_c05260dd-fe74-476f-980a-e2e410ff772d\", \"menu_harian.csv\", 2371346)"
            ]
          },
          "metadata": {}
        }
      ]
    },
    {
      "cell_type": "code",
      "execution_count": null,
      "metadata": {
        "colab": {
          "base_uri": "https://localhost:8080/",
          "height": 1000
        },
        "id": "wPgHRLwjIwyw",
        "outputId": "1ac8b40a-0db5-4afe-e54d-7f09e566743c"
      },
      "outputs": [
        {
          "output_type": "stream",
          "name": "stdout",
          "text": [
            "ada bahan snack1 Agar-agar Isi Blewah\n",
            "ada bahan pagi Apel Rebus\n",
            "tidak ada bahan Apple Crumble\n",
            "ada bahan siang Apricot Tahu\n",
            "tidak ada bahan Ayam Zukini Hati\n",
            "tidak ada bahan Bayam Panggang\n",
            "tidak ada bahan Biskuit Beras Merah\n",
            "ada bahan snack1 Biskuit Oat Ceri\n",
            "ada bahan snack1 Biskuit Oat Wortel\n",
            "ada bahan snack1 Biskuit Sereal\n",
            "ada bahan snack1 Bola-bola Ubi\n",
            "tidak ada bahan Bola Ikan\n",
            "tidak ada bahan Brokoli Keju\n",
            "tidak ada bahan Brokoli Rebus\n",
            "tidak ada bahan Buah Kebab Dingin\n",
            "tidak ada bahan Bubur Alpukat\n",
            "ada bahan pagi Bubur Apel\n",
            "tidak ada bahan Bubur Apel Bayam Hijau\n",
            "tidak ada bahan Bubur Apel Bayam Merah\n",
            "tidak ada bahan Bubur Apel Pisang\n",
            "tidak ada bahan Bubur Apricot\n",
            "tidak ada bahan Bubur Aprikot Yogurt\n",
            "ada bahan pagi Bubur Ayam Kedelai\n",
            "ada bahan siang Bubur Ayam Talas Keju\n",
            "tidak ada bahan Bubur Beras\n",
            "tidak ada bahan Bubur Beras Brocang\n",
            "ada bahan siang Bubur Beras Merah\n",
            "tidak ada bahan Bubur Beras Poldu\n",
            "tidak ada bahan Bubur Bit Ceri\n",
            "ada bahan pagi Bubur Buah dan Sayur\n",
            "ada bahan pagi Bubur Ceri Alpukat\n",
            "tidak ada bahan Bubur Hunkwe\n",
            "ada bahan siang Bubur Hunkwe Susu Keju\n",
            "tidak ada bahan Bubur Ikan Kakap Kacang Polong\n",
            "ada bahan pagi Bubur Jagung Bayam Tahu\n",
            "ada bahan siang Bubur Jagung Susu\n",
            "ada bahan siang Bubur Jagung Wortel\n",
            "ada bahan pagi Bubur Kacang Hijau Kurma\n",
            "ada bahan pagi Bubur Kacang Polong\n",
            "tidak ada bahan Bubur Kedelai\n",
            "ada bahan pagi Bubur Kembang Kol\n",
            "ada bahan pagi Bubur Kentang\n",
            "tidak ada bahan Bubur Kentang Buncis\n",
            "ada bahan pagi Bubur Kentang Edamame\n",
            "tidak ada bahan Bubur Kentang Tomat\n",
            "tidak ada bahan Bubur Labu Bayam\n",
            "ada bahan pagi Bubur Labu Brokoli\n",
            "ada bahan siang Bubur Makaroni Teri Bayam\n",
            "tidak ada bahan Bubur Mentimun\n",
            "tidak ada bahan Bubur Merah Salmon\n",
            "ada bahan pagi Bubur Oatmeal\n",
            "ada bahan pagi Bubur Pepaya\n",
            "tidak ada bahan Bubur Persik\n",
            "ada bahan pagi Bubur Pir\n",
            "ada bahan pagi Bubur Pisang\n",
            "ada bahan siang Bubur Pisang Jeruk\n",
            "ada bahan pagi Bubur Pisang Kentang\n",
            "tidak ada bahan Bubur Pisang Oat\n",
            "ada bahan pagi Bubur Pisang Tomat\n",
            "ada bahan pagi Bubur Pisang Ubi\n",
            "ada bahan pagi Bubur Plum\n",
            "ada bahan pagi Bubur Sawi Wortel\n",
            "tidak ada bahan Bubur Seledri Wortyan\n",
            "ada bahan pagi Bubur Singkong Apel\n",
            "tidak ada bahan Bubur Singkong Kacang Merah\n",
            "ada bahan pagi Bubur Susu Kacang Polong\n",
            "ada bahan pagi Bubur Tahu\n",
            "tidak ada bahan Bubur Tahu Saus Wortel Tomat\n",
            "ada bahan siang Bubur Tahu Wortel\n",
            "ada bahan pagi Bubur Talas Apel\n",
            "ada bahan pagi Bubur Tempe\n",
            "ada bahan siang Bubur Tempe Beras Merah\n",
            "tidak ada bahan Bubur Terong Zukini\n",
            "ada bahan siang Bubur Tomat Kacang Merah\n",
            "tidak ada bahan Bubur Tomat Susu\n",
            "ada bahan pagi Bubur Ubi Bayam Kacang Polong\n",
            "tidak ada bahan Bubur Ubi Bayam Ungu\n",
            "ada bahan pagi Bubur Ubi Kembang Kol\n",
            "ada bahan pagi Bubur Wortel\n",
            "tidak ada bahan Bubur Wortel Brokoli\n",
            "tidak ada bahan Bubur Wortel Jaju\n",
            "tidak ada bahan Bubur Zucchini\n",
            "ada bahan snack1 Daging Ungkep\n",
            "tidak ada bahan Es Krim Strawberry\n",
            "tidak ada bahan Hummus\n",
            "ada bahan siang Ikan Kembung Panggang\n",
            "tidak ada bahan Jagung Keju Seledri\n",
            "ada bahan snack1 Jus Alpukat Jeruk\n",
            "tidak ada bahan Jus Apel Stroberi\n",
            "tidak ada bahan Jus Bayam\n",
            "ada bahan snack1 Jus Melon Alpukat\n",
            "tidak ada bahan Jus Pepaya Jeruk\n",
            "ada bahan snack1 Jus Pisang Kurma\n",
            "tidak ada bahan Jus Semangka Susu\n",
            "tidak ada bahan Kacang Hijau Apel Kismis\n",
            "tidak ada bahan Keju Buncis\n",
            "tidak ada bahan Kentang Apel Kukus\n",
            "tidak ada bahan Kentang Dori Saus Bayam\n",
            "tidak ada bahan Kentang Kukus Daging Cincang\n",
            "tidak ada bahan Kentang Kukus Tuna\n",
            "tidak ada bahan Kol Kentang Panggang\n",
            "tidak ada bahan Krim Keju Makaroni\n",
            "ada bahan snack1 Kue Pisang\n",
            "tidak ada bahan Kue Ubi Paprika Kukus\n",
            "ada bahan snack1 Kukis Batang Keju\n",
            "ada bahan snack1 Kukis Havermut Apel\n",
            "ada bahan snack1 Kukis Meses\n",
            "ada bahan snack1 Kukis Oatmeal Keju\n",
            "ada bahan snack1 Lapis Mangga\n",
            "tidak ada bahan Mini Cupcake\n",
            "tidak ada bahan Moctail Semangka\n",
            "tidak ada bahan Muffin Pisang\n",
            "tidak ada bahan Nasi Goreng\n",
            "tidak ada bahan Nasi Jagung Keju\n",
            "tidak ada bahan Oatmeal Keju\n",
            "ada bahan pagi Oatmeal Kurma\n",
            "tidak ada bahan Oatmeal Saus Jeruk\n",
            "tidak ada bahan Oatmeal Saus Pepaya\n",
            "tidak ada bahan Pancake Daging\n",
            "ada bahan snack1 Pancake Labu\n",
            "tidak ada bahan Pasta Couscous\n",
            "ada bahan snack1 Perkedel Lele\n",
            "tidak ada bahan Pikelet Sayur\n",
            "ada bahan pagi Pisang Mangga Rebus\n",
            "tidak ada bahan Puding Beras\n",
            "ada bahan snack1 Puding Jeruk Pepaya\n",
            "ada bahan snack1 Puding Yogurt Saus Alpukat\n",
            "ada bahan pagi Pure Alpukat dan Pepaya\n",
            "ada bahan pagi Pure Apel dan Papaya\n",
            "ada bahan pagi Pure Jagung Manis\n",
            "ada bahan pagi Pure Pisang dan Pepaya\n",
            "ada bahan pagi Pure Tepung Beras Putih, Zukini, dan Ubi Kuning\n",
            "ada bahan pagi Pure Tiga Rasa\n",
            "ada bahan pagi Pure Ubi Kuning\n",
            "ada bahan pagi Pure Ubi Kuning dan Beras Merah\n",
            "tidak ada bahan Rissoles Keju\n",
            "tidak ada bahan Roti Panggang Sedap\n",
            "ada bahan pagi Sayur Kukus\n",
            "ada bahan siang Smoothies Pisang\n",
            "tidak ada bahan Snack Roti\n",
            "tidak ada bahan Snack Sayur\n",
            "tidak ada bahan Spageti Creamy\n",
            "tidak ada bahan Stim Tahu Brokoli\n",
            "tidak ada bahan Sup Ayam Sapi\n",
            "tidak ada bahan Sup Ayam Tomat\n",
            "tidak ada bahan Sup Ikan\n",
            "tidak ada bahan Sup Kental Kentang Salmon\n",
            "ada bahan siang Sup Labu Kuning\n",
            "tidak ada bahan Sup Madu Kedelai Domba\n",
            "ada bahan pagi Sup Mihun Ikan Gabus\n",
            "tidak ada bahan Sup Tomat\n",
            "tidak ada bahan Telur Ayam Gulung\n",
            "tidak ada bahan Telur Ayam Gulung Bayi\n",
            "tidak ada bahan Telur Cacah Keju\n",
            "ada bahan siang Tim Lele\n",
            "ada bahan siang Tim Saring\n",
            "tidak ada bahan Tumis Ikan Dori\n",
            "tidak ada bahan Tuna Mornay\n",
            "ada bahan snack1 Yoghurt Buah Pop\n",
            "tidak ada bahan Yoghurt Buah Smoothie\n"
          ]
        },
        {
          "output_type": "execute_result",
          "data": {
            "text/plain": [
              "               nama_resep                                         nama_bahan\n",
              "0    Agar-agar Isi Blewah                           Blewah, Melon, Agar-Agar\n",
              "1              Apel Rebus                                               Apel\n",
              "3            Apricot Tahu                           Tahu Sutra, Pisang, Apel\n",
              "7        Biskuit Oat Ceri            Unsalted Butter, Oatmeal, Ceri, Maizena\n",
              "8      Biskuit Oat Wortel          Maizena, Unsalted Butter, Wortel, Oatmeal\n",
              "..                    ...                                                ...\n",
              "147       Sup Labu Kuning                                        Labu Kuning\n",
              "149  Sup Mihun Ikan Gabus  Bihun, Gabus, Kaldu Ikan, Bawang Putih, Margar...\n",
              "154              Tim Lele                   Tahu Sutra, Wortel, Belut, Beras\n",
              "155            Tim Saring  Beras, Kaldu Ayam, Ikan Salmon, Beras Merah, W...\n",
              "158      Yoghurt Buah Pop                                 Strawbery, Yoghurt\n",
              "\n",
              "[77 rows x 2 columns]"
            ],
            "text/html": [
              "\n",
              "  <div id=\"df-a4f799d7-1f71-439f-85e2-b425f580962b\">\n",
              "    <div class=\"colab-df-container\">\n",
              "      <div>\n",
              "<style scoped>\n",
              "    .dataframe tbody tr th:only-of-type {\n",
              "        vertical-align: middle;\n",
              "    }\n",
              "\n",
              "    .dataframe tbody tr th {\n",
              "        vertical-align: top;\n",
              "    }\n",
              "\n",
              "    .dataframe thead th {\n",
              "        text-align: right;\n",
              "    }\n",
              "</style>\n",
              "<table border=\"1\" class=\"dataframe\">\n",
              "  <thead>\n",
              "    <tr style=\"text-align: right;\">\n",
              "      <th></th>\n",
              "      <th>nama_resep</th>\n",
              "      <th>nama_bahan</th>\n",
              "    </tr>\n",
              "  </thead>\n",
              "  <tbody>\n",
              "    <tr>\n",
              "      <th>0</th>\n",
              "      <td>Agar-agar Isi Blewah</td>\n",
              "      <td>Blewah, Melon, Agar-Agar</td>\n",
              "    </tr>\n",
              "    <tr>\n",
              "      <th>1</th>\n",
              "      <td>Apel Rebus</td>\n",
              "      <td>Apel</td>\n",
              "    </tr>\n",
              "    <tr>\n",
              "      <th>3</th>\n",
              "      <td>Apricot Tahu</td>\n",
              "      <td>Tahu Sutra, Pisang, Apel</td>\n",
              "    </tr>\n",
              "    <tr>\n",
              "      <th>7</th>\n",
              "      <td>Biskuit Oat Ceri</td>\n",
              "      <td>Unsalted Butter, Oatmeal, Ceri, Maizena</td>\n",
              "    </tr>\n",
              "    <tr>\n",
              "      <th>8</th>\n",
              "      <td>Biskuit Oat Wortel</td>\n",
              "      <td>Maizena, Unsalted Butter, Wortel, Oatmeal</td>\n",
              "    </tr>\n",
              "    <tr>\n",
              "      <th>...</th>\n",
              "      <td>...</td>\n",
              "      <td>...</td>\n",
              "    </tr>\n",
              "    <tr>\n",
              "      <th>147</th>\n",
              "      <td>Sup Labu Kuning</td>\n",
              "      <td>Labu Kuning</td>\n",
              "    </tr>\n",
              "    <tr>\n",
              "      <th>149</th>\n",
              "      <td>Sup Mihun Ikan Gabus</td>\n",
              "      <td>Bihun, Gabus, Kaldu Ikan, Bawang Putih, Margar...</td>\n",
              "    </tr>\n",
              "    <tr>\n",
              "      <th>154</th>\n",
              "      <td>Tim Lele</td>\n",
              "      <td>Tahu Sutra, Wortel, Belut, Beras</td>\n",
              "    </tr>\n",
              "    <tr>\n",
              "      <th>155</th>\n",
              "      <td>Tim Saring</td>\n",
              "      <td>Beras, Kaldu Ayam, Ikan Salmon, Beras Merah, W...</td>\n",
              "    </tr>\n",
              "    <tr>\n",
              "      <th>158</th>\n",
              "      <td>Yoghurt Buah Pop</td>\n",
              "      <td>Strawbery, Yoghurt</td>\n",
              "    </tr>\n",
              "  </tbody>\n",
              "</table>\n",
              "<p>77 rows × 2 columns</p>\n",
              "</div>\n",
              "      <button class=\"colab-df-convert\" onclick=\"convertToInteractive('df-a4f799d7-1f71-439f-85e2-b425f580962b')\"\n",
              "              title=\"Convert this dataframe to an interactive table.\"\n",
              "              style=\"display:none;\">\n",
              "        \n",
              "  <svg xmlns=\"http://www.w3.org/2000/svg\" height=\"24px\"viewBox=\"0 0 24 24\"\n",
              "       width=\"24px\">\n",
              "    <path d=\"M0 0h24v24H0V0z\" fill=\"none\"/>\n",
              "    <path d=\"M18.56 5.44l.94 2.06.94-2.06 2.06-.94-2.06-.94-.94-2.06-.94 2.06-2.06.94zm-11 1L8.5 8.5l.94-2.06 2.06-.94-2.06-.94L8.5 2.5l-.94 2.06-2.06.94zm10 10l.94 2.06.94-2.06 2.06-.94-2.06-.94-.94-2.06-.94 2.06-2.06.94z\"/><path d=\"M17.41 7.96l-1.37-1.37c-.4-.4-.92-.59-1.43-.59-.52 0-1.04.2-1.43.59L10.3 9.45l-7.72 7.72c-.78.78-.78 2.05 0 2.83L4 21.41c.39.39.9.59 1.41.59.51 0 1.02-.2 1.41-.59l7.78-7.78 2.81-2.81c.8-.78.8-2.07 0-2.86zM5.41 20L4 18.59l7.72-7.72 1.47 1.35L5.41 20z\"/>\n",
              "  </svg>\n",
              "      </button>\n",
              "      \n",
              "  <style>\n",
              "    .colab-df-container {\n",
              "      display:flex;\n",
              "      flex-wrap:wrap;\n",
              "      gap: 12px;\n",
              "    }\n",
              "\n",
              "    .colab-df-convert {\n",
              "      background-color: #E8F0FE;\n",
              "      border: none;\n",
              "      border-radius: 50%;\n",
              "      cursor: pointer;\n",
              "      display: none;\n",
              "      fill: #1967D2;\n",
              "      height: 32px;\n",
              "      padding: 0 0 0 0;\n",
              "      width: 32px;\n",
              "    }\n",
              "\n",
              "    .colab-df-convert:hover {\n",
              "      background-color: #E2EBFA;\n",
              "      box-shadow: 0px 1px 2px rgba(60, 64, 67, 0.3), 0px 1px 3px 1px rgba(60, 64, 67, 0.15);\n",
              "      fill: #174EA6;\n",
              "    }\n",
              "\n",
              "    [theme=dark] .colab-df-convert {\n",
              "      background-color: #3B4455;\n",
              "      fill: #D2E3FC;\n",
              "    }\n",
              "\n",
              "    [theme=dark] .colab-df-convert:hover {\n",
              "      background-color: #434B5C;\n",
              "      box-shadow: 0px 1px 3px 1px rgba(0, 0, 0, 0.15);\n",
              "      filter: drop-shadow(0px 1px 2px rgba(0, 0, 0, 0.3));\n",
              "      fill: #FFFFFF;\n",
              "    }\n",
              "  </style>\n",
              "\n",
              "      <script>\n",
              "        const buttonEl =\n",
              "          document.querySelector('#df-a4f799d7-1f71-439f-85e2-b425f580962b button.colab-df-convert');\n",
              "        buttonEl.style.display =\n",
              "          google.colab.kernel.accessAllowed ? 'block' : 'none';\n",
              "\n",
              "        async function convertToInteractive(key) {\n",
              "          const element = document.querySelector('#df-a4f799d7-1f71-439f-85e2-b425f580962b');\n",
              "          const dataTable =\n",
              "            await google.colab.kernel.invokeFunction('convertToInteractive',\n",
              "                                                     [key], {});\n",
              "          if (!dataTable) return;\n",
              "\n",
              "          const docLinkHtml = 'Like what you see? Visit the ' +\n",
              "            '<a target=\"_blank\" href=https://colab.research.google.com/notebooks/data_table.ipynb>data table notebook</a>'\n",
              "            + ' to learn more about interactive tables.';\n",
              "          element.innerHTML = '';\n",
              "          dataTable['output_type'] = 'display_data';\n",
              "          await google.colab.output.renderOutput(dataTable, element);\n",
              "          const docLink = document.createElement('div');\n",
              "          docLink.innerHTML = docLinkHtml;\n",
              "          element.appendChild(docLink);\n",
              "        }\n",
              "      </script>\n",
              "    </div>\n",
              "  </div>\n",
              "  "
            ]
          },
          "metadata": {},
          "execution_count": 18
        }
      ],
      "source": [
        "list_resep = [a for a in komposisi_resep[\"nama_resep\"]]\n",
        "\n",
        "cek_resep = menu_harian.drop([\"id_kombinasi\",\"bulan_6\",\"bulan_7_8\",\"bulan_9_11\",\"bulan_12_24\",\"total_energi\",\"total_carbo\",\"total_protein\",\"total_lipid\"], axis = 1)\n",
        "komposisi_resep_filtered = komposisi_resep.copy()\n",
        "\n",
        "for a in list_resep:\n",
        "  mask = cek_resep.pagi.isin([a])\n",
        "  if mask.any():\n",
        "    print(\"ada bahan pagi {}\".format(a))\n",
        "  else:\n",
        "    mask = cek_resep.siang.isin([a])\n",
        "    if mask.any():\n",
        "      print(\"ada bahan siang {}\".format(a))\n",
        "    else:\n",
        "      mask = cek_resep.malam.isin([a])\n",
        "      if mask.any():\n",
        "        print(\"ada bahan malam {}\".format(a))\n",
        "      else:\n",
        "        mask = cek_resep.snack1.isin([a])\n",
        "        if mask.any():\n",
        "          print(\"ada bahan snack1 {}\".format(a))\n",
        "        else:\n",
        "          mask = cek_resep.snack2.isin([a])\n",
        "          if mask.any():\n",
        "            print(\"ada bahan snack2 {}\".format(a))\n",
        "          else:\n",
        "            print(\"tidak ada bahan {}\".format(a))\n",
        "            komposisi_resep_filtered.drop(komposisi_resep_filtered.index[komposisi_resep_filtered[\"nama_resep\"] == a], inplace=True)\n",
        "\n",
        "komposisi_resep_filtered"
      ]
    },
    {
      "cell_type": "code",
      "source": [
        "komposisi_resep_filtered.to_csv('komposisi_resep_filtered.csv')\n",
        "files.download(\"komposisi_resep_filtered.csv\")"
      ],
      "metadata": {
        "colab": {
          "base_uri": "https://localhost:8080/",
          "height": 17
        },
        "id": "wir8n7L2C_lc",
        "outputId": "01c03ce9-2e7b-47e7-e1a8-ebfda8f7d1ab"
      },
      "execution_count": null,
      "outputs": [
        {
          "output_type": "display_data",
          "data": {
            "text/plain": [
              "<IPython.core.display.Javascript object>"
            ],
            "application/javascript": [
              "\n",
              "    async function download(id, filename, size) {\n",
              "      if (!google.colab.kernel.accessAllowed) {\n",
              "        return;\n",
              "      }\n",
              "      const div = document.createElement('div');\n",
              "      const label = document.createElement('label');\n",
              "      label.textContent = `Downloading \"${filename}\": `;\n",
              "      div.appendChild(label);\n",
              "      const progress = document.createElement('progress');\n",
              "      progress.max = size;\n",
              "      div.appendChild(progress);\n",
              "      document.body.appendChild(div);\n",
              "\n",
              "      const buffers = [];\n",
              "      let downloaded = 0;\n",
              "\n",
              "      const channel = await google.colab.kernel.comms.open(id);\n",
              "      // Send a message to notify the kernel that we're ready.\n",
              "      channel.send({})\n",
              "\n",
              "      for await (const message of channel.messages) {\n",
              "        // Send a message to notify the kernel that we're ready.\n",
              "        channel.send({})\n",
              "        if (message.buffers) {\n",
              "          for (const buffer of message.buffers) {\n",
              "            buffers.push(buffer);\n",
              "            downloaded += buffer.byteLength;\n",
              "            progress.value = downloaded;\n",
              "          }\n",
              "        }\n",
              "      }\n",
              "      const blob = new Blob(buffers, {type: 'application/binary'});\n",
              "      const a = document.createElement('a');\n",
              "      a.href = window.URL.createObjectURL(blob);\n",
              "      a.download = filename;\n",
              "      div.appendChild(a);\n",
              "      a.click();\n",
              "      div.remove();\n",
              "    }\n",
              "  "
            ]
          },
          "metadata": {}
        },
        {
          "output_type": "display_data",
          "data": {
            "text/plain": [
              "<IPython.core.display.Javascript object>"
            ],
            "application/javascript": [
              "download(\"download_919e7910-8b91-4366-80d9-0c8e8db8e67f\", \"komposisi_resep_filtered.csv\", 3822)"
            ]
          },
          "metadata": {}
        }
      ]
    },
    {
      "cell_type": "code",
      "execution_count": null,
      "metadata": {
        "id": "JV3XhUhLrgfo"
      },
      "outputs": [],
      "source": [
        "def unique(list1):\n",
        "    # insert the list to the set\n",
        "    list_set = set(list1)\n",
        "    # convert the set to the list\n",
        "    unique_list = list(list_set)\n",
        "    unique_list.sort()\n",
        "\n",
        "    return unique_list"
      ]
    },
    {
      "cell_type": "code",
      "execution_count": null,
      "metadata": {
        "colab": {
          "base_uri": "https://localhost:8080/"
        },
        "id": "f6oT1dKslgfX",
        "outputId": "178190fc-a14d-4442-d65d-e5eb0114fa9f"
      },
      "outputs": [
        {
          "output_type": "stream",
          "name": "stdout",
          "text": [
            "16\n",
            "['Apel Rebus', 'Bubur Apel', 'Bubur Kacang Polong', 'Bubur Kembang Kol', 'Bubur Plum', 'Bubur Singkong Apel', 'Bubur Susu Kacang Polong', 'Bubur Ubi Kembang Kol', 'Pure Alpukat dan Pepaya', 'Pure Apel dan Papaya', 'Pure Jagung Manis', 'Pure Pisang dan Pepaya', 'Pure Tepung Beras Putih, Zukini, dan Ubi Kuning', 'Pure Tiga Rasa', 'Pure Ubi Kuning', 'Pure Ubi Kuning dan Beras Merah']\n",
            "19\n",
            "['Bubur Buah dan Sayur', 'Bubur Ceri Alpukat', 'Bubur Jagung Bayam Tahu', 'Bubur Kentang', 'Bubur Kentang Edamame', 'Bubur Labu Brokoli', 'Bubur Oatmeal', 'Bubur Pepaya', 'Bubur Pir', 'Bubur Pisang', 'Bubur Pisang Jeruk', 'Bubur Pisang Ubi', 'Bubur Talas Apel', 'Bubur Tempe Beras Merah', 'Bubur Tomat Kacang Merah', 'Bubur Ubi Bayam Kacang Polong', 'Bubur Wortel', 'Pisang Mangga Rebus', 'Sayur Kukus']\n",
            "20\n",
            "['Bubur Ayam Kedelai', 'Bubur Ayam Talas Keju', 'Bubur Ceri Alpukat', 'Bubur Jagung Bayam Tahu', 'Bubur Jagung Wortel', 'Bubur Kacang Hijau Kurma', 'Bubur Kentang', 'Bubur Kentang Edamame', 'Bubur Labu Brokoli', 'Bubur Pepaya', 'Bubur Pisang Kentang', 'Bubur Pisang Ubi', 'Bubur Sawi Wortel', 'Bubur Tahu', 'Bubur Tahu Wortel', 'Bubur Talas Apel', 'Bubur Ubi Bayam Kacang Polong', 'Bubur Wortel', 'Sayur Kukus', 'Tim Lele']\n",
            "14\n",
            "['Apricot Tahu', 'Bubur Beras Merah', 'Bubur Hunkwe Susu Keju', 'Bubur Jagung Susu', 'Bubur Makaroni Teri Bayam', 'Bubur Pisang Tomat', 'Bubur Tempe', 'Ikan Kembung Panggang', 'Oatmeal Kurma', 'Puding Jeruk Pepaya', 'Smoothies Pisang', 'Sup Labu Kuning', 'Sup Mihun Ikan Gabus', 'Tim Saring']\n"
          ]
        }
      ],
      "source": [
        "resep_bulan_6 = []\n",
        "resep_bulan_7_8 = []\n",
        "resep_bulan_9_11 = []\n",
        "resep_bulan_12_24 = []\n",
        "\n",
        "cek_bulan = menu_harian.drop([\"id_kombinasi\",\"total_energi\",\"total_carbo\",\"total_protein\",\"total_lipid\"], axis = 1)\n",
        "\n",
        "#bulan 6\n",
        "mask = menu_harian.bulan_6.isin([1])\n",
        "for x in range(len(mask)):\n",
        "  if mask[x] == True:\n",
        "    resep_bulan_6.append(cek_bulan.pagi[x])\n",
        "    resep_bulan_6.append(cek_bulan.siang[x])\n",
        "\n",
        "resep_bulan_6 = unique(resep_bulan_6)\n",
        "print(len(resep_bulan_6))\n",
        "print(resep_bulan_6)\n",
        "\n",
        "#bulan 7 8\n",
        "mask = menu_harian.bulan_7_8.isin([1])\n",
        "for x in range(len(mask)):\n",
        "  if mask[x] == True:\n",
        "    resep_bulan_7_8.append(cek_bulan.pagi[x])\n",
        "    resep_bulan_7_8.append(cek_bulan.siang[x])\n",
        "    resep_bulan_7_8.append(cek_bulan.malam[x])\n",
        "\n",
        "resep_bulan_7_8 = unique(resep_bulan_7_8)\n",
        "print(len(resep_bulan_7_8))\n",
        "print(resep_bulan_7_8)\n",
        "\n",
        "#bulan 9 11\n",
        "mask = menu_harian.bulan_9_11.isin([1])\n",
        "for x in range(len(mask)):\n",
        "  if mask[x] == True:\n",
        "    resep_bulan_9_11.append(cek_bulan.pagi[x])\n",
        "    resep_bulan_9_11.append(cek_bulan.siang[x])\n",
        "    resep_bulan_7_8.append(cek_bulan.malam[x])\n",
        "    resep_bulan_7_8.append(cek_bulan.snack1[x])\n",
        "\n",
        "resep_bulan_9_11 = unique(resep_bulan_9_11)\n",
        "print(len(resep_bulan_9_11))\n",
        "print(resep_bulan_9_11)\n",
        "\n",
        "#bulan 12 24\n",
        "mask = menu_harian.bulan_12_24.isin([1])\n",
        "for x in range(len(mask)):\n",
        "  if mask[x] == True:\n",
        "    resep_bulan_12_24.append(cek_bulan.pagi[x])\n",
        "    resep_bulan_12_24.append(cek_bulan.siang[x])\n",
        "    resep_bulan_12_24.append(cek_bulan.malam[x])\n",
        "    resep_bulan_12_24.append(cek_bulan.snack1[x])\n",
        "    resep_bulan_12_24.append(cek_bulan.snack2[x])\n",
        "\n",
        "resep_bulan_12_24 = unique(resep_bulan_12_24)\n",
        "print(len(resep_bulan_12_24))\n",
        "print(resep_bulan_12_24)\n"
      ]
    },
    {
      "cell_type": "markdown",
      "metadata": {
        "id": "BUOwZ9pknOJk"
      },
      "source": [
        "# Simulasi Aplikasi SIMPASI - User Baru"
      ]
    },
    {
      "cell_type": "markdown",
      "metadata": {
        "id": "HUAk9ShCnWd7"
      },
      "source": [
        "Pada user baru, customer akan melewati tahap-tahap berikut akan berupa:\n",
        "\n",
        "1.   Log-in/Sign-up dengan email dan passsword\n",
        "2.   Meminta data bayi berupa nama, tanggal lahir, bahan yang pernah dicoba sebelumnya (suka/tidak suka/alergi)\n",
        "3.   Mendapatkan rekomendasi makanan dari riwayat makanan yang disukai/tidak disukai/alergi\n",
        "\n",
        "\n"
      ]
    },
    {
      "cell_type": "markdown",
      "metadata": {
        "id": "UEfUBqHgtCAG"
      },
      "source": [
        "Sehingga, sistem rekomendasi harus melakukan:\n",
        "\n",
        "\n",
        "1.   Meminta username/email/password untuk masuk ke akun\n",
        "2.   Meminta nama, tanggal lahir, bahan yang pernah dicoba sebelumnya *(suka/tidak suka/alergi)\n",
        "3.   Menawarkan resep berdasarkan data bahan\n",
        "4.   Menghitung Umur dan EER anak\n",
        "5.   Merekomendasikan resep yang sesuai dengan profil\n",
        "6.   Memfilter resep berdasarkan alergi bahan\n",
        "7.   Memfilter menu makanan berdasarkan umur dan EER\n",
        "8.   Menampilkan kombinasi menu dari resep yang cocok\n"
      ]
    },
    {
      "cell_type": "markdown",
      "metadata": {
        "id": "y0B3bAQ8m9Tk"
      },
      "source": [
        "\n",
        "## I. *Contoh Profil User*"
      ]
    },
    {
      "cell_type": "code",
      "execution_count": null,
      "metadata": {
        "id": "TWhr29LFqa3Y",
        "colab": {
          "base_uri": "https://localhost:8080/"
        },
        "outputId": "93358786-9ced-43d6-82a6-3f325bcbd442"
      },
      "outputs": [
        {
          "output_type": "stream",
          "name": "stdout",
          "text": [
            "Masukkan email: fatursrahman@gmail.com\n",
            "Masukkan Nama Username: Fathur\n",
            "Masukkan Password: qwe\n",
            "Masukkan nama: tor\n",
            "Masukkan tanggal lahir: 17/07/2021\n",
            "Masukkan Berat Badan bayi: 6.9\n",
            "fatursrahman@gmail.com\n",
            "Fathur\n",
            "tor\n",
            "17/07/2021\n",
            "101\n",
            "6.9\n"
          ]
        }
      ],
      "source": [
        "#Contoh\n",
        "# email = []\n",
        "email = str(input(\"Masukkan email\" + \": \"))\n",
        "# email.append(x)\n",
        "\n",
        "# username = []\n",
        "username = str(input(\"Masukkan Nama Username\" + \": \"))\n",
        "# username.append(x)\n",
        "\n",
        "# password = []\n",
        "password = str(input(\"Masukkan Password\" + \": \"))\n",
        "# password.append(x)\n",
        "\n",
        "# nama_bayi = []\n",
        "nama_bayi = str(input(\"Masukkan nama\" + \": \"))\n",
        "# nama_bayi.append(x)\n",
        "\n",
        "# tanggal_lahir = []\n",
        "tanggal_lahir = str(input(\"Masukkan tanggal lahir\" + \": \"))\n",
        "# tanggal_lahir.append(x)\n",
        "#\"17/07/2021\"\n",
        "\n",
        "id_bayi = 101\n",
        "# id_bayi.append(int(len(tanggal_lahir)+100))\n",
        "#\"101\"\n",
        "\n",
        "# berat_badan = []\n",
        "berat_badan = float(input(\"Masukkan Berat Badan bayi\" + \": \"))\n",
        "# berat_badan.append(x)\n",
        "#6.9\n",
        "\n",
        "print(email)\n",
        "print(username)\n",
        "print(nama_bayi)\n",
        "print(tanggal_lahir)\n",
        "print(id_bayi)\n",
        "print(berat_badan)"
      ]
    },
    {
      "cell_type": "markdown",
      "metadata": {
        "id": "zpqwC-QdFQaK"
      },
      "source": [
        "## II. Cek 8 Bahan (Suka, Tidak Suka, Alergi, Tidak tahu) dan Feedback Awal 3 Resep\n"
      ]
    },
    {
      "cell_type": "code",
      "execution_count": null,
      "metadata": {
        "colab": {
          "base_uri": "https://localhost:8080/"
        },
        "id": "KRU3hlUFdJTl",
        "outputId": "638e8d3f-8727-4b2c-9914-4916e0ec6ac1"
      },
      "outputs": [
        {
          "output_type": "stream",
          "name": "stdout",
          "text": [
            "Agar Laut\n"
          ]
        }
      ],
      "source": [
        "#Menampilkan Nama Bahan Berdasarkan ID\n",
        "def ingredient_name(id):\n",
        "  return bahan_makanan.loc[id, 'nama_bahan']\n",
        "\n",
        "#driver code\n",
        "print(ingredient_name(1))"
      ]
    },
    {
      "cell_type": "code",
      "execution_count": null,
      "metadata": {
        "colab": {
          "base_uri": "https://localhost:8080/"
        },
        "id": "OTmboNvBFPEF",
        "outputId": "4da35be6-6b66-43dc-f103-e770459615df"
      },
      "outputs": [
        {
          "output_type": "stream",
          "name": "stdout",
          "text": [
            "Pilih Suka/Tidak Suka/Alergi/Tidak Tahu Pada Bahan Yang Ditampilkan\n",
            "Ketik 1 = Suka, 2 = Tidak Suka, 3 = Alergi, 4 = Tidak Tahu\n",
            "Daging Sapi: 1\n",
            "Cumi-Cumi: 1\n",
            "Telur Bebek: 4\n",
            "Pisang: 4\n",
            "Telur Ayam: 4\n",
            "Kerang: 3\n",
            "Susu: 4\n",
            "Udang: 4\n",
            "[]\n",
            "['Daging Sapi', 'Cumi-Cumi']\n",
            "['Telur Bebek', 'Pisang', 'Telur Ayam', 'Susu', 'Udang']\n",
            "['Kerang']\n"
          ]
        }
      ],
      "source": [
        "#Bahan Alergi Umum: Susu, Telur Ayam, Telur Bebek, Kacang Tanah, Kacang Kedelai, Udang, Kerang, Cumi-Cumi, Tepung Beras, Roti, Daging Sapi, Pisang, Alpukat\n",
        "tes_bahan = [\"Susu\", \"Telur Ayam\", \"Telur Bebek\", \"Kacang Tanah\", \"Kacang Kedelai\", \"Udang\", \"Kerang\", \"Cumi-Cumi\", \"Tepung Beras\", \"Roti Tawar\", \"Daging Sapi\", \"Pisang\", \"Alpukat\"]\n",
        "jumlah_tes = 8\n",
        "alergi = []\n",
        "tidak_suka = []\n",
        "suka = []\n",
        "tidak_tahu = []\n",
        "\n",
        "import random\n",
        "tes_bahan_random = random.sample(tes_bahan, jumlah_tes)\n",
        "\n",
        "#Meminta 8 Feedback Bahan dari User\n",
        "print(\"Pilih Suka/Tidak Suka/Alergi/Tidak Tahu Pada Bahan Yang Ditampilkan\")\n",
        "print(\"Ketik 1 = Suka, 2 = Tidak Suka, 3 = Alergi, 4 = Tidak Tahu\")\n",
        "for i in range(len(tes_bahan_random)):\n",
        "\n",
        "  x = int(input(tes_bahan_random[i] + \": \"))\n",
        "\n",
        "  if x == 2:\n",
        "    tidak_suka.append(tes_bahan_random[i])\n",
        "  elif x == 3:\n",
        "    alergi.append(tes_bahan_random[i])\n",
        "  elif x == 4:\n",
        "    tidak_tahu.append(tes_bahan_random[i])\n",
        "  elif x == 1:\n",
        "    suka.append(tes_bahan_random[i])\n",
        "\n",
        "print(tidak_suka)\n",
        "print(suka)\n",
        "print(tidak_tahu)\n",
        "print(alergi)"
      ]
    },
    {
      "cell_type": "code",
      "source": [
        ""
      ],
      "metadata": {
        "id": "w7mvWXBODmOA"
      },
      "execution_count": null,
      "outputs": []
    },
    {
      "cell_type": "markdown",
      "metadata": {
        "id": "aM6RU_kZLpQI"
      },
      "source": [
        "## III. *Hitung Umur dan EER*"
      ]
    },
    {
      "cell_type": "code",
      "execution_count": null,
      "metadata": {
        "colab": {
          "base_uri": "https://localhost:8080/"
        },
        "id": "sm428CUsLvwl",
        "outputId": "e07cae1c-8a4e-460a-d04c-68c0302d09ab"
      },
      "outputs": [
        {
          "output_type": "stream",
          "name": "stdout",
          "text": [
            "Sekarang kamu berumur 0 tahun, 10 bulan, 20 hari.\n",
            "Kebutuhan energi harianmu: 482 - 589 Joule\n"
          ]
        }
      ],
      "source": [
        "from datetime import datetime\n",
        "from datetime import date\n",
        "\n",
        "#Fungsi Menghitung Umur User\n",
        "def ageCalculator(birthdate):\n",
        "  my_birthdate = datetime.strptime(birthdate, \"%d/%m/%Y\")\n",
        "  my_year = my_birthdate.year\n",
        "  my_month = my_birthdate.month\n",
        "  my_day = my_birthdate.year\n",
        "  \n",
        "  born = my_birthdate.date()\n",
        "  today = date.today()\n",
        "  \n",
        "  years = ((today-born).total_seconds()/ (365.242*24*3600))\n",
        "  yearsInt = int(years)\n",
        "  months = (years-yearsInt)*12\n",
        "  monthsInt = int(months)\n",
        "  days = (months-monthsInt)*(365.242/12)\n",
        "  daysInt = int(days)\n",
        "\n",
        "  return yearsInt, monthsInt, daysInt\n",
        "  \n",
        "\n",
        "#Fungsi Menghitung EER (Estimated Energy Requirements)\n",
        "def eerCalculator(year, month, day, weight):\n",
        "  if month == 6:\n",
        "    EER = (89*weight - 100) + 56\n",
        "  elif 7 <= month <= 12:\n",
        "    EER = (89*weight - 100) + 22\n",
        "  elif 13 <= month <= 35:\n",
        "    EER = (89*weight - 100) + 20\n",
        "  \n",
        "  return EER\n",
        "  \n",
        "#Driver Code\n",
        "#Cari Umur User (Tahun, Bulan, Tanggal)\n",
        "tahun, bulan, hari = ageCalculator(tanggal_lahir)\n",
        "print(\"Sekarang kamu berumur {0} tahun, {1} bulan, {2} hari.\".format(tahun , bulan, hari))\n",
        "\n",
        "#Cari EER User (+-10%)\n",
        "eer = eerCalculator(tahun, bulan, hari, berat_badan)\n",
        "print(\"Kebutuhan energi harianmu: {0} - {1} Joule\".format(int(eer*0.9), int(eer*1.1)))"
      ]
    },
    {
      "cell_type": "markdown",
      "metadata": {
        "id": "pQKljr2cLypQ"
      },
      "source": [
        "## IV. *Model Sistem Rekomendasi Menu MPASI*"
      ]
    },
    {
      "cell_type": "code",
      "execution_count": null,
      "metadata": {
        "id": "3V3eKsWEzSoL"
      },
      "outputs": [],
      "source": [
        "df = pd.read_csv(feedback_dir)\n",
        "feedback_slices = tf.data.Dataset.from_tensor_slices(dict(df))"
      ]
    },
    {
      "cell_type": "code",
      "execution_count": null,
      "metadata": {
        "colab": {
          "base_uri": "https://localhost:8080/"
        },
        "id": "GeikqJC6zbBT",
        "outputId": "420063a1-a9be-43a9-900c-c94fff5ecf87"
      },
      "outputs": [
        {
          "output_type": "execute_result",
          "data": {
            "text/plain": [
              "{'hari': TensorSpec(shape=(), dtype=tf.string, name=None),\n",
              " 'id_feedback': TensorSpec(shape=(), dtype=tf.int64, name=None),\n",
              " 'id_resep': TensorSpec(shape=(), dtype=tf.int64, name=None),\n",
              " 'jumlah_feedback': TensorSpec(shape=(), dtype=tf.int64, name=None),\n",
              " 'keterangan': TensorSpec(shape=(), dtype=tf.string, name=None),\n",
              " 'nama_resep': TensorSpec(shape=(), dtype=tf.string, name=None),\n",
              " 'nilai_feedback': TensorSpec(shape=(), dtype=tf.int64, name=None),\n",
              " 'user_id': TensorSpec(shape=(), dtype=tf.int64, name=None)}"
            ]
          },
          "metadata": {},
          "execution_count": 27
        }
      ],
      "source": [
        "feedback_slices.element_spec"
      ]
    },
    {
      "cell_type": "code",
      "source": [
        "feedback_slices"
      ],
      "metadata": {
        "colab": {
          "base_uri": "https://localhost:8080/"
        },
        "id": "OFKvx37joIfP",
        "outputId": "223df508-ffe8-4ea2-cb0c-35bf7ec7ce5a"
      },
      "execution_count": null,
      "outputs": [
        {
          "output_type": "execute_result",
          "data": {
            "text/plain": [
              "<TensorSliceDataset element_spec={'id_feedback': TensorSpec(shape=(), dtype=tf.int64, name=None), 'user_id': TensorSpec(shape=(), dtype=tf.int64, name=None), 'id_resep': TensorSpec(shape=(), dtype=tf.int64, name=None), 'nilai_feedback': TensorSpec(shape=(), dtype=tf.int64, name=None), 'hari': TensorSpec(shape=(), dtype=tf.string, name=None), 'keterangan': TensorSpec(shape=(), dtype=tf.string, name=None), 'jumlah_feedback': TensorSpec(shape=(), dtype=tf.int64, name=None), 'nama_resep': TensorSpec(shape=(), dtype=tf.string, name=None)}>"
            ]
          },
          "metadata": {},
          "execution_count": 28
        }
      ]
    },
    {
      "cell_type": "code",
      "execution_count": null,
      "metadata": {
        "id": "SkB5b7hBz8T9"
      },
      "outputs": [],
      "source": [
        "komposisi_resep_filtered_slices = tf.data.Dataset.from_tensor_slices(dict(komposisi_resep_filtered))"
      ]
    },
    {
      "cell_type": "code",
      "execution_count": null,
      "metadata": {
        "colab": {
          "base_uri": "https://localhost:8080/"
        },
        "id": "RnZLdQjQ0Cbd",
        "outputId": "3f816461-2e50-47e7-b5e9-94bdc09457c7"
      },
      "outputs": [
        {
          "output_type": "execute_result",
          "data": {
            "text/plain": [
              "{'nama_bahan': TensorSpec(shape=(), dtype=tf.string, name=None),\n",
              " 'nama_resep': TensorSpec(shape=(), dtype=tf.string, name=None)}"
            ]
          },
          "metadata": {},
          "execution_count": 30
        }
      ],
      "source": [
        "komposisi_resep_filtered_slices.element_spec"
      ]
    },
    {
      "cell_type": "code",
      "execution_count": null,
      "metadata": {
        "id": "C1-Mm3INcR_K"
      },
      "outputs": [],
      "source": [
        "# Make numpy values easier to read.\n",
        "np.set_printoptions(precision=3, suppress=True)"
      ]
    },
    {
      "cell_type": "code",
      "execution_count": null,
      "metadata": {
        "id": "gND1pkNefEZR"
      },
      "outputs": [],
      "source": [
        "feedback = feedback_slices.map(lambda x: {\n",
        "    \"nama_resep\": x[\"nama_resep\"],\n",
        "    \"user_id\": tf.strings.as_string(x[\"user_id\"]),\n",
        "})\n",
        "menu = komposisi_resep_filtered_slices.map(lambda x: x[\"nama_resep\"])"
      ]
    },
    {
      "cell_type": "code",
      "source": [
        "print(feedback)"
      ],
      "metadata": {
        "id": "rG6VQtYoxLIy"
      },
      "execution_count": null,
      "outputs": []
    },
    {
      "cell_type": "code",
      "execution_count": null,
      "metadata": {
        "id": "N5oEwnESgHEB"
      },
      "outputs": [],
      "source": [
        "tf.random.set_seed(12)\n",
        "shuffled = feedback.shuffle(100, seed=12, reshuffle_each_iteration=False)\n",
        "\n",
        "train = shuffled.take(80)\n",
        "test = shuffled.skip(80).take(20)"
      ]
    },
    {
      "cell_type": "code",
      "execution_count": null,
      "metadata": {
        "id": "hBy7ETOOgZkZ"
      },
      "outputs": [],
      "source": [
        "nama_resep = menu.batch(10)\n",
        "user_ids = feedback.batch(100).map(lambda x: (x[\"user_id\"]))\n",
        "\n",
        "unique_menu = np.unique(np.concatenate(list(nama_resep)))\n",
        "unique_user_ids = np.unique(np.concatenate(list(user_ids)))"
      ]
    },
    {
      "cell_type": "code",
      "execution_count": null,
      "metadata": {
        "colab": {
          "base_uri": "https://localhost:8080/"
        },
        "id": "a8CuvFRxqOjU",
        "outputId": "dcaae1a2-bc9e-49cd-b236-241931b46a14"
      },
      "outputs": [
        {
          "output_type": "stream",
          "name": "stdout",
          "text": [
            "TensorSpec(shape=(None,), dtype=tf.string, name=None)\n",
            "TensorSpec(shape=(None,), dtype=tf.string, name=None)\n"
          ]
        }
      ],
      "source": [
        "print(nama_resep.element_spec)\n",
        "print(user_ids.element_spec)"
      ]
    },
    {
      "cell_type": "code",
      "execution_count": null,
      "metadata": {
        "colab": {
          "base_uri": "https://localhost:8080/"
        },
        "id": "pZCpV32cic2b",
        "outputId": "2ff91f72-f4d7-4a0f-be63-082eba11f083"
      },
      "outputs": [
        {
          "output_type": "stream",
          "name": "stdout",
          "text": [
            "77\n",
            "[b'Agar-agar Isi Blewah' b'Apel Rebus' b'Apricot Tahu' b'Biskuit Oat Ceri'\n",
            " b'Biskuit Oat Wortel' b'Biskuit Sereal' b'Bola-bola Ubi' b'Bubur Apel'\n",
            " b'Bubur Ayam Kedelai' b'Bubur Ayam Talas Keju' b'Bubur Beras Merah'\n",
            " b'Bubur Buah dan Sayur' b'Bubur Ceri Alpukat' b'Bubur Hunkwe Susu Keju'\n",
            " b'Bubur Jagung Bayam Tahu' b'Bubur Jagung Susu' b'Bubur Jagung Wortel'\n",
            " b'Bubur Kacang Hijau Kurma' b'Bubur Kacang Polong' b'Bubur Kembang Kol'\n",
            " b'Bubur Kentang' b'Bubur Kentang Edamame' b'Bubur Labu Brokoli'\n",
            " b'Bubur Makaroni Teri Bayam' b'Bubur Oatmeal' b'Bubur Pepaya'\n",
            " b'Bubur Pir' b'Bubur Pisang' b'Bubur Pisang Jeruk'\n",
            " b'Bubur Pisang Kentang' b'Bubur Pisang Tomat' b'Bubur Pisang Ubi'\n",
            " b'Bubur Plum' b'Bubur Sawi Wortel' b'Bubur Singkong Apel'\n",
            " b'Bubur Susu Kacang Polong' b'Bubur Tahu' b'Bubur Tahu Wortel'\n",
            " b'Bubur Talas Apel' b'Bubur Tempe' b'Bubur Tempe Beras Merah'\n",
            " b'Bubur Tomat Kacang Merah' b'Bubur Ubi Bayam Kacang Polong'\n",
            " b'Bubur Ubi Kembang Kol' b'Bubur Wortel' b'Daging Ungkep'\n",
            " b'Ikan Kembung Panggang' b'Jus Alpukat Jeruk' b'Jus Melon Alpukat'\n",
            " b'Jus Pisang Kurma' b'Kue Pisang' b'Kukis Batang Keju'\n",
            " b'Kukis Havermut Apel' b'Kukis Meses' b'Kukis Oatmeal Keju'\n",
            " b'Lapis Mangga' b'Oatmeal Kurma' b'Pancake Labu' b'Perkedel Lele'\n",
            " b'Pisang Mangga Rebus' b'Puding Jeruk Pepaya'\n",
            " b'Puding Yogurt Saus Alpukat' b'Pure Alpukat dan Pepaya'\n",
            " b'Pure Apel dan Papaya' b'Pure Jagung Manis' b'Pure Pisang dan Pepaya'\n",
            " b'Pure Tepung Beras Putih, Zukini, dan Ubi Kuning' b'Pure Tiga Rasa'\n",
            " b'Pure Ubi Kuning' b'Pure Ubi Kuning dan Beras Merah' b'Sayur Kukus'\n",
            " b'Smoothies Pisang' b'Sup Labu Kuning' b'Sup Mihun Ikan Gabus'\n",
            " b'Tim Lele' b'Tim Saring' b'Yoghurt Buah Pop']\n",
            "41\n",
            "[b'1' b'11' b'12' b'15' b'19' b'2' b'23' b'25' b'26' b'28' b'3' b'31'\n",
            " b'32' b'34' b'35' b'36' b'39' b'42' b'5' b'51' b'58' b'6' b'64' b'66'\n",
            " b'7' b'71' b'74' b'77' b'78' b'79' b'80' b'81' b'86' b'88' b'9' b'90'\n",
            " b'93' b'94' b'95' b'97' b'99']\n"
          ]
        }
      ],
      "source": [
        "print(len(unique_menu))\n",
        "print(unique_menu)\n",
        "print(len(unique_user_ids))\n",
        "print(unique_user_ids)"
      ]
    },
    {
      "cell_type": "code",
      "execution_count": null,
      "metadata": {
        "id": "5btujF0Tgpo_"
      },
      "outputs": [],
      "source": [
        "embedding_dimension = 16"
      ]
    },
    {
      "cell_type": "code",
      "execution_count": null,
      "metadata": {
        "id": "vuI2Sf7qhFKR"
      },
      "outputs": [],
      "source": [
        "#Query Tower\n",
        "user_model = tf.keras.Sequential([\n",
        "  tf.keras.layers.StringLookup(\n",
        "      vocabulary=unique_user_ids, mask_token=None),\n",
        "  # We add an additional embedding to account for unknown tokens.\n",
        "  tf.keras.layers.Embedding(len(unique_user_ids) + 1, embedding_dimension)\n",
        "])"
      ]
    },
    {
      "cell_type": "code",
      "execution_count": null,
      "metadata": {
        "id": "0FUG3VeKj7DB"
      },
      "outputs": [],
      "source": [
        "#Candidate Tower\n",
        "menu_model = tf.keras.Sequential([\n",
        "  tf.keras.layers.StringLookup(\n",
        "      vocabulary=unique_menu, mask_token=None),\n",
        "  tf.keras.layers.Embedding(len(unique_menu) + 1, embedding_dimension)\n",
        "])"
      ]
    },
    {
      "cell_type": "code",
      "execution_count": null,
      "metadata": {
        "id": "SOrJCmabqOZg"
      },
      "outputs": [],
      "source": [
        "#metrics\n",
        "metrics = tfrs.metrics.FactorizedTopK(\n",
        "  candidates=menu.batch(64).map(menu_model)\n",
        ")"
      ]
    },
    {
      "cell_type": "code",
      "execution_count": null,
      "metadata": {
        "id": "eu_W9n8TqcfV"
      },
      "outputs": [],
      "source": [
        "#loss\n",
        "task = tfrs.tasks.Retrieval(\n",
        "  metrics=metrics\n",
        ")"
      ]
    },
    {
      "cell_type": "code",
      "execution_count": null,
      "metadata": {
        "id": "3sUnw04Eqm7Y"
      },
      "outputs": [],
      "source": [
        "class SIMPASIModel(tfrs.Model):\n",
        "\n",
        "  def __init__(self, user_model, menu_model):\n",
        "    super().__init__()\n",
        "    self.menu_model: tf.keras.Model = menu_model\n",
        "    self.user_model: tf.keras.Model = user_model\n",
        "    self.task: tf.keras.layers.Layer = task\n",
        "\n",
        "  def compute_loss(self, features: Dict[Text, tf.Tensor], training=False) -> tf.Tensor:\n",
        "    # We pick out the user features and pass them into the user model.\n",
        "    user_embeddings = self.user_model(features[\"user_id\"])\n",
        "    # And pick out the movie features and pass them into the movie model,\n",
        "    # getting embeddings back.\n",
        "    positive_menu_embeddings = self.menu_model(features[\"nama_resep\"])\n",
        "\n",
        "    # The task computes the loss and the metrics.\n",
        "    return self.task(user_embeddings, positive_menu_embeddings)"
      ]
    },
    {
      "cell_type": "code",
      "execution_count": null,
      "metadata": {
        "id": "m2TmUQJssDU_"
      },
      "outputs": [],
      "source": [
        "class NoBaseClassSIMPASIModel(tf.keras.Model):\n",
        "\n",
        "  def __init__(self, user_model, menu_model):\n",
        "    super().__init__()\n",
        "    self.menu_model: tf.keras.Model = menu_model\n",
        "    self.user_model: tf.keras.Model = user_model\n",
        "    self.task: tf.keras.layers.Layer = task\n",
        "\n",
        "  def train_step(self, features: Dict[Text, tf.Tensor]) -> tf.Tensor:\n",
        "\n",
        "    # Set up a gradient tape to record gradients.\n",
        "    with tf.GradientTape() as tape:\n",
        "\n",
        "      # Loss computation.\n",
        "      user_embeddings = self.user_model(features[\"user_id\"])\n",
        "      positive_menu_embeddings = self.menu_model(features[\"nama_resep\"])\n",
        "      loss = self.task(user_embeddings, positive_menu_embeddings)\n",
        "\n",
        "      # Handle regularization losses as well.\n",
        "      regularization_loss = sum(self.losses)\n",
        "\n",
        "      total_loss = loss + regularization_loss\n",
        "\n",
        "    gradients = tape.gradient(total_loss, self.trainable_variables)\n",
        "    self.optimizer.apply_gradients(zip(gradients, self.trainable_variables))\n",
        "\n",
        "    metrics = {metric.name: metric.result() for metric in self.metrics}\n",
        "    metrics[\"loss\"] = loss\n",
        "    metrics[\"regularization_loss\"] = regularization_loss\n",
        "    metrics[\"total_loss\"] = total_loss\n",
        "\n",
        "    return metrics\n",
        "\n",
        "  def test_step(self, features: Dict[Text, tf.Tensor]) -> tf.Tensor:\n",
        "\n",
        "    # Loss computation.\n",
        "    user_embeddings = self.user_model(features[\"user_id\"])\n",
        "    positive_menu_embeddings = self.movie_model(features[\"nama_resep\"])\n",
        "    loss = self.task(user_embeddings, positive_menu_embeddings)\n",
        "\n",
        "    # Handle regularization losses as well.\n",
        "    regularization_loss = sum(self.losses)\n",
        "\n",
        "    total_loss = loss + regularization_loss\n",
        "\n",
        "    metrics = {metric.name: metric.result() for metric in self.metrics}\n",
        "    metrics[\"loss\"] = loss\n",
        "    metrics[\"regularization_loss\"] = regularization_loss\n",
        "    metrics[\"total_loss\"] = total_loss\n",
        "\n",
        "    return metrics"
      ]
    },
    {
      "cell_type": "code",
      "execution_count": null,
      "metadata": {
        "id": "F-EdslV1upu_"
      },
      "outputs": [],
      "source": [
        "model = SIMPASIModel(user_model, menu_model)\n",
        "model.compile(optimizer=tf.keras.optimizers.Adagrad(learning_rate=0.1))"
      ]
    },
    {
      "cell_type": "code",
      "execution_count": null,
      "metadata": {
        "id": "cmULiqpQu7ZI"
      },
      "outputs": [],
      "source": [
        "cached_train = train.shuffle(10).batch(16).cache()\n",
        "cached_test = test.batch(8).cache()"
      ]
    },
    {
      "cell_type": "code",
      "source": [
        "cached_train.element_spec"
      ],
      "metadata": {
        "colab": {
          "base_uri": "https://localhost:8080/"
        },
        "id": "8rCQ8xKW1ETx",
        "outputId": "33900dfc-c125-4e9d-dff3-adc7d6dad870"
      },
      "execution_count": null,
      "outputs": [
        {
          "output_type": "execute_result",
          "data": {
            "text/plain": [
              "{'nama_resep': TensorSpec(shape=(None,), dtype=tf.string, name=None),\n",
              " 'user_id': TensorSpec(shape=(None,), dtype=tf.string, name=None)}"
            ]
          },
          "metadata": {},
          "execution_count": 46
        }
      ]
    },
    {
      "cell_type": "code",
      "source": [
        "print(cached_test)"
      ],
      "metadata": {
        "colab": {
          "base_uri": "https://localhost:8080/"
        },
        "id": "E7ivddINqTv9",
        "outputId": "32cf4a38-6819-45ae-9ea1-a9c5955d12e7"
      },
      "execution_count": null,
      "outputs": [
        {
          "output_type": "stream",
          "name": "stdout",
          "text": [
            "<CacheDataset element_spec={'nama_resep': TensorSpec(shape=(None,), dtype=tf.string, name=None), 'user_id': TensorSpec(shape=(None,), dtype=tf.string, name=None)}>\n"
          ]
        }
      ]
    },
    {
      "cell_type": "code",
      "execution_count": null,
      "metadata": {
        "colab": {
          "base_uri": "https://localhost:8080/"
        },
        "id": "r5wmKlEPwGVa",
        "outputId": "0aacaa3c-a5c5-4f05-e26f-3c4e458fb7d0"
      },
      "outputs": [
        {
          "output_type": "stream",
          "name": "stdout",
          "text": [
            "Epoch 1/10\n",
            "5/5 [==============================] - 2s 50ms/step - factorized_top_k/top_1_categorical_accuracy: 0.0000e+00 - factorized_top_k/top_5_categorical_accuracy: 0.0625 - factorized_top_k/top_10_categorical_accuracy: 0.1625 - factorized_top_k/top_50_categorical_accuracy: 0.7250 - factorized_top_k/top_100_categorical_accuracy: 1.0000 - loss: 44.3568 - regularization_loss: 0.0000e+00 - total_loss: 44.3568\n",
            "Epoch 2/10\n",
            "5/5 [==============================] - 0s 53ms/step - factorized_top_k/top_1_categorical_accuracy: 0.0625 - factorized_top_k/top_5_categorical_accuracy: 0.4750 - factorized_top_k/top_10_categorical_accuracy: 0.6875 - factorized_top_k/top_50_categorical_accuracy: 0.9750 - factorized_top_k/top_100_categorical_accuracy: 1.0000 - loss: 44.2037 - regularization_loss: 0.0000e+00 - total_loss: 44.2037\n",
            "Epoch 3/10\n",
            "5/5 [==============================] - 0s 46ms/step - factorized_top_k/top_1_categorical_accuracy: 0.0750 - factorized_top_k/top_5_categorical_accuracy: 0.8375 - factorized_top_k/top_10_categorical_accuracy: 0.9500 - factorized_top_k/top_50_categorical_accuracy: 0.9875 - factorized_top_k/top_100_categorical_accuracy: 1.0000 - loss: 43.8314 - regularization_loss: 0.0000e+00 - total_loss: 43.8314\n",
            "Epoch 4/10\n",
            "5/5 [==============================] - 0s 47ms/step - factorized_top_k/top_1_categorical_accuracy: 0.0875 - factorized_top_k/top_5_categorical_accuracy: 0.9250 - factorized_top_k/top_10_categorical_accuracy: 0.9750 - factorized_top_k/top_50_categorical_accuracy: 1.0000 - factorized_top_k/top_100_categorical_accuracy: 1.0000 - loss: 42.8357 - regularization_loss: 0.0000e+00 - total_loss: 42.8357\n",
            "Epoch 5/10\n",
            "5/5 [==============================] - 0s 45ms/step - factorized_top_k/top_1_categorical_accuracy: 0.0875 - factorized_top_k/top_5_categorical_accuracy: 0.9375 - factorized_top_k/top_10_categorical_accuracy: 1.0000 - factorized_top_k/top_50_categorical_accuracy: 1.0000 - factorized_top_k/top_100_categorical_accuracy: 1.0000 - loss: 40.7284 - regularization_loss: 0.0000e+00 - total_loss: 40.7284\n",
            "Epoch 6/10\n",
            "5/5 [==============================] - 0s 51ms/step - factorized_top_k/top_1_categorical_accuracy: 0.0875 - factorized_top_k/top_5_categorical_accuracy: 0.9500 - factorized_top_k/top_10_categorical_accuracy: 1.0000 - factorized_top_k/top_50_categorical_accuracy: 1.0000 - factorized_top_k/top_100_categorical_accuracy: 1.0000 - loss: 37.4413 - regularization_loss: 0.0000e+00 - total_loss: 37.4413\n",
            "Epoch 7/10\n",
            "5/5 [==============================] - 0s 51ms/step - factorized_top_k/top_1_categorical_accuracy: 0.0875 - factorized_top_k/top_5_categorical_accuracy: 0.9500 - factorized_top_k/top_10_categorical_accuracy: 1.0000 - factorized_top_k/top_50_categorical_accuracy: 1.0000 - factorized_top_k/top_100_categorical_accuracy: 1.0000 - loss: 33.4184 - regularization_loss: 0.0000e+00 - total_loss: 33.4184\n",
            "Epoch 8/10\n",
            "5/5 [==============================] - 0s 51ms/step - factorized_top_k/top_1_categorical_accuracy: 0.0875 - factorized_top_k/top_5_categorical_accuracy: 0.9875 - factorized_top_k/top_10_categorical_accuracy: 1.0000 - factorized_top_k/top_50_categorical_accuracy: 1.0000 - factorized_top_k/top_100_categorical_accuracy: 1.0000 - loss: 29.1836 - regularization_loss: 0.0000e+00 - total_loss: 29.1836\n",
            "Epoch 9/10\n",
            "5/5 [==============================] - 0s 45ms/step - factorized_top_k/top_1_categorical_accuracy: 0.1125 - factorized_top_k/top_5_categorical_accuracy: 0.9875 - factorized_top_k/top_10_categorical_accuracy: 1.0000 - factorized_top_k/top_50_categorical_accuracy: 1.0000 - factorized_top_k/top_100_categorical_accuracy: 1.0000 - loss: 25.1959 - regularization_loss: 0.0000e+00 - total_loss: 25.1959\n",
            "Epoch 10/10\n",
            "5/5 [==============================] - 0s 47ms/step - factorized_top_k/top_1_categorical_accuracy: 0.1125 - factorized_top_k/top_5_categorical_accuracy: 0.9875 - factorized_top_k/top_10_categorical_accuracy: 1.0000 - factorized_top_k/top_50_categorical_accuracy: 1.0000 - factorized_top_k/top_100_categorical_accuracy: 1.0000 - loss: 21.7684 - regularization_loss: 0.0000e+00 - total_loss: 21.7684\n"
          ]
        }
      ],
      "source": [
        "history = model.fit(cached_train, epochs=10)"
      ]
    },
    {
      "cell_type": "code",
      "execution_count": null,
      "metadata": {
        "colab": {
          "base_uri": "https://localhost:8080/"
        },
        "id": "HM7V9qTfWn1K",
        "outputId": "33ffd28e-547b-49e8-b39d-5b9e443c1b36"
      },
      "outputs": [
        {
          "output_type": "stream",
          "name": "stdout",
          "text": [
            "3/3 [==============================] - 0s 53ms/step - factorized_top_k/top_1_categorical_accuracy: 0.0000e+00 - factorized_top_k/top_5_categorical_accuracy: 0.1500 - factorized_top_k/top_10_categorical_accuracy: 0.2000 - factorized_top_k/top_50_categorical_accuracy: 0.6500 - factorized_top_k/top_100_categorical_accuracy: 1.0000 - loss: 11.4629 - regularization_loss: 0.0000e+00 - total_loss: 11.4629\n"
          ]
        },
        {
          "output_type": "execute_result",
          "data": {
            "text/plain": [
              "{'factorized_top_k/top_100_categorical_accuracy': 1.0,\n",
              " 'factorized_top_k/top_10_categorical_accuracy': 0.20000000298023224,\n",
              " 'factorized_top_k/top_1_categorical_accuracy': 0.0,\n",
              " 'factorized_top_k/top_50_categorical_accuracy': 0.6499999761581421,\n",
              " 'factorized_top_k/top_5_categorical_accuracy': 0.15000000596046448,\n",
              " 'loss': 6.065029144287109,\n",
              " 'regularization_loss': 0,\n",
              " 'total_loss': 6.065029144287109}"
            ]
          },
          "metadata": {},
          "execution_count": 49
        }
      ],
      "source": [
        "model.evaluate(cached_test, return_dict=True)"
      ]
    },
    {
      "cell_type": "code",
      "execution_count": null,
      "metadata": {
        "colab": {
          "base_uri": "https://localhost:8080/"
        },
        "id": "oNeUgltF3oHO",
        "outputId": "2b8a7082-297e-44f0-af92-dd8deb9e67f9"
      },
      "outputs": [
        {
          "output_type": "stream",
          "name": "stdout",
          "text": [
            "Recommendations for user 10: [[b'Bubur Kentang Edamame' b'Pure Ubi Kuning dan Beras Merah'\n",
            "  b'Bubur Susu Kacang Polong' b'Bubur Singkong Apel' b'Pure Tiga Rasa'\n",
            "  b'Bubur Oatmeal' b'Perkedel Lele' b'Bubur Wortel' b'Daging Ungkep'\n",
            "  b'Bola-bola Ubi']]\n"
          ]
        }
      ],
      "source": [
        "# Create a model that takes in raw query features, and\n",
        "index = tfrs.layers.factorized_top_k.BruteForce(model.user_model)\n",
        "# recommends movies out of the entire movies dataset.\n",
        "index.index_from_dataset(\n",
        "  tf.data.Dataset.zip((menu.batch(100), menu.batch(100).map(model.menu_model)))\n",
        ")\n",
        "\n",
        "# Get recommendations.\n",
        "_, titles = index(tf.constant([\"10\"]))\n",
        "print(f\"Recommendations for user 10: {titles}\")"
      ]
    },
    {
      "cell_type": "code",
      "source": [
        "# Export the query model.\n",
        "with tempfile.TemporaryDirectory() as tmp:\n",
        "\n",
        "  # Save the index.\n",
        "  tf.saved_model.save(obj=index, export_dir=\"export\")\n",
        "\n",
        "  # Load it back; can also be done in TensorFlow Serving.\n",
        "  loaded = tf.saved_model.load(\"export\")\n",
        "\n",
        "  print(loaded)\n",
        "  # Pass a user id in, get top predicted movie titles back.\n",
        "  scores, titles = loaded([\"32\"])\n",
        "\n",
        "  print(f\"Recommendations: {titles[0][:3]}\")\n",
        "  loaded"
      ],
      "metadata": {
        "id": "3gez7-kY5E4b",
        "colab": {
          "base_uri": "https://localhost:8080/"
        },
        "outputId": "d7b7822e-ecf9-4034-fdbd-fd11a1e0e065"
      },
      "execution_count": null,
      "outputs": [
        {
          "output_type": "stream",
          "name": "stderr",
          "text": [
            "WARNING:absl:Found untraced functions such as query_with_exclusions while saving (showing 1 of 1). These functions will not be directly callable after loading.\n"
          ]
        },
        {
          "output_type": "stream",
          "name": "stdout",
          "text": [
            "INFO:tensorflow:Assets written to: export/assets\n"
          ]
        },
        {
          "output_type": "stream",
          "name": "stderr",
          "text": [
            "INFO:tensorflow:Assets written to: export/assets\n"
          ]
        },
        {
          "output_type": "stream",
          "name": "stdout",
          "text": [
            "<tensorflow.python.saved_model.load.Loader._recreate_base_user_object.<locals>._UserObject object at 0x7ff0db0fa790>\n",
            "Recommendations: [b'Bubur Talas Apel' b'Bubur Jagung Wortel' b'Kukis Havermut Apel']\n"
          ]
        }
      ]
    },
    {
      "cell_type": "code",
      "source": [
        "#tflite\n",
        "converter = tf.lite.TFLiteConverter.from_saved_model(\"export\")\n",
        "tflite_model = converter.convert()\n",
        "open(\"converted_model.tflite\", \"wb\").write(tflite_model)"
      ],
      "metadata": {
        "id": "doJJS0VE5VOY",
        "outputId": "0bb5adf2-db27-4240-b487-01deea087506",
        "colab": {
          "base_uri": "https://localhost:8080/"
        }
      },
      "execution_count": null,
      "outputs": [
        {
          "output_type": "stream",
          "name": "stderr",
          "text": [
            "WARNING:absl:Buffer deduplication procedure will be skipped when flatbuffer library is not properly loaded\n"
          ]
        },
        {
          "output_type": "execute_result",
          "data": {
            "text/plain": [
              "12392"
            ]
          },
          "metadata": {},
          "execution_count": 54
        }
      ]
    },
    {
      "cell_type": "code",
      "source": [
        "#h5\n",
        "model.save_weights('model_weight', save_format='tf')"
      ],
      "metadata": {
        "id": "NJtTXPZZUK8d"
      },
      "execution_count": null,
      "outputs": []
    },
    {
      "cell_type": "code",
      "source": [
        "pb_model_dir = \"/content/saved_model.pb\"\n",
        "h5_model = \"/mymodel.h5\""
      ],
      "metadata": {
        "id": "zGa93IMlXDPX"
      },
      "execution_count": null,
      "outputs": []
    },
    {
      "cell_type": "code",
      "source": [
        "# Loading the Tensorflow Saved Model (PB)\n",
        "model_v2 = tf.keras.models.load_model(pb_model_dir)\n",
        "print(model.summary())\n",
        "\n",
        "# Saving the Model in H5 Format\n",
        "tf.keras.models.save_model(model_v2, h5_model)\n",
        "\n",
        "# Loading the H5 Saved Model\n",
        "loaded_model_from_h5 = tf.keras.models.load_model(h5_model)\n",
        "print(loaded_model_from_h5.summary())"
      ],
      "metadata": {
        "colab": {
          "base_uri": "https://localhost:8080/",
          "height": 484
        },
        "id": "RLP3vl8fXlDd",
        "outputId": "30fafb8c-1192-4e1e-e993-38ba7cee9963"
      },
      "execution_count": null,
      "outputs": [
        {
          "output_type": "error",
          "ename": "OSError",
          "evalue": "ignored",
          "traceback": [
            "\u001b[0;31m---------------------------------------------------------------------------\u001b[0m",
            "\u001b[0;31mOSError\u001b[0m                                   Traceback (most recent call last)",
            "\u001b[0;32m<ipython-input-87-7b7fbfc308c8>\u001b[0m in \u001b[0;36m<module>\u001b[0;34m()\u001b[0m\n\u001b[1;32m      1\u001b[0m \u001b[0;31m# Loading the Tensorflow Saved Model (PB)\u001b[0m\u001b[0;34m\u001b[0m\u001b[0;34m\u001b[0m\u001b[0;34m\u001b[0m\u001b[0m\n\u001b[0;32m----> 2\u001b[0;31m \u001b[0mmodel_v2\u001b[0m \u001b[0;34m=\u001b[0m \u001b[0mtf\u001b[0m\u001b[0;34m.\u001b[0m\u001b[0mkeras\u001b[0m\u001b[0;34m.\u001b[0m\u001b[0mmodels\u001b[0m\u001b[0;34m.\u001b[0m\u001b[0mload_model\u001b[0m\u001b[0;34m(\u001b[0m\u001b[0mpb_model_dir\u001b[0m\u001b[0;34m)\u001b[0m\u001b[0;34m\u001b[0m\u001b[0;34m\u001b[0m\u001b[0m\n\u001b[0m\u001b[1;32m      3\u001b[0m \u001b[0mprint\u001b[0m\u001b[0;34m(\u001b[0m\u001b[0mmodel\u001b[0m\u001b[0;34m.\u001b[0m\u001b[0msummary\u001b[0m\u001b[0;34m(\u001b[0m\u001b[0;34m)\u001b[0m\u001b[0;34m)\u001b[0m\u001b[0;34m\u001b[0m\u001b[0;34m\u001b[0m\u001b[0m\n\u001b[1;32m      4\u001b[0m \u001b[0;34m\u001b[0m\u001b[0m\n\u001b[1;32m      5\u001b[0m \u001b[0;31m# Saving the Model in H5 Format\u001b[0m\u001b[0;34m\u001b[0m\u001b[0;34m\u001b[0m\u001b[0;34m\u001b[0m\u001b[0m\n",
            "\u001b[0;32m/usr/local/lib/python3.7/dist-packages/keras/utils/traceback_utils.py\u001b[0m in \u001b[0;36merror_handler\u001b[0;34m(*args, **kwargs)\u001b[0m\n\u001b[1;32m     65\u001b[0m     \u001b[0;32mexcept\u001b[0m \u001b[0mException\u001b[0m \u001b[0;32mas\u001b[0m \u001b[0me\u001b[0m\u001b[0;34m:\u001b[0m  \u001b[0;31m# pylint: disable=broad-except\u001b[0m\u001b[0;34m\u001b[0m\u001b[0;34m\u001b[0m\u001b[0m\n\u001b[1;32m     66\u001b[0m       \u001b[0mfiltered_tb\u001b[0m \u001b[0;34m=\u001b[0m \u001b[0m_process_traceback_frames\u001b[0m\u001b[0;34m(\u001b[0m\u001b[0me\u001b[0m\u001b[0;34m.\u001b[0m\u001b[0m__traceback__\u001b[0m\u001b[0;34m)\u001b[0m\u001b[0;34m\u001b[0m\u001b[0;34m\u001b[0m\u001b[0m\n\u001b[0;32m---> 67\u001b[0;31m       \u001b[0;32mraise\u001b[0m \u001b[0me\u001b[0m\u001b[0;34m.\u001b[0m\u001b[0mwith_traceback\u001b[0m\u001b[0;34m(\u001b[0m\u001b[0mfiltered_tb\u001b[0m\u001b[0;34m)\u001b[0m \u001b[0;32mfrom\u001b[0m \u001b[0;32mNone\u001b[0m\u001b[0;34m\u001b[0m\u001b[0;34m\u001b[0m\u001b[0m\n\u001b[0m\u001b[1;32m     68\u001b[0m     \u001b[0;32mfinally\u001b[0m\u001b[0;34m:\u001b[0m\u001b[0;34m\u001b[0m\u001b[0;34m\u001b[0m\u001b[0m\n\u001b[1;32m     69\u001b[0m       \u001b[0;32mdel\u001b[0m \u001b[0mfiltered_tb\u001b[0m\u001b[0;34m\u001b[0m\u001b[0;34m\u001b[0m\u001b[0m\n",
            "\u001b[0;32m/usr/local/lib/python3.7/dist-packages/h5py/_hl/files.py\u001b[0m in \u001b[0;36m__init__\u001b[0;34m(self, name, mode, driver, libver, userblock_size, swmr, rdcc_nslots, rdcc_nbytes, rdcc_w0, track_order, fs_strategy, fs_persist, fs_threshold, **kwds)\u001b[0m\n\u001b[1;32m    425\u001b[0m                                fapl, fcpl=make_fcpl(track_order=track_order, fs_strategy=fs_strategy,\n\u001b[1;32m    426\u001b[0m                                fs_persist=fs_persist, fs_threshold=fs_threshold),\n\u001b[0;32m--> 427\u001b[0;31m                                swmr=swmr)\n\u001b[0m\u001b[1;32m    428\u001b[0m \u001b[0;34m\u001b[0m\u001b[0m\n\u001b[1;32m    429\u001b[0m             \u001b[0;32mif\u001b[0m \u001b[0misinstance\u001b[0m\u001b[0;34m(\u001b[0m\u001b[0mlibver\u001b[0m\u001b[0;34m,\u001b[0m \u001b[0mtuple\u001b[0m\u001b[0;34m)\u001b[0m\u001b[0;34m:\u001b[0m\u001b[0;34m\u001b[0m\u001b[0;34m\u001b[0m\u001b[0m\n",
            "\u001b[0;32m/usr/local/lib/python3.7/dist-packages/h5py/_hl/files.py\u001b[0m in \u001b[0;36mmake_fid\u001b[0;34m(name, mode, userblock_size, fapl, fcpl, swmr)\u001b[0m\n\u001b[1;32m    188\u001b[0m         \u001b[0;32mif\u001b[0m \u001b[0mswmr\u001b[0m \u001b[0;32mand\u001b[0m \u001b[0mswmr_support\u001b[0m\u001b[0;34m:\u001b[0m\u001b[0;34m\u001b[0m\u001b[0;34m\u001b[0m\u001b[0m\n\u001b[1;32m    189\u001b[0m             \u001b[0mflags\u001b[0m \u001b[0;34m|=\u001b[0m \u001b[0mh5f\u001b[0m\u001b[0;34m.\u001b[0m\u001b[0mACC_SWMR_READ\u001b[0m\u001b[0;34m\u001b[0m\u001b[0;34m\u001b[0m\u001b[0m\n\u001b[0;32m--> 190\u001b[0;31m         \u001b[0mfid\u001b[0m \u001b[0;34m=\u001b[0m \u001b[0mh5f\u001b[0m\u001b[0;34m.\u001b[0m\u001b[0mopen\u001b[0m\u001b[0;34m(\u001b[0m\u001b[0mname\u001b[0m\u001b[0;34m,\u001b[0m \u001b[0mflags\u001b[0m\u001b[0;34m,\u001b[0m \u001b[0mfapl\u001b[0m\u001b[0;34m=\u001b[0m\u001b[0mfapl\u001b[0m\u001b[0;34m)\u001b[0m\u001b[0;34m\u001b[0m\u001b[0;34m\u001b[0m\u001b[0m\n\u001b[0m\u001b[1;32m    191\u001b[0m     \u001b[0;32melif\u001b[0m \u001b[0mmode\u001b[0m \u001b[0;34m==\u001b[0m \u001b[0;34m'r+'\u001b[0m\u001b[0;34m:\u001b[0m\u001b[0;34m\u001b[0m\u001b[0;34m\u001b[0m\u001b[0m\n\u001b[1;32m    192\u001b[0m         \u001b[0mfid\u001b[0m \u001b[0;34m=\u001b[0m \u001b[0mh5f\u001b[0m\u001b[0;34m.\u001b[0m\u001b[0mopen\u001b[0m\u001b[0;34m(\u001b[0m\u001b[0mname\u001b[0m\u001b[0;34m,\u001b[0m \u001b[0mh5f\u001b[0m\u001b[0;34m.\u001b[0m\u001b[0mACC_RDWR\u001b[0m\u001b[0;34m,\u001b[0m \u001b[0mfapl\u001b[0m\u001b[0;34m=\u001b[0m\u001b[0mfapl\u001b[0m\u001b[0;34m)\u001b[0m\u001b[0;34m\u001b[0m\u001b[0;34m\u001b[0m\u001b[0m\n",
            "\u001b[0;32mh5py/_objects.pyx\u001b[0m in \u001b[0;36mh5py._objects.with_phil.wrapper\u001b[0;34m()\u001b[0m\n",
            "\u001b[0;32mh5py/_objects.pyx\u001b[0m in \u001b[0;36mh5py._objects.with_phil.wrapper\u001b[0;34m()\u001b[0m\n",
            "\u001b[0;32mh5py/h5f.pyx\u001b[0m in \u001b[0;36mh5py.h5f.open\u001b[0;34m()\u001b[0m\n",
            "\u001b[0;31mOSError\u001b[0m: Unable to open file (file signature not found)"
          ]
        }
      ]
    },
    {
      "cell_type": "code",
      "source": [
        "model = tf.keras.models.load_model(pb_model_dir)\n",
        "print(model.summary())"
      ],
      "metadata": {
        "id": "tJVmWu8SXiwO",
        "colab": {
          "base_uri": "https://localhost:8080/",
          "height": 183
        },
        "outputId": "19c0f48c-9e17-4466-8d64-61cd1505471b"
      },
      "execution_count": null,
      "outputs": [
        {
          "output_type": "error",
          "ename": "NameError",
          "evalue": "ignored",
          "traceback": [
            "\u001b[0;31m---------------------------------------------------------------------------\u001b[0m",
            "\u001b[0;31mNameError\u001b[0m                                 Traceback (most recent call last)",
            "\u001b[0;32m<ipython-input-55-7e213d18f81f>\u001b[0m in \u001b[0;36m<module>\u001b[0;34m()\u001b[0m\n\u001b[0;32m----> 1\u001b[0;31m \u001b[0mmodel\u001b[0m \u001b[0;34m=\u001b[0m \u001b[0mtf\u001b[0m\u001b[0;34m.\u001b[0m\u001b[0mkeras\u001b[0m\u001b[0;34m.\u001b[0m\u001b[0mmodels\u001b[0m\u001b[0;34m.\u001b[0m\u001b[0mload_model\u001b[0m\u001b[0;34m(\u001b[0m\u001b[0mpb_model_dir\u001b[0m\u001b[0;34m)\u001b[0m\u001b[0;34m\u001b[0m\u001b[0;34m\u001b[0m\u001b[0m\n\u001b[0m\u001b[1;32m      2\u001b[0m \u001b[0mprint\u001b[0m\u001b[0;34m(\u001b[0m\u001b[0mmodel\u001b[0m\u001b[0;34m.\u001b[0m\u001b[0msummary\u001b[0m\u001b[0;34m(\u001b[0m\u001b[0;34m)\u001b[0m\u001b[0;34m)\u001b[0m\u001b[0;34m\u001b[0m\u001b[0;34m\u001b[0m\u001b[0m\n",
            "\u001b[0;31mNameError\u001b[0m: name 'pb_model_dir' is not defined"
          ]
        }
      ]
    },
    {
      "cell_type": "code",
      "source": [
        "converter = tf.lite.TFLiteConverter.from_keras_model(model)\n",
        "tflite_model = converter.convert()"
      ],
      "metadata": {
        "colab": {
          "base_uri": "https://localhost:8080/",
          "height": 452
        },
        "id": "LKEYK9fm6jP9",
        "outputId": "32eeef08-a8d3-4e94-f5c2-2b1ffeb8b9b3"
      },
      "execution_count": null,
      "outputs": [
        {
          "output_type": "stream",
          "name": "stdout",
          "text": [
            "WARNING:tensorflow:Skipping full serialization of Keras layer <__main__.SIMPASIModel object at 0x7ff0e2e269d0>, because it is not built.\n"
          ]
        },
        {
          "output_type": "stream",
          "name": "stderr",
          "text": [
            "WARNING:tensorflow:Skipping full serialization of Keras layer <__main__.SIMPASIModel object at 0x7ff0e2e269d0>, because it is not built.\n"
          ]
        },
        {
          "output_type": "stream",
          "name": "stdout",
          "text": [
            "WARNING:tensorflow:Skipping full serialization of Keras layer <tensorflow_recommenders.metrics.factorized_top_k.FactorizedTopK object at 0x7ff0e835ca90>, because it is not built.\n"
          ]
        },
        {
          "output_type": "stream",
          "name": "stderr",
          "text": [
            "WARNING:tensorflow:Skipping full serialization of Keras layer <tensorflow_recommenders.metrics.factorized_top_k.FactorizedTopK object at 0x7ff0e835ca90>, because it is not built.\n"
          ]
        },
        {
          "output_type": "error",
          "ename": "ValueError",
          "evalue": "ignored",
          "traceback": [
            "\u001b[0;31m---------------------------------------------------------------------------\u001b[0m",
            "\u001b[0;31mValueError\u001b[0m                                Traceback (most recent call last)",
            "\u001b[0;32m<ipython-input-56-3dd6f66ed1c5>\u001b[0m in \u001b[0;36m<module>\u001b[0;34m()\u001b[0m\n\u001b[1;32m      1\u001b[0m \u001b[0mconverter\u001b[0m \u001b[0;34m=\u001b[0m \u001b[0mtf\u001b[0m\u001b[0;34m.\u001b[0m\u001b[0mlite\u001b[0m\u001b[0;34m.\u001b[0m\u001b[0mTFLiteConverter\u001b[0m\u001b[0;34m.\u001b[0m\u001b[0mfrom_keras_model\u001b[0m\u001b[0;34m(\u001b[0m\u001b[0mmodel\u001b[0m\u001b[0;34m)\u001b[0m\u001b[0;34m\u001b[0m\u001b[0;34m\u001b[0m\u001b[0m\n\u001b[0;32m----> 2\u001b[0;31m \u001b[0mtflite_model\u001b[0m \u001b[0;34m=\u001b[0m \u001b[0mconverter\u001b[0m\u001b[0;34m.\u001b[0m\u001b[0mconvert\u001b[0m\u001b[0;34m(\u001b[0m\u001b[0;34m)\u001b[0m\u001b[0;34m\u001b[0m\u001b[0;34m\u001b[0m\u001b[0m\n\u001b[0m",
            "\u001b[0;32m/usr/local/lib/python3.7/dist-packages/tensorflow/lite/python/lite.py\u001b[0m in \u001b[0;36mwrapper\u001b[0;34m(self, *args, **kwargs)\u001b[0m\n\u001b[1;32m    801\u001b[0m   \u001b[0;32mdef\u001b[0m \u001b[0mwrapper\u001b[0m\u001b[0;34m(\u001b[0m\u001b[0mself\u001b[0m\u001b[0;34m,\u001b[0m \u001b[0;34m*\u001b[0m\u001b[0margs\u001b[0m\u001b[0;34m,\u001b[0m \u001b[0;34m**\u001b[0m\u001b[0mkwargs\u001b[0m\u001b[0;34m)\u001b[0m\u001b[0;34m:\u001b[0m\u001b[0;34m\u001b[0m\u001b[0;34m\u001b[0m\u001b[0m\n\u001b[1;32m    802\u001b[0m     \u001b[0;31m# pylint: disable=protected-access\u001b[0m\u001b[0;34m\u001b[0m\u001b[0;34m\u001b[0m\u001b[0;34m\u001b[0m\u001b[0m\n\u001b[0;32m--> 803\u001b[0;31m     \u001b[0;32mreturn\u001b[0m \u001b[0mself\u001b[0m\u001b[0;34m.\u001b[0m\u001b[0m_convert_and_export_metrics\u001b[0m\u001b[0;34m(\u001b[0m\u001b[0mconvert_func\u001b[0m\u001b[0;34m,\u001b[0m \u001b[0;34m*\u001b[0m\u001b[0margs\u001b[0m\u001b[0;34m,\u001b[0m \u001b[0;34m**\u001b[0m\u001b[0mkwargs\u001b[0m\u001b[0;34m)\u001b[0m\u001b[0;34m\u001b[0m\u001b[0;34m\u001b[0m\u001b[0m\n\u001b[0m\u001b[1;32m    804\u001b[0m     \u001b[0;31m# pylint: enable=protected-access\u001b[0m\u001b[0;34m\u001b[0m\u001b[0;34m\u001b[0m\u001b[0;34m\u001b[0m\u001b[0m\n\u001b[1;32m    805\u001b[0m \u001b[0;34m\u001b[0m\u001b[0m\n",
            "\u001b[0;32m/usr/local/lib/python3.7/dist-packages/tensorflow/lite/python/lite.py\u001b[0m in \u001b[0;36m_convert_and_export_metrics\u001b[0;34m(self, convert_func, *args, **kwargs)\u001b[0m\n\u001b[1;32m    787\u001b[0m     \u001b[0mself\u001b[0m\u001b[0;34m.\u001b[0m\u001b[0m_save_conversion_params_metric\u001b[0m\u001b[0;34m(\u001b[0m\u001b[0;34m)\u001b[0m\u001b[0;34m\u001b[0m\u001b[0;34m\u001b[0m\u001b[0m\n\u001b[1;32m    788\u001b[0m     \u001b[0mstart_time\u001b[0m \u001b[0;34m=\u001b[0m \u001b[0mtime\u001b[0m\u001b[0;34m.\u001b[0m\u001b[0mprocess_time\u001b[0m\u001b[0;34m(\u001b[0m\u001b[0;34m)\u001b[0m\u001b[0;34m\u001b[0m\u001b[0;34m\u001b[0m\u001b[0m\n\u001b[0;32m--> 789\u001b[0;31m     \u001b[0mresult\u001b[0m \u001b[0;34m=\u001b[0m \u001b[0mconvert_func\u001b[0m\u001b[0;34m(\u001b[0m\u001b[0mself\u001b[0m\u001b[0;34m,\u001b[0m \u001b[0;34m*\u001b[0m\u001b[0margs\u001b[0m\u001b[0;34m,\u001b[0m \u001b[0;34m**\u001b[0m\u001b[0mkwargs\u001b[0m\u001b[0;34m)\u001b[0m\u001b[0;34m\u001b[0m\u001b[0;34m\u001b[0m\u001b[0m\n\u001b[0m\u001b[1;32m    790\u001b[0m     \u001b[0melapsed_time_ms\u001b[0m \u001b[0;34m=\u001b[0m \u001b[0;34m(\u001b[0m\u001b[0mtime\u001b[0m\u001b[0;34m.\u001b[0m\u001b[0mprocess_time\u001b[0m\u001b[0;34m(\u001b[0m\u001b[0;34m)\u001b[0m \u001b[0;34m-\u001b[0m \u001b[0mstart_time\u001b[0m\u001b[0;34m)\u001b[0m \u001b[0;34m*\u001b[0m \u001b[0;36m1000\u001b[0m\u001b[0;34m\u001b[0m\u001b[0;34m\u001b[0m\u001b[0m\n\u001b[1;32m    791\u001b[0m     \u001b[0;32mif\u001b[0m \u001b[0mresult\u001b[0m\u001b[0;34m:\u001b[0m\u001b[0;34m\u001b[0m\u001b[0;34m\u001b[0m\u001b[0m\n",
            "\u001b[0;32m/usr/local/lib/python3.7/dist-packages/tensorflow/lite/python/lite.py\u001b[0m in \u001b[0;36mconvert\u001b[0;34m(self)\u001b[0m\n\u001b[1;32m   1213\u001b[0m \u001b[0;34m\u001b[0m\u001b[0m\n\u001b[1;32m   1214\u001b[0m     graph_def, input_tensors, output_tensors, frozen_func = (\n\u001b[0;32m-> 1215\u001b[0;31m         self._freeze_keras_model())\n\u001b[0m\u001b[1;32m   1216\u001b[0m \u001b[0;34m\u001b[0m\u001b[0m\n\u001b[1;32m   1217\u001b[0m     graph_def = self._optimize_tf_model(graph_def, input_tensors,\n",
            "\u001b[0;32m/usr/local/lib/python3.7/dist-packages/tensorflow/lite/python/convert_phase.py\u001b[0m in \u001b[0;36mwrapper\u001b[0;34m(*args, **kwargs)\u001b[0m\n\u001b[1;32m    214\u001b[0m       \u001b[0;32mexcept\u001b[0m \u001b[0mException\u001b[0m \u001b[0;32mas\u001b[0m \u001b[0merror\u001b[0m\u001b[0;34m:\u001b[0m\u001b[0;34m\u001b[0m\u001b[0;34m\u001b[0m\u001b[0m\n\u001b[1;32m    215\u001b[0m         \u001b[0mreport_error_message\u001b[0m\u001b[0;34m(\u001b[0m\u001b[0mstr\u001b[0m\u001b[0;34m(\u001b[0m\u001b[0merror\u001b[0m\u001b[0;34m)\u001b[0m\u001b[0;34m)\u001b[0m\u001b[0;34m\u001b[0m\u001b[0;34m\u001b[0m\u001b[0m\n\u001b[0;32m--> 216\u001b[0;31m         \u001b[0;32mraise\u001b[0m \u001b[0merror\u001b[0m \u001b[0;32mfrom\u001b[0m \u001b[0;32mNone\u001b[0m  \u001b[0;31m# Re-throws the exception.\u001b[0m\u001b[0;34m\u001b[0m\u001b[0;34m\u001b[0m\u001b[0m\n\u001b[0m\u001b[1;32m    217\u001b[0m \u001b[0;34m\u001b[0m\u001b[0m\n\u001b[1;32m    218\u001b[0m     \u001b[0;32mreturn\u001b[0m \u001b[0mwrapper\u001b[0m\u001b[0;34m\u001b[0m\u001b[0;34m\u001b[0m\u001b[0m\n",
            "\u001b[0;32m/usr/local/lib/python3.7/dist-packages/tensorflow/lite/python/convert_phase.py\u001b[0m in \u001b[0;36mwrapper\u001b[0;34m(*args, **kwargs)\u001b[0m\n\u001b[1;32m    204\u001b[0m     \u001b[0;32mdef\u001b[0m \u001b[0mwrapper\u001b[0m\u001b[0;34m(\u001b[0m\u001b[0;34m*\u001b[0m\u001b[0margs\u001b[0m\u001b[0;34m,\u001b[0m \u001b[0;34m**\u001b[0m\u001b[0mkwargs\u001b[0m\u001b[0;34m)\u001b[0m\u001b[0;34m:\u001b[0m\u001b[0;34m\u001b[0m\u001b[0;34m\u001b[0m\u001b[0m\n\u001b[1;32m    205\u001b[0m       \u001b[0;32mtry\u001b[0m\u001b[0;34m:\u001b[0m\u001b[0;34m\u001b[0m\u001b[0;34m\u001b[0m\u001b[0m\n\u001b[0;32m--> 206\u001b[0;31m         \u001b[0;32mreturn\u001b[0m \u001b[0mfunc\u001b[0m\u001b[0;34m(\u001b[0m\u001b[0;34m*\u001b[0m\u001b[0margs\u001b[0m\u001b[0;34m,\u001b[0m \u001b[0;34m**\u001b[0m\u001b[0mkwargs\u001b[0m\u001b[0;34m)\u001b[0m\u001b[0;34m\u001b[0m\u001b[0;34m\u001b[0m\u001b[0m\n\u001b[0m\u001b[1;32m    207\u001b[0m       \u001b[0;32mexcept\u001b[0m \u001b[0mConverterError\u001b[0m \u001b[0;32mas\u001b[0m \u001b[0mconverter_error\u001b[0m\u001b[0;34m:\u001b[0m\u001b[0;34m\u001b[0m\u001b[0;34m\u001b[0m\u001b[0m\n\u001b[1;32m    208\u001b[0m         \u001b[0;32mif\u001b[0m \u001b[0mconverter_error\u001b[0m\u001b[0;34m.\u001b[0m\u001b[0merrors\u001b[0m\u001b[0;34m:\u001b[0m\u001b[0;34m\u001b[0m\u001b[0;34m\u001b[0m\u001b[0m\n",
            "\u001b[0;32m/usr/local/lib/python3.7/dist-packages/tensorflow/lite/python/lite.py\u001b[0m in \u001b[0;36m_freeze_keras_model\u001b[0;34m(self)\u001b[0m\n\u001b[1;32m   1164\u001b[0m \u001b[0;34m\u001b[0m\u001b[0m\n\u001b[1;32m   1165\u001b[0m     \u001b[0;31m# TODO(b/169898786): Use the Keras public API when TFLite moves out of TF\u001b[0m\u001b[0;34m\u001b[0m\u001b[0;34m\u001b[0m\u001b[0;34m\u001b[0m\u001b[0m\n\u001b[0;32m-> 1166\u001b[0;31m     \u001b[0mfunc\u001b[0m \u001b[0;34m=\u001b[0m \u001b[0m_trace_model_call\u001b[0m\u001b[0;34m(\u001b[0m\u001b[0mself\u001b[0m\u001b[0;34m.\u001b[0m\u001b[0m_keras_model\u001b[0m\u001b[0;34m,\u001b[0m \u001b[0minput_signature\u001b[0m\u001b[0;34m)\u001b[0m\u001b[0;34m\u001b[0m\u001b[0;34m\u001b[0m\u001b[0m\n\u001b[0m\u001b[1;32m   1167\u001b[0m     \u001b[0mconcrete_func\u001b[0m \u001b[0;34m=\u001b[0m \u001b[0mfunc\u001b[0m\u001b[0;34m.\u001b[0m\u001b[0mget_concrete_function\u001b[0m\u001b[0;34m(\u001b[0m\u001b[0;34m)\u001b[0m\u001b[0;34m\u001b[0m\u001b[0;34m\u001b[0m\u001b[0m\n\u001b[1;32m   1168\u001b[0m     \u001b[0mself\u001b[0m\u001b[0;34m.\u001b[0m\u001b[0m_funcs\u001b[0m \u001b[0;34m=\u001b[0m \u001b[0;34m[\u001b[0m\u001b[0mconcrete_func\u001b[0m\u001b[0;34m]\u001b[0m\u001b[0;34m\u001b[0m\u001b[0;34m\u001b[0m\u001b[0m\n",
            "\u001b[0;32m/usr/local/lib/python3.7/dist-packages/tensorflow/lite/python/tflite_keras_util.py\u001b[0m in \u001b[0;36mtrace_model_call\u001b[0;34m(model, input_signature)\u001b[0m\n\u001b[1;32m    177\u001b[0m \u001b[0;34m\u001b[0m\u001b[0m\n\u001b[1;32m    178\u001b[0m   \u001b[0;32mif\u001b[0m \u001b[0minput_signature\u001b[0m \u001b[0;32mis\u001b[0m \u001b[0;32mNone\u001b[0m\u001b[0;34m:\u001b[0m\u001b[0;34m\u001b[0m\u001b[0;34m\u001b[0m\u001b[0m\n\u001b[0;32m--> 179\u001b[0;31m     \u001b[0mraise_model_input_error\u001b[0m\u001b[0;34m(\u001b[0m\u001b[0mmodel\u001b[0m\u001b[0;34m)\u001b[0m\u001b[0;34m\u001b[0m\u001b[0;34m\u001b[0m\u001b[0m\n\u001b[0m\u001b[1;32m    180\u001b[0m \u001b[0;34m\u001b[0m\u001b[0m\n\u001b[1;32m    181\u001b[0m   \u001b[0;34m@\u001b[0m\u001b[0mdef_function\u001b[0m\u001b[0;34m.\u001b[0m\u001b[0mfunction\u001b[0m\u001b[0;34m(\u001b[0m\u001b[0minput_signature\u001b[0m\u001b[0;34m=\u001b[0m\u001b[0minput_signature\u001b[0m\u001b[0;34m,\u001b[0m \u001b[0mautograph\u001b[0m\u001b[0;34m=\u001b[0m\u001b[0;32mFalse\u001b[0m\u001b[0;34m)\u001b[0m\u001b[0;34m\u001b[0m\u001b[0;34m\u001b[0m\u001b[0m\n",
            "\u001b[0;32m/usr/local/lib/python3.7/dist-packages/tensorflow/lite/python/tflite_keras_util.py\u001b[0m in \u001b[0;36mraise_model_input_error\u001b[0;34m(model)\u001b[0m\n\u001b[1;32m    102\u001b[0m       \u001b[0;34m'set. Usually, input shapes are automatically determined from calling'\u001b[0m\u001b[0;34m\u001b[0m\u001b[0;34m\u001b[0m\u001b[0m\n\u001b[1;32m    103\u001b[0m       \u001b[0;34m' `.fit()` or `.predict()`. To manually set the shapes, call '\u001b[0m\u001b[0;34m\u001b[0m\u001b[0;34m\u001b[0m\u001b[0m\n\u001b[0;32m--> 104\u001b[0;31m       '`model.build(input_shape)`.'.format(model))\n\u001b[0m\u001b[1;32m    105\u001b[0m \u001b[0;34m\u001b[0m\u001b[0m\n\u001b[1;32m    106\u001b[0m \u001b[0;34m\u001b[0m\u001b[0m\n",
            "\u001b[0;31mValueError\u001b[0m: Model <__main__.SIMPASIModel object at 0x7ff0e2e269d0> cannot be saved because the input shapes have not been set. Usually, input shapes are automatically determined from calling `.fit()` or `.predict()`. To manually set the shapes, call `model.build(input_shape)`."
          ]
        }
      ]
    },
    {
      "cell_type": "code",
      "source": [
        "tflite_model_file = pathlib.Path(\"/content/converted_model.tflite\")\n",
        "tflite_model_file.write_bytes(tflite_model)"
      ],
      "metadata": {
        "colab": {
          "base_uri": "https://localhost:8080/"
        },
        "id": "NEtwW4Jm_j1p",
        "outputId": "386ae5b5-db81-4c65-fd60-1306636bba38"
      },
      "execution_count": null,
      "outputs": [
        {
          "output_type": "execute_result",
          "data": {
            "text/plain": [
              "12392"
            ]
          },
          "metadata": {},
          "execution_count": 57
        }
      ]
    },
    {
      "cell_type": "code",
      "source": [
        "files.download(tflite_model_file)"
      ],
      "metadata": {
        "colab": {
          "base_uri": "https://localhost:8080/",
          "height": 17
        },
        "id": "4d8VroYs_6x3",
        "outputId": "4d4645d7-aa40-4150-e854-00ee1df108bd"
      },
      "execution_count": null,
      "outputs": [
        {
          "output_type": "display_data",
          "data": {
            "text/plain": [
              "<IPython.core.display.Javascript object>"
            ],
            "application/javascript": [
              "\n",
              "    async function download(id, filename, size) {\n",
              "      if (!google.colab.kernel.accessAllowed) {\n",
              "        return;\n",
              "      }\n",
              "      const div = document.createElement('div');\n",
              "      const label = document.createElement('label');\n",
              "      label.textContent = `Downloading \"${filename}\": `;\n",
              "      div.appendChild(label);\n",
              "      const progress = document.createElement('progress');\n",
              "      progress.max = size;\n",
              "      div.appendChild(progress);\n",
              "      document.body.appendChild(div);\n",
              "\n",
              "      const buffers = [];\n",
              "      let downloaded = 0;\n",
              "\n",
              "      const channel = await google.colab.kernel.comms.open(id);\n",
              "      // Send a message to notify the kernel that we're ready.\n",
              "      channel.send({})\n",
              "\n",
              "      for await (const message of channel.messages) {\n",
              "        // Send a message to notify the kernel that we're ready.\n",
              "        channel.send({})\n",
              "        if (message.buffers) {\n",
              "          for (const buffer of message.buffers) {\n",
              "            buffers.push(buffer);\n",
              "            downloaded += buffer.byteLength;\n",
              "            progress.value = downloaded;\n",
              "          }\n",
              "        }\n",
              "      }\n",
              "      const blob = new Blob(buffers, {type: 'application/binary'});\n",
              "      const a = document.createElement('a');\n",
              "      a.href = window.URL.createObjectURL(blob);\n",
              "      a.download = filename;\n",
              "      div.appendChild(a);\n",
              "      a.click();\n",
              "      div.remove();\n",
              "    }\n",
              "  "
            ]
          },
          "metadata": {}
        },
        {
          "output_type": "display_data",
          "data": {
            "text/plain": [
              "<IPython.core.display.Javascript object>"
            ],
            "application/javascript": [
              "download(\"download_597eb89e-186e-4155-ac5d-dd31e3a82d00\", \"converted_model.tflite\", 12376)"
            ]
          },
          "metadata": {}
        }
      ]
    },
    {
      "cell_type": "code",
      "source": [
        "#Tensorflow JS\n",
        "# import time\n",
        "# saved_model_path = \"tmp/saved_models/{}\".format(int(time.time()))\n",
        "\n",
        "# tf.keras.experimental.export_saved_model(model,saved_model_path)\n",
        "\n",
        "model.save(\"/content/\")"
      ],
      "metadata": {
        "colab": {
          "base_uri": "https://localhost:8080/",
          "height": 470
        },
        "id": "XBXqkzmCFKym",
        "outputId": "156d02e6-edbf-45b8-a3de-89a22450d7f5"
      },
      "execution_count": null,
      "outputs": [
        {
          "output_type": "stream",
          "name": "stdout",
          "text": [
            "WARNING:tensorflow:Skipping full serialization of Keras layer <__main__.SIMPASIModel object at 0x7ff7ea558690>, because it is not built.\n"
          ]
        },
        {
          "output_type": "stream",
          "name": "stderr",
          "text": [
            "WARNING:tensorflow:Skipping full serialization of Keras layer <__main__.SIMPASIModel object at 0x7ff7ea558690>, because it is not built.\n"
          ]
        },
        {
          "output_type": "error",
          "ename": "ValueError",
          "evalue": "ignored",
          "traceback": [
            "\u001b[0;31m---------------------------------------------------------------------------\u001b[0m",
            "\u001b[0;31mValueError\u001b[0m                                Traceback (most recent call last)",
            "\u001b[0;32m<ipython-input-68-dc6bac29f1ad>\u001b[0m in \u001b[0;36m<module>\u001b[0;34m()\u001b[0m\n\u001b[1;32m      5\u001b[0m \u001b[0;31m# tf.keras.experimental.export_saved_model(model,saved_model_path)\u001b[0m\u001b[0;34m\u001b[0m\u001b[0;34m\u001b[0m\u001b[0;34m\u001b[0m\u001b[0m\n\u001b[1;32m      6\u001b[0m \u001b[0;34m\u001b[0m\u001b[0m\n\u001b[0;32m----> 7\u001b[0;31m \u001b[0mmodel\u001b[0m\u001b[0;34m.\u001b[0m\u001b[0msave\u001b[0m\u001b[0;34m(\u001b[0m\u001b[0;34m\"/content/\"\u001b[0m\u001b[0;34m)\u001b[0m\u001b[0;34m\u001b[0m\u001b[0;34m\u001b[0m\u001b[0m\n\u001b[0m",
            "\u001b[0;32m/usr/local/lib/python3.7/dist-packages/keras/utils/traceback_utils.py\u001b[0m in \u001b[0;36merror_handler\u001b[0;34m(*args, **kwargs)\u001b[0m\n\u001b[1;32m     65\u001b[0m     \u001b[0;32mexcept\u001b[0m \u001b[0mException\u001b[0m \u001b[0;32mas\u001b[0m \u001b[0me\u001b[0m\u001b[0;34m:\u001b[0m  \u001b[0;31m# pylint: disable=broad-except\u001b[0m\u001b[0;34m\u001b[0m\u001b[0;34m\u001b[0m\u001b[0m\n\u001b[1;32m     66\u001b[0m       \u001b[0mfiltered_tb\u001b[0m \u001b[0;34m=\u001b[0m \u001b[0m_process_traceback_frames\u001b[0m\u001b[0;34m(\u001b[0m\u001b[0me\u001b[0m\u001b[0;34m.\u001b[0m\u001b[0m__traceback__\u001b[0m\u001b[0;34m)\u001b[0m\u001b[0;34m\u001b[0m\u001b[0;34m\u001b[0m\u001b[0m\n\u001b[0;32m---> 67\u001b[0;31m       \u001b[0;32mraise\u001b[0m \u001b[0me\u001b[0m\u001b[0;34m.\u001b[0m\u001b[0mwith_traceback\u001b[0m\u001b[0;34m(\u001b[0m\u001b[0mfiltered_tb\u001b[0m\u001b[0;34m)\u001b[0m \u001b[0;32mfrom\u001b[0m \u001b[0;32mNone\u001b[0m\u001b[0;34m\u001b[0m\u001b[0;34m\u001b[0m\u001b[0m\n\u001b[0m\u001b[1;32m     68\u001b[0m     \u001b[0;32mfinally\u001b[0m\u001b[0;34m:\u001b[0m\u001b[0;34m\u001b[0m\u001b[0;34m\u001b[0m\u001b[0m\n\u001b[1;32m     69\u001b[0m       \u001b[0;32mdel\u001b[0m \u001b[0mfiltered_tb\u001b[0m\u001b[0;34m\u001b[0m\u001b[0;34m\u001b[0m\u001b[0m\n",
            "\u001b[0;32m/usr/local/lib/python3.7/dist-packages/keras/saving/saving_utils.py\u001b[0m in \u001b[0;36mraise_model_input_error\u001b[0;34m(model)\u001b[0m\n\u001b[1;32m     92\u001b[0m   \u001b[0;31m# If the model is not a `Sequential`, it is intended to be a subclassed model.\u001b[0m\u001b[0;34m\u001b[0m\u001b[0;34m\u001b[0m\u001b[0;34m\u001b[0m\u001b[0m\n\u001b[1;32m     93\u001b[0m   raise ValueError(\n\u001b[0;32m---> 94\u001b[0;31m       \u001b[0;34mf'Model {model} cannot be saved either because the input shape is not '\u001b[0m\u001b[0;34m\u001b[0m\u001b[0;34m\u001b[0m\u001b[0m\n\u001b[0m\u001b[1;32m     95\u001b[0m       \u001b[0;34m'available or because the forward pass of the model is not defined.'\u001b[0m\u001b[0;34m\u001b[0m\u001b[0;34m\u001b[0m\u001b[0m\n\u001b[1;32m     96\u001b[0m       \u001b[0;34m'To define a forward pass, please override `Model.call()`. To specify '\u001b[0m\u001b[0;34m\u001b[0m\u001b[0;34m\u001b[0m\u001b[0m\n",
            "\u001b[0;31mValueError\u001b[0m: Model <__main__.SIMPASIModel object at 0x7ff7ea558690> cannot be saved either because the input shape is not available or because the forward pass of the model is not defined.To define a forward pass, please override `Model.call()`. To specify an input shape, either call `build(input_shape)` directly, or call the model on actual data using `Model()`, `Model.fit()`, or `Model.predict()`. If you have a custom training step, please make sure to invoke the forward pass in train step through `Model.__call__`, i.e. `model(inputs)`, as opposed to `model.call()`."
          ]
        }
      ]
    },
    {
      "cell_type": "code",
      "source": [
        "# tensorflowjs_converter --input_format=keras /content/model_weight /tmp/tfjs_model\n",
        "tensorflowjs_converter \\\n",
        "    --input_format=tf_saved_model \\\n",
        "    /content/model_weight \\\n",
        "    /tmp/tfjs_model\n",
        "# tfjs.converters.save_keras_model(model_weight,\"model_weights\")"
      ],
      "metadata": {
        "id": "vylkoz6FLcBx"
      },
      "execution_count": null,
      "outputs": []
    },
    {
      "cell_type": "code",
      "source": [
        "interpreter = tf.lite.Interpreter(model_path=\"converted_model.tflite\")\n",
        "interpreter.allocate_tensors()\n",
        "\n",
        "# Get input and output tensors.\n",
        "input_details = interpreter.get_input_details()\n",
        "output_details = interpreter.get_output_details()\n",
        "\n",
        "print(input_details)\n",
        "print(output_details)\n",
        "\n",
        "print(input_details[0])\n",
        "# Test the model.\n",
        "interpreter.set_tensor(input_details[0][\"index\"], np.array([\"32\"]))\n",
        "\n",
        "interpreter.invoke()\n",
        "\n",
        "reccomendation = interpreter.get_tensor(output_details[1]['index'])\n",
        "rating = interpreter.get_tensor(output_details[0]['index'])\n",
        "print(reccomendation)\n",
        "print(rating)\n",
        "\n",
        "# Print input shape and type\n",
        "print('{} input(s):'.format(len(input_details)))\n",
        "for i in range(0, len(input_details)):\n",
        "    print('{} {}'.format(input_details[i]['shape'], input_details[i]['dtype']))\n",
        "\n",
        "# Print output shape and type\n",
        "print('\\n{} output(s):'.format(len(output_details)))\n",
        "for i in range(0, len(output_details)):\n",
        "    print('{} {}'.format(output_details[i]['shape'], output_details[i]['dtype']))"
      ],
      "metadata": {
        "id": "E5esN-X-M6JT",
        "colab": {
          "base_uri": "https://localhost:8080/"
        },
        "outputId": "397f670e-afc9-4eef-e86e-ecf4f1611668"
      },
      "execution_count": null,
      "outputs": [
        {
          "output_type": "stream",
          "name": "stdout",
          "text": [
            "[{'name': 'serving_default_input_1:0', 'index': 0, 'shape': array([1], dtype=int32), 'shape_signature': array([-1], dtype=int32), 'dtype': <class 'numpy.bytes_'>, 'quantization': (0.0, 0), 'quantization_parameters': {'scales': array([], dtype=float32), 'zero_points': array([], dtype=int32), 'quantized_dimension': 0}, 'sparsity_parameters': {}}]\n",
            "[{'name': 'StatefulPartitionedCall_1:0', 'index': 10, 'shape': array([ 1, 10], dtype=int32), 'shape_signature': array([-1, 10], dtype=int32), 'dtype': <class 'numpy.float32'>, 'quantization': (0.0, 0), 'quantization_parameters': {'scales': array([], dtype=float32), 'zero_points': array([], dtype=int32), 'quantized_dimension': 0}, 'sparsity_parameters': {}}, {'name': 'StatefulPartitionedCall_1:1', 'index': 12, 'shape': array([ 1, 10], dtype=int32), 'shape_signature': array([-1, 10], dtype=int32), 'dtype': <class 'numpy.bytes_'>, 'quantization': (0.0, 0), 'quantization_parameters': {'scales': array([], dtype=float32), 'zero_points': array([], dtype=int32), 'quantized_dimension': 0}, 'sparsity_parameters': {}}]\n",
            "{'name': 'serving_default_input_1:0', 'index': 0, 'shape': array([1], dtype=int32), 'shape_signature': array([-1], dtype=int32), 'dtype': <class 'numpy.bytes_'>, 'quantization': (0.0, 0), 'quantization_parameters': {'scales': array([], dtype=float32), 'zero_points': array([], dtype=int32), 'quantized_dimension': 0}, 'sparsity_parameters': {}}\n",
            "[[b'Bubur Talas Apel' b'Bubur Jagung Wortel' b'Kukis Havermut Apel'\n",
            "  b'Bubur Tahu' b'Pure Alpukat dan Pepaya' b'Lapis Mangga'\n",
            "  b'Bubur Ayam Talas Keju' b'Bubur Beras Merah' b'Apricot Tahu'\n",
            "  b'Pure Jagung Manis']]\n",
            "[[2.432 1.842 1.61  1.182 0.845 0.795 0.75  0.601 0.532 0.519]]\n",
            "1 input(s):\n",
            "[1] <class 'numpy.bytes_'>\n",
            "\n",
            "2 output(s):\n",
            "[ 1 10] <class 'numpy.float32'>\n",
            "[ 1 10] <class 'numpy.bytes_'>\n"
          ]
        }
      ]
    },
    {
      "cell_type": "code",
      "source": [
        "np.array([\"32\"])"
      ],
      "metadata": {
        "colab": {
          "base_uri": "https://localhost:8080/"
        },
        "id": "7xMTo3C2B1Lk",
        "outputId": "a6cdc7fb-5da7-46d0-9d20-e2985b6d3d84"
      },
      "execution_count": null,
      "outputs": [
        {
          "output_type": "execute_result",
          "data": {
            "text/plain": [
              "array(['32'], dtype='<U2')"
            ]
          },
          "metadata": {},
          "execution_count": 5
        }
      ]
    },
    {
      "cell_type": "code",
      "execution_count": null,
      "metadata": {
        "colab": {
          "base_uri": "https://localhost:8080/"
        },
        "id": "jNW56GXe6Jc2",
        "outputId": "c1327fb7-e1a5-4a73-aae8-6fc7f999139f"
      },
      "outputs": [
        {
          "output_type": "stream",
          "name": "stdout",
          "text": [
            "<class 'tensorflow.python.framework.ops.EagerTensor'>\n",
            "<class 'numpy.ndarray'>\n",
            "<class 'numpy.ndarray'>\n"
          ]
        }
      ],
      "source": [
        "print(type(titles))            # <type 'EagerTensor'>\n",
        "print(type(titles.numpy()))    # <type 'numpy.ndarray'>\n",
        "print(type(np.array(titles)))  # <type 'numpy.ndarray'>"
      ]
    },
    {
      "cell_type": "code",
      "execution_count": null,
      "metadata": {
        "colab": {
          "base_uri": "https://localhost:8080/",
          "height": 1000
        },
        "id": "MYXQgg1MwDuG",
        "outputId": "b07bfc40-6545-4f9b-d84e-21456e29c506"
      },
      "outputs": [
        {
          "output_type": "execute_result",
          "data": {
            "text/plain": [
              "                                  rekomendasi_resep\n",
              "0                             Bubur Kentang Edamame\n",
              "1                   Pure Ubi Kuning dan Beras Merah\n",
              "2                          Bubur Susu Kacang Polong\n",
              "3                               Bubur Singkong Apel\n",
              "4                                    Pure Tiga Rasa\n",
              "5                                     Bubur Oatmeal\n",
              "6                                     Perkedel Lele\n",
              "7                                      Bubur Wortel\n",
              "8                                     Daging Ungkep\n",
              "9                                     Bola-bola Ubi\n",
              "10                            Bubur Ubi Kembang Kol\n",
              "11                                 Bubur Pisang Ubi\n",
              "12                               Bubur Pisang Tomat\n",
              "13                              Pisang Mangga Rebus\n",
              "14                                 Jus Pisang Kurma\n",
              "15                                       Bubur Apel\n",
              "16                                Bubur Jagung Susu\n",
              "17                             Bubur Buah dan Sayur\n",
              "18                                  Pure Ubi Kuning\n",
              "19                                   Biskuit Sereal\n",
              "20                               Kukis Oatmeal Keju\n",
              "21                               Bubur Labu Brokoli\n",
              "22                             Pure Apel dan Papaya\n",
              "23                         Bubur Kacang Hijau Kurma\n",
              "24                             Bubur Pisang Kentang\n",
              "25  Pure Tepung Beras Putih, Zukini, dan Ubi Kuning\n",
              "26                                     Pancake Labu\n",
              "27                                       Apel Rebus\n",
              "28                             Agar-agar Isi Blewah\n",
              "29                                Jus Alpukat Jeruk\n",
              "30                           Pure Pisang dan Pepaya\n",
              "31                                         Tim Lele\n",
              "32                                Jus Melon Alpukat\n",
              "33                        Bubur Makaroni Teri Bayam\n",
              "34                                Bubur Kembang Kol\n",
              "35                              Bubur Kacang Polong\n",
              "36                             Sup Mihun Ikan Gabus\n",
              "37                                     Bubur Pisang\n",
              "38                           Bubur Hunkwe Susu Keju\n",
              "39                                Bubur Tahu Wortel\n",
              "40                                     Bubur Pepaya"
            ],
            "text/html": [
              "\n",
              "  <div id=\"df-daaa7af2-b90b-4e24-8727-2d9603556654\">\n",
              "    <div class=\"colab-df-container\">\n",
              "      <div>\n",
              "<style scoped>\n",
              "    .dataframe tbody tr th:only-of-type {\n",
              "        vertical-align: middle;\n",
              "    }\n",
              "\n",
              "    .dataframe tbody tr th {\n",
              "        vertical-align: top;\n",
              "    }\n",
              "\n",
              "    .dataframe thead th {\n",
              "        text-align: right;\n",
              "    }\n",
              "</style>\n",
              "<table border=\"1\" class=\"dataframe\">\n",
              "  <thead>\n",
              "    <tr style=\"text-align: right;\">\n",
              "      <th></th>\n",
              "      <th>rekomendasi_resep</th>\n",
              "    </tr>\n",
              "  </thead>\n",
              "  <tbody>\n",
              "    <tr>\n",
              "      <th>0</th>\n",
              "      <td>Bubur Kentang Edamame</td>\n",
              "    </tr>\n",
              "    <tr>\n",
              "      <th>1</th>\n",
              "      <td>Pure Ubi Kuning dan Beras Merah</td>\n",
              "    </tr>\n",
              "    <tr>\n",
              "      <th>2</th>\n",
              "      <td>Bubur Susu Kacang Polong</td>\n",
              "    </tr>\n",
              "    <tr>\n",
              "      <th>3</th>\n",
              "      <td>Bubur Singkong Apel</td>\n",
              "    </tr>\n",
              "    <tr>\n",
              "      <th>4</th>\n",
              "      <td>Pure Tiga Rasa</td>\n",
              "    </tr>\n",
              "    <tr>\n",
              "      <th>5</th>\n",
              "      <td>Bubur Oatmeal</td>\n",
              "    </tr>\n",
              "    <tr>\n",
              "      <th>6</th>\n",
              "      <td>Perkedel Lele</td>\n",
              "    </tr>\n",
              "    <tr>\n",
              "      <th>7</th>\n",
              "      <td>Bubur Wortel</td>\n",
              "    </tr>\n",
              "    <tr>\n",
              "      <th>8</th>\n",
              "      <td>Daging Ungkep</td>\n",
              "    </tr>\n",
              "    <tr>\n",
              "      <th>9</th>\n",
              "      <td>Bola-bola Ubi</td>\n",
              "    </tr>\n",
              "    <tr>\n",
              "      <th>10</th>\n",
              "      <td>Bubur Ubi Kembang Kol</td>\n",
              "    </tr>\n",
              "    <tr>\n",
              "      <th>11</th>\n",
              "      <td>Bubur Pisang Ubi</td>\n",
              "    </tr>\n",
              "    <tr>\n",
              "      <th>12</th>\n",
              "      <td>Bubur Pisang Tomat</td>\n",
              "    </tr>\n",
              "    <tr>\n",
              "      <th>13</th>\n",
              "      <td>Pisang Mangga Rebus</td>\n",
              "    </tr>\n",
              "    <tr>\n",
              "      <th>14</th>\n",
              "      <td>Jus Pisang Kurma</td>\n",
              "    </tr>\n",
              "    <tr>\n",
              "      <th>15</th>\n",
              "      <td>Bubur Apel</td>\n",
              "    </tr>\n",
              "    <tr>\n",
              "      <th>16</th>\n",
              "      <td>Bubur Jagung Susu</td>\n",
              "    </tr>\n",
              "    <tr>\n",
              "      <th>17</th>\n",
              "      <td>Bubur Buah dan Sayur</td>\n",
              "    </tr>\n",
              "    <tr>\n",
              "      <th>18</th>\n",
              "      <td>Pure Ubi Kuning</td>\n",
              "    </tr>\n",
              "    <tr>\n",
              "      <th>19</th>\n",
              "      <td>Biskuit Sereal</td>\n",
              "    </tr>\n",
              "    <tr>\n",
              "      <th>20</th>\n",
              "      <td>Kukis Oatmeal Keju</td>\n",
              "    </tr>\n",
              "    <tr>\n",
              "      <th>21</th>\n",
              "      <td>Bubur Labu Brokoli</td>\n",
              "    </tr>\n",
              "    <tr>\n",
              "      <th>22</th>\n",
              "      <td>Pure Apel dan Papaya</td>\n",
              "    </tr>\n",
              "    <tr>\n",
              "      <th>23</th>\n",
              "      <td>Bubur Kacang Hijau Kurma</td>\n",
              "    </tr>\n",
              "    <tr>\n",
              "      <th>24</th>\n",
              "      <td>Bubur Pisang Kentang</td>\n",
              "    </tr>\n",
              "    <tr>\n",
              "      <th>25</th>\n",
              "      <td>Pure Tepung Beras Putih, Zukini, dan Ubi Kuning</td>\n",
              "    </tr>\n",
              "    <tr>\n",
              "      <th>26</th>\n",
              "      <td>Pancake Labu</td>\n",
              "    </tr>\n",
              "    <tr>\n",
              "      <th>27</th>\n",
              "      <td>Apel Rebus</td>\n",
              "    </tr>\n",
              "    <tr>\n",
              "      <th>28</th>\n",
              "      <td>Agar-agar Isi Blewah</td>\n",
              "    </tr>\n",
              "    <tr>\n",
              "      <th>29</th>\n",
              "      <td>Jus Alpukat Jeruk</td>\n",
              "    </tr>\n",
              "    <tr>\n",
              "      <th>30</th>\n",
              "      <td>Pure Pisang dan Pepaya</td>\n",
              "    </tr>\n",
              "    <tr>\n",
              "      <th>31</th>\n",
              "      <td>Tim Lele</td>\n",
              "    </tr>\n",
              "    <tr>\n",
              "      <th>32</th>\n",
              "      <td>Jus Melon Alpukat</td>\n",
              "    </tr>\n",
              "    <tr>\n",
              "      <th>33</th>\n",
              "      <td>Bubur Makaroni Teri Bayam</td>\n",
              "    </tr>\n",
              "    <tr>\n",
              "      <th>34</th>\n",
              "      <td>Bubur Kembang Kol</td>\n",
              "    </tr>\n",
              "    <tr>\n",
              "      <th>35</th>\n",
              "      <td>Bubur Kacang Polong</td>\n",
              "    </tr>\n",
              "    <tr>\n",
              "      <th>36</th>\n",
              "      <td>Sup Mihun Ikan Gabus</td>\n",
              "    </tr>\n",
              "    <tr>\n",
              "      <th>37</th>\n",
              "      <td>Bubur Pisang</td>\n",
              "    </tr>\n",
              "    <tr>\n",
              "      <th>38</th>\n",
              "      <td>Bubur Hunkwe Susu Keju</td>\n",
              "    </tr>\n",
              "    <tr>\n",
              "      <th>39</th>\n",
              "      <td>Bubur Tahu Wortel</td>\n",
              "    </tr>\n",
              "    <tr>\n",
              "      <th>40</th>\n",
              "      <td>Bubur Pepaya</td>\n",
              "    </tr>\n",
              "  </tbody>\n",
              "</table>\n",
              "</div>\n",
              "      <button class=\"colab-df-convert\" onclick=\"convertToInteractive('df-daaa7af2-b90b-4e24-8727-2d9603556654')\"\n",
              "              title=\"Convert this dataframe to an interactive table.\"\n",
              "              style=\"display:none;\">\n",
              "        \n",
              "  <svg xmlns=\"http://www.w3.org/2000/svg\" height=\"24px\"viewBox=\"0 0 24 24\"\n",
              "       width=\"24px\">\n",
              "    <path d=\"M0 0h24v24H0V0z\" fill=\"none\"/>\n",
              "    <path d=\"M18.56 5.44l.94 2.06.94-2.06 2.06-.94-2.06-.94-.94-2.06-.94 2.06-2.06.94zm-11 1L8.5 8.5l.94-2.06 2.06-.94-2.06-.94L8.5 2.5l-.94 2.06-2.06.94zm10 10l.94 2.06.94-2.06 2.06-.94-2.06-.94-.94-2.06-.94 2.06-2.06.94z\"/><path d=\"M17.41 7.96l-1.37-1.37c-.4-.4-.92-.59-1.43-.59-.52 0-1.04.2-1.43.59L10.3 9.45l-7.72 7.72c-.78.78-.78 2.05 0 2.83L4 21.41c.39.39.9.59 1.41.59.51 0 1.02-.2 1.41-.59l7.78-7.78 2.81-2.81c.8-.78.8-2.07 0-2.86zM5.41 20L4 18.59l7.72-7.72 1.47 1.35L5.41 20z\"/>\n",
              "  </svg>\n",
              "      </button>\n",
              "      \n",
              "  <style>\n",
              "    .colab-df-container {\n",
              "      display:flex;\n",
              "      flex-wrap:wrap;\n",
              "      gap: 12px;\n",
              "    }\n",
              "\n",
              "    .colab-df-convert {\n",
              "      background-color: #E8F0FE;\n",
              "      border: none;\n",
              "      border-radius: 50%;\n",
              "      cursor: pointer;\n",
              "      display: none;\n",
              "      fill: #1967D2;\n",
              "      height: 32px;\n",
              "      padding: 0 0 0 0;\n",
              "      width: 32px;\n",
              "    }\n",
              "\n",
              "    .colab-df-convert:hover {\n",
              "      background-color: #E2EBFA;\n",
              "      box-shadow: 0px 1px 2px rgba(60, 64, 67, 0.3), 0px 1px 3px 1px rgba(60, 64, 67, 0.15);\n",
              "      fill: #174EA6;\n",
              "    }\n",
              "\n",
              "    [theme=dark] .colab-df-convert {\n",
              "      background-color: #3B4455;\n",
              "      fill: #D2E3FC;\n",
              "    }\n",
              "\n",
              "    [theme=dark] .colab-df-convert:hover {\n",
              "      background-color: #434B5C;\n",
              "      box-shadow: 0px 1px 3px 1px rgba(0, 0, 0, 0.15);\n",
              "      filter: drop-shadow(0px 1px 2px rgba(0, 0, 0, 0.3));\n",
              "      fill: #FFFFFF;\n",
              "    }\n",
              "  </style>\n",
              "\n",
              "      <script>\n",
              "        const buttonEl =\n",
              "          document.querySelector('#df-daaa7af2-b90b-4e24-8727-2d9603556654 button.colab-df-convert');\n",
              "        buttonEl.style.display =\n",
              "          google.colab.kernel.accessAllowed ? 'block' : 'none';\n",
              "\n",
              "        async function convertToInteractive(key) {\n",
              "          const element = document.querySelector('#df-daaa7af2-b90b-4e24-8727-2d9603556654');\n",
              "          const dataTable =\n",
              "            await google.colab.kernel.invokeFunction('convertToInteractive',\n",
              "                                                     [key], {});\n",
              "          if (!dataTable) return;\n",
              "\n",
              "          const docLinkHtml = 'Like what you see? Visit the ' +\n",
              "            '<a target=\"_blank\" href=https://colab.research.google.com/notebooks/data_table.ipynb>data table notebook</a>'\n",
              "            + ' to learn more about interactive tables.';\n",
              "          element.innerHTML = '';\n",
              "          dataTable['output_type'] = 'display_data';\n",
              "          await google.colab.output.renderOutput(dataTable, element);\n",
              "          const docLink = document.createElement('div');\n",
              "          docLink.innerHTML = docLinkHtml;\n",
              "          element.appendChild(docLink);\n",
              "        }\n",
              "      </script>\n",
              "    </div>\n",
              "  </div>\n",
              "  "
            ]
          },
          "metadata": {},
          "execution_count": 71
        }
      ],
      "source": [
        "titles_numpy = np.array(titles).transpose().astype(str)\n",
        "\n",
        "rekomendasi = pd.DataFrame(titles_numpy, columns=[\"rekomendasi_resep\"])\n",
        "rekomendasi"
      ]
    },
    {
      "cell_type": "markdown",
      "metadata": {
        "id": "Fp6D6s5mLkLn"
      },
      "source": [
        "## V. *Filtering Rekomendasi Resep Berdasarkan Alergi*"
      ]
    },
    {
      "cell_type": "code",
      "execution_count": null,
      "metadata": {
        "id": "J9FO9GtxHcOV"
      },
      "outputs": [],
      "source": [
        "def search_list(list1):\n",
        "  pattern = '|'.join([f'(?i){list_value}' for list_value in list1])\n",
        "  return pattern"
      ]
    },
    {
      "cell_type": "code",
      "execution_count": null,
      "metadata": {
        "colab": {
          "base_uri": "https://localhost:8080/"
        },
        "id": "za_X6LO599H8",
        "outputId": "086b1dd9-ceb5-4572-d6e0-99a2385f8b88"
      },
      "outputs": [
        {
          "output_type": "stream",
          "name": "stdout",
          "text": [
            "Bubur Kentang Edamame\n",
            "[43]\n",
            "43    False\n",
            "Name: nama_bahan, dtype: bool\n",
            "Pure Ubi Kuning dan Beras Merah\n",
            "[134]\n",
            "134    False\n",
            "Name: nama_bahan, dtype: bool\n",
            "Bubur Susu Kacang Polong\n",
            "[65]\n",
            "65    False\n",
            "Name: nama_bahan, dtype: bool\n",
            "Bubur Singkong Apel\n",
            "[63]\n",
            "63    False\n",
            "Name: nama_bahan, dtype: bool\n",
            "Pure Tiga Rasa\n",
            "[132]\n",
            "132    False\n",
            "Name: nama_bahan, dtype: bool\n",
            "Bubur Oatmeal\n",
            "[50]\n",
            "50    False\n",
            "Name: nama_bahan, dtype: bool\n",
            "Perkedel Lele\n",
            "[121]\n",
            "121    False\n",
            "Name: nama_bahan, dtype: bool\n",
            "Bubur Wortel\n",
            "[78]\n",
            "78    False\n",
            "Name: nama_bahan, dtype: bool\n",
            "Daging Ungkep\n",
            "[82]\n",
            "82    False\n",
            "Name: nama_bahan, dtype: bool\n",
            "Bola-bola Ubi\n",
            "[10]\n",
            "10    False\n",
            "Name: nama_bahan, dtype: bool\n",
            "Bubur Ubi Kembang Kol\n",
            "[77]\n",
            "77    False\n",
            "Name: nama_bahan, dtype: bool\n",
            "Bubur Pisang Ubi\n",
            "[59]\n",
            "59    False\n",
            "Name: nama_bahan, dtype: bool\n",
            "Bubur Pisang Tomat\n",
            "[58]\n",
            "58    False\n",
            "Name: nama_bahan, dtype: bool\n",
            "Pisang Mangga Rebus\n",
            "[123]\n",
            "123    False\n",
            "Name: nama_bahan, dtype: bool\n",
            "Jus Pisang Kurma\n",
            "[92]\n",
            "92    False\n",
            "Name: nama_bahan, dtype: bool\n",
            "Bubur Apel\n",
            "[16]\n",
            "16    False\n",
            "Name: nama_bahan, dtype: bool\n",
            "Bubur Jagung Susu\n",
            "[35]\n",
            "35    False\n",
            "Name: nama_bahan, dtype: bool\n",
            "Bubur Buah dan Sayur\n",
            "[29]\n",
            "29    False\n",
            "Name: nama_bahan, dtype: bool\n",
            "Pure Ubi Kuning\n",
            "[133]\n",
            "133    False\n",
            "Name: nama_bahan, dtype: bool\n",
            "Biskuit Sereal\n",
            "[9]\n",
            "9    False\n",
            "Name: nama_bahan, dtype: bool\n",
            "Kukis Oatmeal Keju\n",
            "[107]\n",
            "107    False\n",
            "Name: nama_bahan, dtype: bool\n",
            "Bubur Labu Brokoli\n",
            "[46]\n",
            "46    False\n",
            "Name: nama_bahan, dtype: bool\n",
            "Pure Apel dan Papaya\n",
            "[128]\n",
            "128    False\n",
            "Name: nama_bahan, dtype: bool\n",
            "Bubur Kacang Hijau Kurma\n",
            "[37]\n",
            "37    False\n",
            "Name: nama_bahan, dtype: bool\n",
            "Bubur Pisang Kentang\n",
            "[56]\n",
            "56    False\n",
            "Name: nama_bahan, dtype: bool\n",
            "Pure Tepung Beras Putih, Zukini, dan Ubi Kuning\n",
            "[131]\n",
            "131    False\n",
            "Name: nama_bahan, dtype: bool\n",
            "Pancake Labu\n",
            "[119]\n",
            "119    False\n",
            "Name: nama_bahan, dtype: bool\n",
            "Apel Rebus\n",
            "[1]\n",
            "1    False\n",
            "Name: nama_bahan, dtype: bool\n",
            "Agar-agar Isi Blewah\n",
            "[0]\n",
            "0    False\n",
            "Name: nama_bahan, dtype: bool\n",
            "Jus Alpukat Jeruk\n",
            "[87]\n",
            "87    False\n",
            "Name: nama_bahan, dtype: bool\n",
            "Pure Pisang dan Pepaya\n",
            "[130]\n",
            "130    False\n",
            "Name: nama_bahan, dtype: bool\n",
            "Tim Lele\n",
            "[154]\n",
            "154    False\n",
            "Name: nama_bahan, dtype: bool\n",
            "Jus Melon Alpukat\n",
            "[90]\n",
            "90    False\n",
            "Name: nama_bahan, dtype: bool\n",
            "Bubur Makaroni Teri Bayam\n",
            "[47]\n",
            "47    False\n",
            "Name: nama_bahan, dtype: bool\n",
            "Bubur Kembang Kol\n",
            "[40]\n",
            "40    False\n",
            "Name: nama_bahan, dtype: bool\n",
            "Bubur Kacang Polong\n",
            "[38]\n",
            "38    False\n",
            "Name: nama_bahan, dtype: bool\n",
            "Sup Mihun Ikan Gabus\n",
            "[149]\n",
            "149    False\n",
            "Name: nama_bahan, dtype: bool\n",
            "Bubur Pisang\n",
            "[54]\n",
            "54    False\n",
            "Name: nama_bahan, dtype: bool\n",
            "Bubur Hunkwe Susu Keju\n",
            "[32]\n",
            "32    False\n",
            "Name: nama_bahan, dtype: bool\n",
            "Bubur Tahu Wortel\n",
            "[68]\n",
            "68    False\n",
            "Name: nama_bahan, dtype: bool\n",
            "Bubur Pepaya\n",
            "[51]\n",
            "51    False\n",
            "Name: nama_bahan, dtype: bool\n",
            "41\n"
          ]
        },
        {
          "output_type": "execute_result",
          "data": {
            "text/plain": [
              "                                  rekomendasi_resep\n",
              "0                             Bubur Kentang Edamame\n",
              "1                   Pure Ubi Kuning dan Beras Merah\n",
              "2                          Bubur Susu Kacang Polong\n",
              "3                               Bubur Singkong Apel\n",
              "4                                    Pure Tiga Rasa\n",
              "5                                     Bubur Oatmeal\n",
              "6                                     Perkedel Lele\n",
              "7                                      Bubur Wortel\n",
              "8                                     Daging Ungkep\n",
              "9                                     Bola-bola Ubi\n",
              "10                            Bubur Ubi Kembang Kol\n",
              "11                                 Bubur Pisang Ubi\n",
              "12                               Bubur Pisang Tomat\n",
              "13                              Pisang Mangga Rebus\n",
              "14                                 Jus Pisang Kurma\n",
              "15                                       Bubur Apel\n",
              "16                                Bubur Jagung Susu\n",
              "17                             Bubur Buah dan Sayur\n",
              "18                                  Pure Ubi Kuning\n",
              "19                                   Biskuit Sereal\n",
              "20                               Kukis Oatmeal Keju\n",
              "21                               Bubur Labu Brokoli\n",
              "22                             Pure Apel dan Papaya\n",
              "23                         Bubur Kacang Hijau Kurma\n",
              "24                             Bubur Pisang Kentang\n",
              "25  Pure Tepung Beras Putih, Zukini, dan Ubi Kuning\n",
              "26                                     Pancake Labu\n",
              "27                                       Apel Rebus\n",
              "28                             Agar-agar Isi Blewah\n",
              "29                                Jus Alpukat Jeruk\n",
              "30                           Pure Pisang dan Pepaya\n",
              "31                                         Tim Lele\n",
              "32                                Jus Melon Alpukat\n",
              "33                        Bubur Makaroni Teri Bayam\n",
              "34                                Bubur Kembang Kol\n",
              "35                              Bubur Kacang Polong\n",
              "36                             Sup Mihun Ikan Gabus\n",
              "37                                     Bubur Pisang\n",
              "38                           Bubur Hunkwe Susu Keju\n",
              "39                                Bubur Tahu Wortel\n",
              "40                                     Bubur Pepaya"
            ],
            "text/html": [
              "\n",
              "  <div id=\"df-9c2bbb4e-3631-44a3-992d-bc295c016995\">\n",
              "    <div class=\"colab-df-container\">\n",
              "      <div>\n",
              "<style scoped>\n",
              "    .dataframe tbody tr th:only-of-type {\n",
              "        vertical-align: middle;\n",
              "    }\n",
              "\n",
              "    .dataframe tbody tr th {\n",
              "        vertical-align: top;\n",
              "    }\n",
              "\n",
              "    .dataframe thead th {\n",
              "        text-align: right;\n",
              "    }\n",
              "</style>\n",
              "<table border=\"1\" class=\"dataframe\">\n",
              "  <thead>\n",
              "    <tr style=\"text-align: right;\">\n",
              "      <th></th>\n",
              "      <th>rekomendasi_resep</th>\n",
              "    </tr>\n",
              "  </thead>\n",
              "  <tbody>\n",
              "    <tr>\n",
              "      <th>0</th>\n",
              "      <td>Bubur Kentang Edamame</td>\n",
              "    </tr>\n",
              "    <tr>\n",
              "      <th>1</th>\n",
              "      <td>Pure Ubi Kuning dan Beras Merah</td>\n",
              "    </tr>\n",
              "    <tr>\n",
              "      <th>2</th>\n",
              "      <td>Bubur Susu Kacang Polong</td>\n",
              "    </tr>\n",
              "    <tr>\n",
              "      <th>3</th>\n",
              "      <td>Bubur Singkong Apel</td>\n",
              "    </tr>\n",
              "    <tr>\n",
              "      <th>4</th>\n",
              "      <td>Pure Tiga Rasa</td>\n",
              "    </tr>\n",
              "    <tr>\n",
              "      <th>5</th>\n",
              "      <td>Bubur Oatmeal</td>\n",
              "    </tr>\n",
              "    <tr>\n",
              "      <th>6</th>\n",
              "      <td>Perkedel Lele</td>\n",
              "    </tr>\n",
              "    <tr>\n",
              "      <th>7</th>\n",
              "      <td>Bubur Wortel</td>\n",
              "    </tr>\n",
              "    <tr>\n",
              "      <th>8</th>\n",
              "      <td>Daging Ungkep</td>\n",
              "    </tr>\n",
              "    <tr>\n",
              "      <th>9</th>\n",
              "      <td>Bola-bola Ubi</td>\n",
              "    </tr>\n",
              "    <tr>\n",
              "      <th>10</th>\n",
              "      <td>Bubur Ubi Kembang Kol</td>\n",
              "    </tr>\n",
              "    <tr>\n",
              "      <th>11</th>\n",
              "      <td>Bubur Pisang Ubi</td>\n",
              "    </tr>\n",
              "    <tr>\n",
              "      <th>12</th>\n",
              "      <td>Bubur Pisang Tomat</td>\n",
              "    </tr>\n",
              "    <tr>\n",
              "      <th>13</th>\n",
              "      <td>Pisang Mangga Rebus</td>\n",
              "    </tr>\n",
              "    <tr>\n",
              "      <th>14</th>\n",
              "      <td>Jus Pisang Kurma</td>\n",
              "    </tr>\n",
              "    <tr>\n",
              "      <th>15</th>\n",
              "      <td>Bubur Apel</td>\n",
              "    </tr>\n",
              "    <tr>\n",
              "      <th>16</th>\n",
              "      <td>Bubur Jagung Susu</td>\n",
              "    </tr>\n",
              "    <tr>\n",
              "      <th>17</th>\n",
              "      <td>Bubur Buah dan Sayur</td>\n",
              "    </tr>\n",
              "    <tr>\n",
              "      <th>18</th>\n",
              "      <td>Pure Ubi Kuning</td>\n",
              "    </tr>\n",
              "    <tr>\n",
              "      <th>19</th>\n",
              "      <td>Biskuit Sereal</td>\n",
              "    </tr>\n",
              "    <tr>\n",
              "      <th>20</th>\n",
              "      <td>Kukis Oatmeal Keju</td>\n",
              "    </tr>\n",
              "    <tr>\n",
              "      <th>21</th>\n",
              "      <td>Bubur Labu Brokoli</td>\n",
              "    </tr>\n",
              "    <tr>\n",
              "      <th>22</th>\n",
              "      <td>Pure Apel dan Papaya</td>\n",
              "    </tr>\n",
              "    <tr>\n",
              "      <th>23</th>\n",
              "      <td>Bubur Kacang Hijau Kurma</td>\n",
              "    </tr>\n",
              "    <tr>\n",
              "      <th>24</th>\n",
              "      <td>Bubur Pisang Kentang</td>\n",
              "    </tr>\n",
              "    <tr>\n",
              "      <th>25</th>\n",
              "      <td>Pure Tepung Beras Putih, Zukini, dan Ubi Kuning</td>\n",
              "    </tr>\n",
              "    <tr>\n",
              "      <th>26</th>\n",
              "      <td>Pancake Labu</td>\n",
              "    </tr>\n",
              "    <tr>\n",
              "      <th>27</th>\n",
              "      <td>Apel Rebus</td>\n",
              "    </tr>\n",
              "    <tr>\n",
              "      <th>28</th>\n",
              "      <td>Agar-agar Isi Blewah</td>\n",
              "    </tr>\n",
              "    <tr>\n",
              "      <th>29</th>\n",
              "      <td>Jus Alpukat Jeruk</td>\n",
              "    </tr>\n",
              "    <tr>\n",
              "      <th>30</th>\n",
              "      <td>Pure Pisang dan Pepaya</td>\n",
              "    </tr>\n",
              "    <tr>\n",
              "      <th>31</th>\n",
              "      <td>Tim Lele</td>\n",
              "    </tr>\n",
              "    <tr>\n",
              "      <th>32</th>\n",
              "      <td>Jus Melon Alpukat</td>\n",
              "    </tr>\n",
              "    <tr>\n",
              "      <th>33</th>\n",
              "      <td>Bubur Makaroni Teri Bayam</td>\n",
              "    </tr>\n",
              "    <tr>\n",
              "      <th>34</th>\n",
              "      <td>Bubur Kembang Kol</td>\n",
              "    </tr>\n",
              "    <tr>\n",
              "      <th>35</th>\n",
              "      <td>Bubur Kacang Polong</td>\n",
              "    </tr>\n",
              "    <tr>\n",
              "      <th>36</th>\n",
              "      <td>Sup Mihun Ikan Gabus</td>\n",
              "    </tr>\n",
              "    <tr>\n",
              "      <th>37</th>\n",
              "      <td>Bubur Pisang</td>\n",
              "    </tr>\n",
              "    <tr>\n",
              "      <th>38</th>\n",
              "      <td>Bubur Hunkwe Susu Keju</td>\n",
              "    </tr>\n",
              "    <tr>\n",
              "      <th>39</th>\n",
              "      <td>Bubur Tahu Wortel</td>\n",
              "    </tr>\n",
              "    <tr>\n",
              "      <th>40</th>\n",
              "      <td>Bubur Pepaya</td>\n",
              "    </tr>\n",
              "  </tbody>\n",
              "</table>\n",
              "</div>\n",
              "      <button class=\"colab-df-convert\" onclick=\"convertToInteractive('df-9c2bbb4e-3631-44a3-992d-bc295c016995')\"\n",
              "              title=\"Convert this dataframe to an interactive table.\"\n",
              "              style=\"display:none;\">\n",
              "        \n",
              "  <svg xmlns=\"http://www.w3.org/2000/svg\" height=\"24px\"viewBox=\"0 0 24 24\"\n",
              "       width=\"24px\">\n",
              "    <path d=\"M0 0h24v24H0V0z\" fill=\"none\"/>\n",
              "    <path d=\"M18.56 5.44l.94 2.06.94-2.06 2.06-.94-2.06-.94-.94-2.06-.94 2.06-2.06.94zm-11 1L8.5 8.5l.94-2.06 2.06-.94-2.06-.94L8.5 2.5l-.94 2.06-2.06.94zm10 10l.94 2.06.94-2.06 2.06-.94-2.06-.94-.94-2.06-.94 2.06-2.06.94z\"/><path d=\"M17.41 7.96l-1.37-1.37c-.4-.4-.92-.59-1.43-.59-.52 0-1.04.2-1.43.59L10.3 9.45l-7.72 7.72c-.78.78-.78 2.05 0 2.83L4 21.41c.39.39.9.59 1.41.59.51 0 1.02-.2 1.41-.59l7.78-7.78 2.81-2.81c.8-.78.8-2.07 0-2.86zM5.41 20L4 18.59l7.72-7.72 1.47 1.35L5.41 20z\"/>\n",
              "  </svg>\n",
              "      </button>\n",
              "      \n",
              "  <style>\n",
              "    .colab-df-container {\n",
              "      display:flex;\n",
              "      flex-wrap:wrap;\n",
              "      gap: 12px;\n",
              "    }\n",
              "\n",
              "    .colab-df-convert {\n",
              "      background-color: #E8F0FE;\n",
              "      border: none;\n",
              "      border-radius: 50%;\n",
              "      cursor: pointer;\n",
              "      display: none;\n",
              "      fill: #1967D2;\n",
              "      height: 32px;\n",
              "      padding: 0 0 0 0;\n",
              "      width: 32px;\n",
              "    }\n",
              "\n",
              "    .colab-df-convert:hover {\n",
              "      background-color: #E2EBFA;\n",
              "      box-shadow: 0px 1px 2px rgba(60, 64, 67, 0.3), 0px 1px 3px 1px rgba(60, 64, 67, 0.15);\n",
              "      fill: #174EA6;\n",
              "    }\n",
              "\n",
              "    [theme=dark] .colab-df-convert {\n",
              "      background-color: #3B4455;\n",
              "      fill: #D2E3FC;\n",
              "    }\n",
              "\n",
              "    [theme=dark] .colab-df-convert:hover {\n",
              "      background-color: #434B5C;\n",
              "      box-shadow: 0px 1px 3px 1px rgba(0, 0, 0, 0.15);\n",
              "      filter: drop-shadow(0px 1px 2px rgba(0, 0, 0, 0.3));\n",
              "      fill: #FFFFFF;\n",
              "    }\n",
              "  </style>\n",
              "\n",
              "      <script>\n",
              "        const buttonEl =\n",
              "          document.querySelector('#df-9c2bbb4e-3631-44a3-992d-bc295c016995 button.colab-df-convert');\n",
              "        buttonEl.style.display =\n",
              "          google.colab.kernel.accessAllowed ? 'block' : 'none';\n",
              "\n",
              "        async function convertToInteractive(key) {\n",
              "          const element = document.querySelector('#df-9c2bbb4e-3631-44a3-992d-bc295c016995');\n",
              "          const dataTable =\n",
              "            await google.colab.kernel.invokeFunction('convertToInteractive',\n",
              "                                                     [key], {});\n",
              "          if (!dataTable) return;\n",
              "\n",
              "          const docLinkHtml = 'Like what you see? Visit the ' +\n",
              "            '<a target=\"_blank\" href=https://colab.research.google.com/notebooks/data_table.ipynb>data table notebook</a>'\n",
              "            + ' to learn more about interactive tables.';\n",
              "          element.innerHTML = '';\n",
              "          dataTable['output_type'] = 'display_data';\n",
              "          await google.colab.output.renderOutput(dataTable, element);\n",
              "          const docLink = document.createElement('div');\n",
              "          docLink.innerHTML = docLinkHtml;\n",
              "          element.appendChild(docLink);\n",
              "        }\n",
              "      </script>\n",
              "    </div>\n",
              "  </div>\n",
              "  "
            ]
          },
          "metadata": {},
          "execution_count": 73
        }
      ],
      "source": [
        "list_rekomendasi = [a for a in rekomendasi[\"rekomendasi_resep\"]]\n",
        "rekomendasi_nonalergen = rekomendasi.copy()\n",
        "\n",
        "for x in list_rekomendasi:\n",
        "  print(x)\n",
        "  index_x = komposisi_resep_filtered.index[komposisi_resep_filtered[\"nama_resep\"] == x].tolist()\n",
        "  print(index_x)\n",
        "  result = komposisi_resep_filtered.loc[index_x, [\"nama_bahan\"]]\n",
        "  mask = result.nama_bahan.str.contains(search_list(alergi))\n",
        "  print(mask)\n",
        "  if mask.any():\n",
        "    rekomendasi_nonalergen = rekomendasi_nonalergen[rekomendasi_nonalergen[\"rekomendasi_resep\"] != x]\n",
        "    \n",
        "print(len(rekomendasi_nonalergen))\n",
        "rekomendasi_nonalergen"
      ]
    },
    {
      "cell_type": "markdown",
      "metadata": {
        "id": "jmRQmB-0LkZp"
      },
      "source": [
        "## VI. *Filtering Rekomendasi Resep Berdasarkan umur dan EER*"
      ]
    },
    {
      "cell_type": "code",
      "source": [
        "def filter_umur(rsp,rspbln):\n",
        "  list_rsp = [a for a in rsp[\"rekomendasi_resep\"]]\n",
        "  output = rsp.copy()\n",
        "\n",
        "  for x in list_rsp:\n",
        "    if x in rspbln:\n",
        "      print(x + \" Exists\")\n",
        "    else:\n",
        "      output = output[output[\"rekomendasi_resep\"] != x]\n",
        "  return output"
      ],
      "metadata": {
        "id": "LLzDrla0OI2T"
      },
      "execution_count": null,
      "outputs": []
    },
    {
      "cell_type": "code",
      "execution_count": null,
      "metadata": {
        "colab": {
          "base_uri": "https://localhost:8080/"
        },
        "id": "FcaFMSGwSlT_",
        "outputId": "57375f6c-9def-4414-f174-a5d2a45da34b"
      },
      "outputs": [
        {
          "output_type": "stream",
          "name": "stdout",
          "text": [
            "Bubur Kentang Edamame Exists\n",
            "Bubur Wortel Exists\n",
            "Bubur Pisang Ubi Exists\n",
            "Bubur Labu Brokoli Exists\n",
            "Bubur Kacang Hijau Kurma Exists\n",
            "Bubur Pisang Kentang Exists\n",
            "Tim Lele Exists\n",
            "Bubur Tahu Wortel Exists\n",
            "Bubur Pepaya Exists\n",
            "           rekomendasi_resep\n",
            "0      Bubur Kentang Edamame\n",
            "7               Bubur Wortel\n",
            "11          Bubur Pisang Ubi\n",
            "21        Bubur Labu Brokoli\n",
            "23  Bubur Kacang Hijau Kurma\n",
            "24      Bubur Pisang Kentang\n",
            "31                  Tim Lele\n",
            "39         Bubur Tahu Wortel\n",
            "40              Bubur Pepaya\n"
          ]
        }
      ],
      "source": [
        "if bulan <= 6:\n",
        "  rekomendasi_nonalergen_umur = filter_umur(rekomendasi_nonalergen, resep_bulan_6)\n",
        "elif bulan in (7, 8):\n",
        "  rekomendasi_nonalergen_umur = filter_umur(rekomendasi_nonalergen, resep_bulan_7_8)\n",
        "elif bulan in (9, 10, 11):\n",
        "  rekomendasi_nonalergen_umur = filter_umur(rekomendasi_nonalergen, resep_bulan_9_11)\n",
        "else:\n",
        "  rekomendasi_nonalergen_umur = filter_umur(rekomendasi_nonalergen, resep_bulan_12_24)\n",
        "\n",
        "print(rekomendasi_nonalergen_umur)"
      ]
    },
    {
      "cell_type": "code",
      "source": [
        "def filter_menu_harian(rekomend, menu, mon):\n",
        "  menu_copy = menu.copy()\n",
        "  menu_copy['menu_makanan'] = menu_copy[\"pagi\"] + ',' + menu_copy[\"siang\"] + ',' + menu_copy[\"malam\"] + ',' + menu_copy[\"snack1\"] + ',' + menu_copy[\"snack2\"]\n",
        "  list_rekomend = [a for a in rekomend[\"rekomendasi_resep\"]]\n",
        "  \n",
        "  if mon <= 6:\n",
        "    menu_copy = menu_copy.iloc[0:15]\n",
        "  elif mon in (7, 8):\n",
        "    menu_copy = menu_copy.iloc[16:783]\n",
        "  elif mon in (9, 10, 11):\n",
        "    menu_copy = menu_copy.iloc[784:20239]\n",
        "  else:\n",
        "    menu_copy = menu_copy.iloc[20240:20383]\n",
        "  \n",
        "  mask = menu_copy.menu_makanan.str.contains(search_list(list_rekomend))\n",
        "  menu_copy = menu_copy[mask]\n",
        "  return menu_copy\n",
        "\n",
        "filter_menu_harian(rekomendasi_nonalergen_umur, menu_harian, 11)"
      ],
      "metadata": {
        "colab": {
          "base_uri": "https://localhost:8080/",
          "height": 1000
        },
        "id": "cDQSuyDJhIp3",
        "outputId": "50632fbf-a4c3-4c81-8e34-ea32dd3f000a"
      },
      "execution_count": null,
      "outputs": [
        {
          "output_type": "execute_result",
          "data": {
            "text/plain": [
              "       id_kombinasi                pagi                  siang  \\\n",
              "841             842  Bubur Ayam Kedelai  Bubur Ayam Talas Keju   \n",
              "842             843  Bubur Ayam Kedelai  Bubur Ayam Talas Keju   \n",
              "843             844  Bubur Ayam Kedelai  Bubur Ayam Talas Keju   \n",
              "844             845  Bubur Ayam Kedelai  Bubur Ayam Talas Keju   \n",
              "845             846  Bubur Ayam Kedelai  Bubur Ayam Talas Keju   \n",
              "...             ...                 ...                    ...   \n",
              "20234         20235         Sayur Kukus               Tim Lele   \n",
              "20235         20236         Sayur Kukus               Tim Lele   \n",
              "20236         20237         Sayur Kukus               Tim Lele   \n",
              "20237         20238         Sayur Kukus               Tim Lele   \n",
              "20238         20239         Sayur Kukus               Tim Lele   \n",
              "\n",
              "                          malam                      snack1 snack2  bulan_6  \\\n",
              "841    Bubur Kacang Hijau Kurma        Agar-agar Isi Blewah               0   \n",
              "842    Bubur Kacang Hijau Kurma            Biskuit Oat Ceri               0   \n",
              "843    Bubur Kacang Hijau Kurma          Biskuit Oat Wortel               0   \n",
              "844    Bubur Kacang Hijau Kurma              Biskuit Sereal               0   \n",
              "845    Bubur Kacang Hijau Kurma               Bola-bola Ubi               0   \n",
              "...                         ...                         ...    ...      ...   \n",
              "20234               Sayur Kukus          Kukis Oatmeal Keju               0   \n",
              "20235               Sayur Kukus                Lapis Mangga               0   \n",
              "20236               Sayur Kukus                Pancake Labu               0   \n",
              "20237               Sayur Kukus               Perkedel Lele               0   \n",
              "20238               Sayur Kukus  Puding Yogurt Saus Alpukat               0   \n",
              "\n",
              "       bulan_7_8  bulan_9_11  bulan_12_24  total_energi  total_carbo  \\\n",
              "841            0           1            0       346.100       44.100   \n",
              "842            0           1            0       346.200       38.730   \n",
              "843            0           1            0       348.650       38.800   \n",
              "844            0           1            0       347.300       40.780   \n",
              "845            0           1            0       346.040       40.860   \n",
              "...          ...         ...          ...           ...          ...   \n",
              "20234          0           1            0       345.960       59.030   \n",
              "20235          0           1            0       347.545       63.930   \n",
              "20236          0           1            0       346.760       60.850   \n",
              "20237          0           1            0       346.360       59.116   \n",
              "20238          0           1            0       345.260       56.650   \n",
              "\n",
              "       total_protein  total_lipid  \\\n",
              "841           19.030      10.4975   \n",
              "842           18.593      12.8110   \n",
              "843           18.660      13.0100   \n",
              "844           18.970      11.8500   \n",
              "845           19.160      10.5360   \n",
              "...              ...          ...   \n",
              "20234         17.180       4.5700   \n",
              "20235         16.700       2.6370   \n",
              "20236         17.660       3.8300   \n",
              "20237         18.320       4.0450   \n",
              "20238         17.360       5.5800   \n",
              "\n",
              "                                            menu_makanan  \n",
              "841    Bubur Ayam Kedelai,Bubur Ayam Talas Keju,Bubur...  \n",
              "842    Bubur Ayam Kedelai,Bubur Ayam Talas Keju,Bubur...  \n",
              "843    Bubur Ayam Kedelai,Bubur Ayam Talas Keju,Bubur...  \n",
              "844    Bubur Ayam Kedelai,Bubur Ayam Talas Keju,Bubur...  \n",
              "845    Bubur Ayam Kedelai,Bubur Ayam Talas Keju,Bubur...  \n",
              "...                                                  ...  \n",
              "20234  Sayur Kukus,Tim Lele,Sayur Kukus,Kukis Oatmeal...  \n",
              "20235     Sayur Kukus,Tim Lele,Sayur Kukus,Lapis Mangga,  \n",
              "20236     Sayur Kukus,Tim Lele,Sayur Kukus,Pancake Labu,  \n",
              "20237    Sayur Kukus,Tim Lele,Sayur Kukus,Perkedel Lele,  \n",
              "20238  Sayur Kukus,Tim Lele,Sayur Kukus,Puding Yogurt...  \n",
              "\n",
              "[16377 rows x 15 columns]"
            ],
            "text/html": [
              "\n",
              "  <div id=\"df-ae391d9c-d19b-4d30-bfee-215e027162aa\">\n",
              "    <div class=\"colab-df-container\">\n",
              "      <div>\n",
              "<style scoped>\n",
              "    .dataframe tbody tr th:only-of-type {\n",
              "        vertical-align: middle;\n",
              "    }\n",
              "\n",
              "    .dataframe tbody tr th {\n",
              "        vertical-align: top;\n",
              "    }\n",
              "\n",
              "    .dataframe thead th {\n",
              "        text-align: right;\n",
              "    }\n",
              "</style>\n",
              "<table border=\"1\" class=\"dataframe\">\n",
              "  <thead>\n",
              "    <tr style=\"text-align: right;\">\n",
              "      <th></th>\n",
              "      <th>id_kombinasi</th>\n",
              "      <th>pagi</th>\n",
              "      <th>siang</th>\n",
              "      <th>malam</th>\n",
              "      <th>snack1</th>\n",
              "      <th>snack2</th>\n",
              "      <th>bulan_6</th>\n",
              "      <th>bulan_7_8</th>\n",
              "      <th>bulan_9_11</th>\n",
              "      <th>bulan_12_24</th>\n",
              "      <th>total_energi</th>\n",
              "      <th>total_carbo</th>\n",
              "      <th>total_protein</th>\n",
              "      <th>total_lipid</th>\n",
              "      <th>menu_makanan</th>\n",
              "    </tr>\n",
              "  </thead>\n",
              "  <tbody>\n",
              "    <tr>\n",
              "      <th>841</th>\n",
              "      <td>842</td>\n",
              "      <td>Bubur Ayam Kedelai</td>\n",
              "      <td>Bubur Ayam Talas Keju</td>\n",
              "      <td>Bubur Kacang Hijau Kurma</td>\n",
              "      <td>Agar-agar Isi Blewah</td>\n",
              "      <td></td>\n",
              "      <td>0</td>\n",
              "      <td>0</td>\n",
              "      <td>1</td>\n",
              "      <td>0</td>\n",
              "      <td>346.100</td>\n",
              "      <td>44.100</td>\n",
              "      <td>19.030</td>\n",
              "      <td>10.4975</td>\n",
              "      <td>Bubur Ayam Kedelai,Bubur Ayam Talas Keju,Bubur...</td>\n",
              "    </tr>\n",
              "    <tr>\n",
              "      <th>842</th>\n",
              "      <td>843</td>\n",
              "      <td>Bubur Ayam Kedelai</td>\n",
              "      <td>Bubur Ayam Talas Keju</td>\n",
              "      <td>Bubur Kacang Hijau Kurma</td>\n",
              "      <td>Biskuit Oat Ceri</td>\n",
              "      <td></td>\n",
              "      <td>0</td>\n",
              "      <td>0</td>\n",
              "      <td>1</td>\n",
              "      <td>0</td>\n",
              "      <td>346.200</td>\n",
              "      <td>38.730</td>\n",
              "      <td>18.593</td>\n",
              "      <td>12.8110</td>\n",
              "      <td>Bubur Ayam Kedelai,Bubur Ayam Talas Keju,Bubur...</td>\n",
              "    </tr>\n",
              "    <tr>\n",
              "      <th>843</th>\n",
              "      <td>844</td>\n",
              "      <td>Bubur Ayam Kedelai</td>\n",
              "      <td>Bubur Ayam Talas Keju</td>\n",
              "      <td>Bubur Kacang Hijau Kurma</td>\n",
              "      <td>Biskuit Oat Wortel</td>\n",
              "      <td></td>\n",
              "      <td>0</td>\n",
              "      <td>0</td>\n",
              "      <td>1</td>\n",
              "      <td>0</td>\n",
              "      <td>348.650</td>\n",
              "      <td>38.800</td>\n",
              "      <td>18.660</td>\n",
              "      <td>13.0100</td>\n",
              "      <td>Bubur Ayam Kedelai,Bubur Ayam Talas Keju,Bubur...</td>\n",
              "    </tr>\n",
              "    <tr>\n",
              "      <th>844</th>\n",
              "      <td>845</td>\n",
              "      <td>Bubur Ayam Kedelai</td>\n",
              "      <td>Bubur Ayam Talas Keju</td>\n",
              "      <td>Bubur Kacang Hijau Kurma</td>\n",
              "      <td>Biskuit Sereal</td>\n",
              "      <td></td>\n",
              "      <td>0</td>\n",
              "      <td>0</td>\n",
              "      <td>1</td>\n",
              "      <td>0</td>\n",
              "      <td>347.300</td>\n",
              "      <td>40.780</td>\n",
              "      <td>18.970</td>\n",
              "      <td>11.8500</td>\n",
              "      <td>Bubur Ayam Kedelai,Bubur Ayam Talas Keju,Bubur...</td>\n",
              "    </tr>\n",
              "    <tr>\n",
              "      <th>845</th>\n",
              "      <td>846</td>\n",
              "      <td>Bubur Ayam Kedelai</td>\n",
              "      <td>Bubur Ayam Talas Keju</td>\n",
              "      <td>Bubur Kacang Hijau Kurma</td>\n",
              "      <td>Bola-bola Ubi</td>\n",
              "      <td></td>\n",
              "      <td>0</td>\n",
              "      <td>0</td>\n",
              "      <td>1</td>\n",
              "      <td>0</td>\n",
              "      <td>346.040</td>\n",
              "      <td>40.860</td>\n",
              "      <td>19.160</td>\n",
              "      <td>10.5360</td>\n",
              "      <td>Bubur Ayam Kedelai,Bubur Ayam Talas Keju,Bubur...</td>\n",
              "    </tr>\n",
              "    <tr>\n",
              "      <th>...</th>\n",
              "      <td>...</td>\n",
              "      <td>...</td>\n",
              "      <td>...</td>\n",
              "      <td>...</td>\n",
              "      <td>...</td>\n",
              "      <td>...</td>\n",
              "      <td>...</td>\n",
              "      <td>...</td>\n",
              "      <td>...</td>\n",
              "      <td>...</td>\n",
              "      <td>...</td>\n",
              "      <td>...</td>\n",
              "      <td>...</td>\n",
              "      <td>...</td>\n",
              "      <td>...</td>\n",
              "    </tr>\n",
              "    <tr>\n",
              "      <th>20234</th>\n",
              "      <td>20235</td>\n",
              "      <td>Sayur Kukus</td>\n",
              "      <td>Tim Lele</td>\n",
              "      <td>Sayur Kukus</td>\n",
              "      <td>Kukis Oatmeal Keju</td>\n",
              "      <td></td>\n",
              "      <td>0</td>\n",
              "      <td>0</td>\n",
              "      <td>1</td>\n",
              "      <td>0</td>\n",
              "      <td>345.960</td>\n",
              "      <td>59.030</td>\n",
              "      <td>17.180</td>\n",
              "      <td>4.5700</td>\n",
              "      <td>Sayur Kukus,Tim Lele,Sayur Kukus,Kukis Oatmeal...</td>\n",
              "    </tr>\n",
              "    <tr>\n",
              "      <th>20235</th>\n",
              "      <td>20236</td>\n",
              "      <td>Sayur Kukus</td>\n",
              "      <td>Tim Lele</td>\n",
              "      <td>Sayur Kukus</td>\n",
              "      <td>Lapis Mangga</td>\n",
              "      <td></td>\n",
              "      <td>0</td>\n",
              "      <td>0</td>\n",
              "      <td>1</td>\n",
              "      <td>0</td>\n",
              "      <td>347.545</td>\n",
              "      <td>63.930</td>\n",
              "      <td>16.700</td>\n",
              "      <td>2.6370</td>\n",
              "      <td>Sayur Kukus,Tim Lele,Sayur Kukus,Lapis Mangga,</td>\n",
              "    </tr>\n",
              "    <tr>\n",
              "      <th>20236</th>\n",
              "      <td>20237</td>\n",
              "      <td>Sayur Kukus</td>\n",
              "      <td>Tim Lele</td>\n",
              "      <td>Sayur Kukus</td>\n",
              "      <td>Pancake Labu</td>\n",
              "      <td></td>\n",
              "      <td>0</td>\n",
              "      <td>0</td>\n",
              "      <td>1</td>\n",
              "      <td>0</td>\n",
              "      <td>346.760</td>\n",
              "      <td>60.850</td>\n",
              "      <td>17.660</td>\n",
              "      <td>3.8300</td>\n",
              "      <td>Sayur Kukus,Tim Lele,Sayur Kukus,Pancake Labu,</td>\n",
              "    </tr>\n",
              "    <tr>\n",
              "      <th>20237</th>\n",
              "      <td>20238</td>\n",
              "      <td>Sayur Kukus</td>\n",
              "      <td>Tim Lele</td>\n",
              "      <td>Sayur Kukus</td>\n",
              "      <td>Perkedel Lele</td>\n",
              "      <td></td>\n",
              "      <td>0</td>\n",
              "      <td>0</td>\n",
              "      <td>1</td>\n",
              "      <td>0</td>\n",
              "      <td>346.360</td>\n",
              "      <td>59.116</td>\n",
              "      <td>18.320</td>\n",
              "      <td>4.0450</td>\n",
              "      <td>Sayur Kukus,Tim Lele,Sayur Kukus,Perkedel Lele,</td>\n",
              "    </tr>\n",
              "    <tr>\n",
              "      <th>20238</th>\n",
              "      <td>20239</td>\n",
              "      <td>Sayur Kukus</td>\n",
              "      <td>Tim Lele</td>\n",
              "      <td>Sayur Kukus</td>\n",
              "      <td>Puding Yogurt Saus Alpukat</td>\n",
              "      <td></td>\n",
              "      <td>0</td>\n",
              "      <td>0</td>\n",
              "      <td>1</td>\n",
              "      <td>0</td>\n",
              "      <td>345.260</td>\n",
              "      <td>56.650</td>\n",
              "      <td>17.360</td>\n",
              "      <td>5.5800</td>\n",
              "      <td>Sayur Kukus,Tim Lele,Sayur Kukus,Puding Yogurt...</td>\n",
              "    </tr>\n",
              "  </tbody>\n",
              "</table>\n",
              "<p>16377 rows × 15 columns</p>\n",
              "</div>\n",
              "      <button class=\"colab-df-convert\" onclick=\"convertToInteractive('df-ae391d9c-d19b-4d30-bfee-215e027162aa')\"\n",
              "              title=\"Convert this dataframe to an interactive table.\"\n",
              "              style=\"display:none;\">\n",
              "        \n",
              "  <svg xmlns=\"http://www.w3.org/2000/svg\" height=\"24px\"viewBox=\"0 0 24 24\"\n",
              "       width=\"24px\">\n",
              "    <path d=\"M0 0h24v24H0V0z\" fill=\"none\"/>\n",
              "    <path d=\"M18.56 5.44l.94 2.06.94-2.06 2.06-.94-2.06-.94-.94-2.06-.94 2.06-2.06.94zm-11 1L8.5 8.5l.94-2.06 2.06-.94-2.06-.94L8.5 2.5l-.94 2.06-2.06.94zm10 10l.94 2.06.94-2.06 2.06-.94-2.06-.94-.94-2.06-.94 2.06-2.06.94z\"/><path d=\"M17.41 7.96l-1.37-1.37c-.4-.4-.92-.59-1.43-.59-.52 0-1.04.2-1.43.59L10.3 9.45l-7.72 7.72c-.78.78-.78 2.05 0 2.83L4 21.41c.39.39.9.59 1.41.59.51 0 1.02-.2 1.41-.59l7.78-7.78 2.81-2.81c.8-.78.8-2.07 0-2.86zM5.41 20L4 18.59l7.72-7.72 1.47 1.35L5.41 20z\"/>\n",
              "  </svg>\n",
              "      </button>\n",
              "      \n",
              "  <style>\n",
              "    .colab-df-container {\n",
              "      display:flex;\n",
              "      flex-wrap:wrap;\n",
              "      gap: 12px;\n",
              "    }\n",
              "\n",
              "    .colab-df-convert {\n",
              "      background-color: #E8F0FE;\n",
              "      border: none;\n",
              "      border-radius: 50%;\n",
              "      cursor: pointer;\n",
              "      display: none;\n",
              "      fill: #1967D2;\n",
              "      height: 32px;\n",
              "      padding: 0 0 0 0;\n",
              "      width: 32px;\n",
              "    }\n",
              "\n",
              "    .colab-df-convert:hover {\n",
              "      background-color: #E2EBFA;\n",
              "      box-shadow: 0px 1px 2px rgba(60, 64, 67, 0.3), 0px 1px 3px 1px rgba(60, 64, 67, 0.15);\n",
              "      fill: #174EA6;\n",
              "    }\n",
              "\n",
              "    [theme=dark] .colab-df-convert {\n",
              "      background-color: #3B4455;\n",
              "      fill: #D2E3FC;\n",
              "    }\n",
              "\n",
              "    [theme=dark] .colab-df-convert:hover {\n",
              "      background-color: #434B5C;\n",
              "      box-shadow: 0px 1px 3px 1px rgba(0, 0, 0, 0.15);\n",
              "      filter: drop-shadow(0px 1px 2px rgba(0, 0, 0, 0.3));\n",
              "      fill: #FFFFFF;\n",
              "    }\n",
              "  </style>\n",
              "\n",
              "      <script>\n",
              "        const buttonEl =\n",
              "          document.querySelector('#df-ae391d9c-d19b-4d30-bfee-215e027162aa button.colab-df-convert');\n",
              "        buttonEl.style.display =\n",
              "          google.colab.kernel.accessAllowed ? 'block' : 'none';\n",
              "\n",
              "        async function convertToInteractive(key) {\n",
              "          const element = document.querySelector('#df-ae391d9c-d19b-4d30-bfee-215e027162aa');\n",
              "          const dataTable =\n",
              "            await google.colab.kernel.invokeFunction('convertToInteractive',\n",
              "                                                     [key], {});\n",
              "          if (!dataTable) return;\n",
              "\n",
              "          const docLinkHtml = 'Like what you see? Visit the ' +\n",
              "            '<a target=\"_blank\" href=https://colab.research.google.com/notebooks/data_table.ipynb>data table notebook</a>'\n",
              "            + ' to learn more about interactive tables.';\n",
              "          element.innerHTML = '';\n",
              "          dataTable['output_type'] = 'display_data';\n",
              "          await google.colab.output.renderOutput(dataTable, element);\n",
              "          const docLink = document.createElement('div');\n",
              "          docLink.innerHTML = docLinkHtml;\n",
              "          element.appendChild(docLink);\n",
              "        }\n",
              "      </script>\n",
              "    </div>\n",
              "  </div>\n",
              "  "
            ]
          },
          "metadata": {},
          "execution_count": 76
        }
      ]
    },
    {
      "cell_type": "code",
      "source": [
        "def filter_eer(eer):\n",
        "  rekomendasi_bersih = rekomendasi_nonalergen.copy()\n",
        "  "
      ],
      "metadata": {
        "id": "EPU2Z1Hsq7m_"
      },
      "execution_count": null,
      "outputs": []
    },
    {
      "cell_type": "code",
      "source": [
        "pip install pandas-tfrecords"
      ],
      "metadata": {
        "colab": {
          "base_uri": "https://localhost:8080/"
        },
        "id": "8RzL4AwqjrLP",
        "outputId": "340fffac-5fef-467f-b33c-f300fc181416"
      },
      "execution_count": null,
      "outputs": [
        {
          "output_type": "stream",
          "name": "stdout",
          "text": [
            "Looking in indexes: https://pypi.org/simple, https://us-python.pkg.dev/colab-wheels/public/simple/\n",
            "Requirement already satisfied: pandas-tfrecords in /usr/local/lib/python3.7/dist-packages (0.1.6)\n",
            "Requirement already satisfied: pandas in /usr/local/lib/python3.7/dist-packages (from pandas-tfrecords) (1.3.5)\n",
            "Requirement already satisfied: tensorflow in /usr/local/lib/python3.7/dist-packages (from pandas-tfrecords) (2.8.2+zzzcolab20220527125636)\n",
            "Requirement already satisfied: numpy in /usr/local/lib/python3.7/dist-packages (from pandas-tfrecords) (1.21.6)\n",
            "Requirement already satisfied: s3fs in /usr/local/lib/python3.7/dist-packages (from pandas-tfrecords) (2022.5.0)\n",
            "Requirement already satisfied: pytz>=2017.3 in /usr/local/lib/python3.7/dist-packages (from pandas->pandas-tfrecords) (2022.1)\n",
            "Requirement already satisfied: python-dateutil>=2.7.3 in /usr/local/lib/python3.7/dist-packages (from pandas->pandas-tfrecords) (2.8.2)\n",
            "Requirement already satisfied: six>=1.5 in /usr/local/lib/python3.7/dist-packages (from python-dateutil>=2.7.3->pandas->pandas-tfrecords) (1.15.0)\n",
            "Requirement already satisfied: aiohttp<=4 in /usr/local/lib/python3.7/dist-packages (from s3fs->pandas-tfrecords) (3.8.1)\n",
            "Requirement already satisfied: fsspec==2022.5.0 in /usr/local/lib/python3.7/dist-packages (from s3fs->pandas-tfrecords) (2022.5.0)\n",
            "Requirement already satisfied: aiobotocore~=2.3.0 in /usr/local/lib/python3.7/dist-packages (from s3fs->pandas-tfrecords) (2.3.2)\n",
            "Requirement already satisfied: botocore<1.24.22,>=1.24.21 in /usr/local/lib/python3.7/dist-packages (from aiobotocore~=2.3.0->s3fs->pandas-tfrecords) (1.24.21)\n",
            "Requirement already satisfied: aioitertools>=0.5.1 in /usr/local/lib/python3.7/dist-packages (from aiobotocore~=2.3.0->s3fs->pandas-tfrecords) (0.10.0)\n",
            "Requirement already satisfied: wrapt>=1.10.10 in /usr/local/lib/python3.7/dist-packages (from aiobotocore~=2.3.0->s3fs->pandas-tfrecords) (1.14.1)\n",
            "Requirement already satisfied: yarl<2.0,>=1.0 in /usr/local/lib/python3.7/dist-packages (from aiohttp<=4->s3fs->pandas-tfrecords) (1.7.2)\n",
            "Requirement already satisfied: asynctest==0.13.0 in /usr/local/lib/python3.7/dist-packages (from aiohttp<=4->s3fs->pandas-tfrecords) (0.13.0)\n",
            "Requirement already satisfied: aiosignal>=1.1.2 in /usr/local/lib/python3.7/dist-packages (from aiohttp<=4->s3fs->pandas-tfrecords) (1.2.0)\n",
            "Requirement already satisfied: typing-extensions>=3.7.4 in /usr/local/lib/python3.7/dist-packages (from aiohttp<=4->s3fs->pandas-tfrecords) (4.2.0)\n",
            "Requirement already satisfied: async-timeout<5.0,>=4.0.0a3 in /usr/local/lib/python3.7/dist-packages (from aiohttp<=4->s3fs->pandas-tfrecords) (4.0.2)\n",
            "Requirement already satisfied: attrs>=17.3.0 in /usr/local/lib/python3.7/dist-packages (from aiohttp<=4->s3fs->pandas-tfrecords) (21.4.0)\n",
            "Requirement already satisfied: multidict<7.0,>=4.5 in /usr/local/lib/python3.7/dist-packages (from aiohttp<=4->s3fs->pandas-tfrecords) (6.0.2)\n",
            "Requirement already satisfied: charset-normalizer<3.0,>=2.0 in /usr/local/lib/python3.7/dist-packages (from aiohttp<=4->s3fs->pandas-tfrecords) (2.0.12)\n",
            "Requirement already satisfied: frozenlist>=1.1.1 in /usr/local/lib/python3.7/dist-packages (from aiohttp<=4->s3fs->pandas-tfrecords) (1.3.0)\n",
            "Requirement already satisfied: jmespath<2.0.0,>=0.7.1 in /usr/local/lib/python3.7/dist-packages (from botocore<1.24.22,>=1.24.21->aiobotocore~=2.3.0->s3fs->pandas-tfrecords) (1.0.0)\n",
            "Requirement already satisfied: urllib3<1.27,>=1.25.4 in /usr/local/lib/python3.7/dist-packages (from botocore<1.24.22,>=1.24.21->aiobotocore~=2.3.0->s3fs->pandas-tfrecords) (1.25.11)\n",
            "Requirement already satisfied: idna>=2.0 in /usr/local/lib/python3.7/dist-packages (from yarl<2.0,>=1.0->aiohttp<=4->s3fs->pandas-tfrecords) (2.10)\n",
            "Requirement already satisfied: keras-preprocessing>=1.1.1 in /usr/local/lib/python3.7/dist-packages (from tensorflow->pandas-tfrecords) (1.1.2)\n",
            "Requirement already satisfied: tensorboard<2.9,>=2.8 in /usr/local/lib/python3.7/dist-packages (from tensorflow->pandas-tfrecords) (2.8.0)\n",
            "Requirement already satisfied: grpcio<2.0,>=1.24.3 in /usr/local/lib/python3.7/dist-packages (from tensorflow->pandas-tfrecords) (1.46.3)\n",
            "Requirement already satisfied: google-pasta>=0.1.1 in /usr/local/lib/python3.7/dist-packages (from tensorflow->pandas-tfrecords) (0.2.0)\n",
            "Requirement already satisfied: tensorflow-estimator<2.9,>=2.8 in /usr/local/lib/python3.7/dist-packages (from tensorflow->pandas-tfrecords) (2.8.0)\n",
            "Requirement already satisfied: libclang>=9.0.1 in /usr/local/lib/python3.7/dist-packages (from tensorflow->pandas-tfrecords) (14.0.1)\n",
            "Requirement already satisfied: astunparse>=1.6.0 in /usr/local/lib/python3.7/dist-packages (from tensorflow->pandas-tfrecords) (1.6.3)\n",
            "Requirement already satisfied: setuptools in /usr/local/lib/python3.7/dist-packages (from tensorflow->pandas-tfrecords) (57.4.0)\n",
            "Requirement already satisfied: termcolor>=1.1.0 in /usr/local/lib/python3.7/dist-packages (from tensorflow->pandas-tfrecords) (1.1.0)\n",
            "Requirement already satisfied: opt-einsum>=2.3.2 in /usr/local/lib/python3.7/dist-packages (from tensorflow->pandas-tfrecords) (3.3.0)\n",
            "Requirement already satisfied: h5py>=2.9.0 in /usr/local/lib/python3.7/dist-packages (from tensorflow->pandas-tfrecords) (3.1.0)\n",
            "Requirement already satisfied: absl-py>=0.4.0 in /usr/local/lib/python3.7/dist-packages (from tensorflow->pandas-tfrecords) (1.0.0)\n",
            "Requirement already satisfied: keras<2.9,>=2.8.0rc0 in /usr/local/lib/python3.7/dist-packages (from tensorflow->pandas-tfrecords) (2.8.0)\n",
            "Requirement already satisfied: flatbuffers>=1.12 in /usr/local/lib/python3.7/dist-packages (from tensorflow->pandas-tfrecords) (2.0)\n",
            "Requirement already satisfied: tensorflow-io-gcs-filesystem>=0.23.1 in /usr/local/lib/python3.7/dist-packages (from tensorflow->pandas-tfrecords) (0.26.0)\n",
            "Requirement already satisfied: protobuf<3.20,>=3.9.2 in /usr/local/lib/python3.7/dist-packages (from tensorflow->pandas-tfrecords) (3.17.3)\n",
            "Requirement already satisfied: gast>=0.2.1 in /usr/local/lib/python3.7/dist-packages (from tensorflow->pandas-tfrecords) (0.5.3)\n",
            "Requirement already satisfied: wheel<1.0,>=0.23.0 in /usr/local/lib/python3.7/dist-packages (from astunparse>=1.6.0->tensorflow->pandas-tfrecords) (0.37.1)\n",
            "Requirement already satisfied: cached-property in /usr/local/lib/python3.7/dist-packages (from h5py>=2.9.0->tensorflow->pandas-tfrecords) (1.5.2)\n",
            "Requirement already satisfied: tensorboard-data-server<0.7.0,>=0.6.0 in /usr/local/lib/python3.7/dist-packages (from tensorboard<2.9,>=2.8->tensorflow->pandas-tfrecords) (0.6.1)\n",
            "Requirement already satisfied: google-auth-oauthlib<0.5,>=0.4.1 in /usr/local/lib/python3.7/dist-packages (from tensorboard<2.9,>=2.8->tensorflow->pandas-tfrecords) (0.4.6)\n",
            "Requirement already satisfied: requests<3,>=2.21.0 in /usr/local/lib/python3.7/dist-packages (from tensorboard<2.9,>=2.8->tensorflow->pandas-tfrecords) (2.23.0)\n",
            "Requirement already satisfied: werkzeug>=0.11.15 in /usr/local/lib/python3.7/dist-packages (from tensorboard<2.9,>=2.8->tensorflow->pandas-tfrecords) (1.0.1)\n",
            "Requirement already satisfied: tensorboard-plugin-wit>=1.6.0 in /usr/local/lib/python3.7/dist-packages (from tensorboard<2.9,>=2.8->tensorflow->pandas-tfrecords) (1.8.1)\n",
            "Requirement already satisfied: google-auth<3,>=1.6.3 in /usr/local/lib/python3.7/dist-packages (from tensorboard<2.9,>=2.8->tensorflow->pandas-tfrecords) (1.35.0)\n",
            "Requirement already satisfied: markdown>=2.6.8 in /usr/local/lib/python3.7/dist-packages (from tensorboard<2.9,>=2.8->tensorflow->pandas-tfrecords) (3.3.7)\n",
            "Requirement already satisfied: rsa<5,>=3.1.4 in /usr/local/lib/python3.7/dist-packages (from google-auth<3,>=1.6.3->tensorboard<2.9,>=2.8->tensorflow->pandas-tfrecords) (4.8)\n",
            "Requirement already satisfied: cachetools<5.0,>=2.0.0 in /usr/local/lib/python3.7/dist-packages (from google-auth<3,>=1.6.3->tensorboard<2.9,>=2.8->tensorflow->pandas-tfrecords) (4.2.4)\n",
            "Requirement already satisfied: pyasn1-modules>=0.2.1 in /usr/local/lib/python3.7/dist-packages (from google-auth<3,>=1.6.3->tensorboard<2.9,>=2.8->tensorflow->pandas-tfrecords) (0.2.8)\n",
            "Requirement already satisfied: requests-oauthlib>=0.7.0 in /usr/local/lib/python3.7/dist-packages (from google-auth-oauthlib<0.5,>=0.4.1->tensorboard<2.9,>=2.8->tensorflow->pandas-tfrecords) (1.3.1)\n",
            "Requirement already satisfied: importlib-metadata>=4.4 in /usr/local/lib/python3.7/dist-packages (from markdown>=2.6.8->tensorboard<2.9,>=2.8->tensorflow->pandas-tfrecords) (4.11.4)\n",
            "Requirement already satisfied: zipp>=0.5 in /usr/local/lib/python3.7/dist-packages (from importlib-metadata>=4.4->markdown>=2.6.8->tensorboard<2.9,>=2.8->tensorflow->pandas-tfrecords) (3.8.0)\n",
            "Requirement already satisfied: pyasn1<0.5.0,>=0.4.6 in /usr/local/lib/python3.7/dist-packages (from pyasn1-modules>=0.2.1->google-auth<3,>=1.6.3->tensorboard<2.9,>=2.8->tensorflow->pandas-tfrecords) (0.4.8)\n",
            "Requirement already satisfied: certifi>=2017.4.17 in /usr/local/lib/python3.7/dist-packages (from requests<3,>=2.21.0->tensorboard<2.9,>=2.8->tensorflow->pandas-tfrecords) (2022.5.18.1)\n",
            "Requirement already satisfied: chardet<4,>=3.0.2 in /usr/local/lib/python3.7/dist-packages (from requests<3,>=2.21.0->tensorboard<2.9,>=2.8->tensorflow->pandas-tfrecords) (3.0.4)\n",
            "Requirement already satisfied: oauthlib>=3.0.0 in /usr/local/lib/python3.7/dist-packages (from requests-oauthlib>=0.7.0->google-auth-oauthlib<0.5,>=0.4.1->tensorboard<2.9,>=2.8->tensorflow->pandas-tfrecords) (3.2.0)\n"
          ]
        }
      ]
    },
    {
      "cell_type": "code",
      "source": [
        "import pandas as pd\n",
        "import tensorflow as tf\n",
        "\n",
        "#Creating fake data for demonstration\n",
        "X_train = pd.DataFrame({'feat1':[1,2,3], \n",
        "                  'feat2':['one','two','three']})\n",
        "training_y = pd.DataFrame({'target': [3.4, 11.67, 44444.1]})\n",
        "\n",
        "X_train.to_csv('X_train.csv')\n",
        "training_y.to_csv('training_y.csv')\n",
        "\n",
        "#TFRecords boilerplate\n",
        "def _bytes_feature(value):\n",
        "    \"\"\"Returns a bytes_list from a string / byte.\"\"\"\n",
        "    if isinstance(value, type(tf.constant(0))):\n",
        "        value = value.numpy() # BytesList won't unpack a string from an EagerTensor.\n",
        "    return tf.train.Feature(bytes_list=tf.train.BytesList(value=[value]))\n",
        "\n",
        "def _float_feature(value):\n",
        "    \"\"\"Returns a float_list from a float / double.\"\"\"\n",
        "    return tf.train.Feature(float_list=tf.train.FloatList(value=[value]))\n",
        "\n",
        "def _int64_feature(value):\n",
        "    \"\"\"Returns an int64_list from a bool / enum / int / uint.\"\"\"\n",
        "    return tf.train.Feature(int64_list=tf.train.Int64List(value=[value]))\n",
        "\n",
        "def serialize_example(index, feat1, feat2, target):\n",
        "    \"\"\"\n",
        "    Creates a tf.train.Example message ready to be written to a file.\n",
        "    \"\"\"\n",
        "    # Create a dictionary mapping the feature name to the tf.train.Example-compatible\n",
        "    # data type.\n",
        "    feature = {\n",
        "      'index': _int64_feature(index),\n",
        "      'feat1': _int64_feature(feat1),\n",
        "      'feat2': _bytes_feature(feat2),\n",
        "      'target': _float_feature(target)\n",
        "    }\n",
        "    example_proto = tf.train.Example(features=tf.train.Features(feature=feature))\n",
        "    return example_proto.SerializeToString()\n",
        "\n",
        "#Loading the data into chunks of size 2.  Change this to 1e5 in your code\n",
        "CHUNKSIZE = 1e5\n",
        "train = pd.read_csv('X_train.csv', chunksize=CHUNKSIZE)\n",
        "y = pd.read_csv('training_y.csv', chunksize=CHUNKSIZE)\n",
        "\n",
        "file_num = 0\n",
        "while 1:\n",
        "    try:\n",
        "        print(f'{file_num}')\n",
        "        #Getting the data from the two files \n",
        "        df = pd.concat([train.get_chunk(), y.get_chunk()],1)\n",
        "        \n",
        "        #Writing the TFRecord\n",
        "        with tf.io.TFRecordWriter(f'Record_{file_num}.tfrec') as writer:\n",
        "            for k in range(df.shape[0]):\n",
        "                row = df.iloc[k,:]\n",
        "                example = serialize_example(\n",
        "                    df.index[k],\n",
        "                    row['feat1'],\n",
        "                    str.encode(row['feat2']), #Note the str.encode to make tf play nice with strings\n",
        "                    row['target']) \n",
        "                writer.write(example)    \n",
        "        file_num += 1\n",
        "    except:\n",
        "        print(f'ERROR: {sys.exc_info()[0]}')\n",
        "        break"
      ],
      "metadata": {
        "id": "hF5UWOTdqAnn"
      },
      "execution_count": null,
      "outputs": []
    },
    {
      "cell_type": "code",
      "source": [
        "from pandas_tfrecords import pd2tf, tf2pd\n",
        "pd2tf(komposisi_resep_filtered, './tfrecords')\n",
        "pd2tf(df, './tfrecords')"
      ],
      "metadata": {
        "id": "ECP5_CCEjKmp"
      },
      "execution_count": null,
      "outputs": []
    },
    {
      "cell_type": "code",
      "source": [
        "komposisi_resep_filtered_tfrc=\"/content/tfrecords/part-00000-16e21665-adfa-485e-8603-add1c53a7796.tfrecords.gz\"\n",
        "feedback_tfrc = \"/content/tfrecords/part-00000-94c16ee6-5976-464c-a53c-8fc813d72bc5.tfrecords.gz\"\n",
        "\n",
        "raw1 = tf.data.TFRecordDataset(komposisi_resep_filtered_tfrc)\n",
        "for raw_record in raw1.take(2):\n",
        "    print(repr(raw_record))"
      ],
      "metadata": {
        "colab": {
          "base_uri": "https://localhost:8080/",
          "height": 363
        },
        "id": "q_VKr3cuk9M2",
        "outputId": "17ce409c-dfb4-4a80-98f7-1edaae8c090e"
      },
      "execution_count": null,
      "outputs": [
        {
          "output_type": "error",
          "ename": "DataLossError",
          "evalue": "ignored",
          "traceback": [
            "\u001b[0;31m---------------------------------------------------------------------------\u001b[0m",
            "\u001b[0;31mDataLossError\u001b[0m                             Traceback (most recent call last)",
            "\u001b[0;32m<ipython-input-88-83347c51831f>\u001b[0m in \u001b[0;36m<module>\u001b[0;34m()\u001b[0m\n\u001b[1;32m      2\u001b[0m \u001b[0mfeedback_tfrc\u001b[0m \u001b[0;34m=\u001b[0m \u001b[0;34m\"/content/tfrecords/part-00000-94c16ee6-5976-464c-a53c-8fc813d72bc5.tfrecords.gz\"\u001b[0m\u001b[0;34m\u001b[0m\u001b[0;34m\u001b[0m\u001b[0m\n\u001b[1;32m      3\u001b[0m \u001b[0mraw1\u001b[0m \u001b[0;34m=\u001b[0m \u001b[0mtf\u001b[0m\u001b[0;34m.\u001b[0m\u001b[0mdata\u001b[0m\u001b[0;34m.\u001b[0m\u001b[0mTFRecordDataset\u001b[0m\u001b[0;34m(\u001b[0m\u001b[0mkomposisi_resep_filtered_tfrc\u001b[0m\u001b[0;34m)\u001b[0m\u001b[0;34m\u001b[0m\u001b[0;34m\u001b[0m\u001b[0m\n\u001b[0;32m----> 4\u001b[0;31m \u001b[0;32mfor\u001b[0m \u001b[0mraw_record\u001b[0m \u001b[0;32min\u001b[0m \u001b[0mraw1\u001b[0m\u001b[0;34m.\u001b[0m\u001b[0mtake\u001b[0m\u001b[0;34m(\u001b[0m\u001b[0;36m2\u001b[0m\u001b[0;34m)\u001b[0m\u001b[0;34m:\u001b[0m\u001b[0;34m\u001b[0m\u001b[0;34m\u001b[0m\u001b[0m\n\u001b[0m\u001b[1;32m      5\u001b[0m     \u001b[0mprint\u001b[0m\u001b[0;34m(\u001b[0m\u001b[0mrepr\u001b[0m\u001b[0;34m(\u001b[0m\u001b[0mraw_record\u001b[0m\u001b[0;34m)\u001b[0m\u001b[0;34m)\u001b[0m\u001b[0;34m\u001b[0m\u001b[0;34m\u001b[0m\u001b[0m\n",
            "\u001b[0;32m/usr/local/lib/python3.7/dist-packages/tensorflow/python/data/ops/iterator_ops.py\u001b[0m in \u001b[0;36m__next__\u001b[0;34m(self)\u001b[0m\n\u001b[1;32m    834\u001b[0m   \u001b[0;32mdef\u001b[0m \u001b[0m__next__\u001b[0m\u001b[0;34m(\u001b[0m\u001b[0mself\u001b[0m\u001b[0;34m)\u001b[0m\u001b[0;34m:\u001b[0m\u001b[0;34m\u001b[0m\u001b[0;34m\u001b[0m\u001b[0m\n\u001b[1;32m    835\u001b[0m     \u001b[0;32mtry\u001b[0m\u001b[0;34m:\u001b[0m\u001b[0;34m\u001b[0m\u001b[0;34m\u001b[0m\u001b[0m\n\u001b[0;32m--> 836\u001b[0;31m       \u001b[0;32mreturn\u001b[0m \u001b[0mself\u001b[0m\u001b[0;34m.\u001b[0m\u001b[0m_next_internal\u001b[0m\u001b[0;34m(\u001b[0m\u001b[0;34m)\u001b[0m\u001b[0;34m\u001b[0m\u001b[0;34m\u001b[0m\u001b[0m\n\u001b[0m\u001b[1;32m    837\u001b[0m     \u001b[0;32mexcept\u001b[0m \u001b[0merrors\u001b[0m\u001b[0;34m.\u001b[0m\u001b[0mOutOfRangeError\u001b[0m\u001b[0;34m:\u001b[0m\u001b[0;34m\u001b[0m\u001b[0;34m\u001b[0m\u001b[0m\n\u001b[1;32m    838\u001b[0m       \u001b[0;32mraise\u001b[0m \u001b[0mStopIteration\u001b[0m\u001b[0;34m\u001b[0m\u001b[0;34m\u001b[0m\u001b[0m\n",
            "\u001b[0;32m/usr/local/lib/python3.7/dist-packages/tensorflow/python/data/ops/iterator_ops.py\u001b[0m in \u001b[0;36m_next_internal\u001b[0;34m(self)\u001b[0m\n\u001b[1;32m    820\u001b[0m           \u001b[0mself\u001b[0m\u001b[0;34m.\u001b[0m\u001b[0m_iterator_resource\u001b[0m\u001b[0;34m,\u001b[0m\u001b[0;34m\u001b[0m\u001b[0;34m\u001b[0m\u001b[0m\n\u001b[1;32m    821\u001b[0m           \u001b[0moutput_types\u001b[0m\u001b[0;34m=\u001b[0m\u001b[0mself\u001b[0m\u001b[0;34m.\u001b[0m\u001b[0m_flat_output_types\u001b[0m\u001b[0;34m,\u001b[0m\u001b[0;34m\u001b[0m\u001b[0;34m\u001b[0m\u001b[0m\n\u001b[0;32m--> 822\u001b[0;31m           output_shapes=self._flat_output_shapes)\n\u001b[0m\u001b[1;32m    823\u001b[0m \u001b[0;34m\u001b[0m\u001b[0m\n\u001b[1;32m    824\u001b[0m       \u001b[0;32mtry\u001b[0m\u001b[0;34m:\u001b[0m\u001b[0;34m\u001b[0m\u001b[0;34m\u001b[0m\u001b[0m\n",
            "\u001b[0;32m/usr/local/lib/python3.7/dist-packages/tensorflow/python/ops/gen_dataset_ops.py\u001b[0m in \u001b[0;36miterator_get_next\u001b[0;34m(iterator, output_types, output_shapes, name)\u001b[0m\n\u001b[1;32m   2921\u001b[0m       \u001b[0;32mreturn\u001b[0m \u001b[0m_result\u001b[0m\u001b[0;34m\u001b[0m\u001b[0;34m\u001b[0m\u001b[0m\n\u001b[1;32m   2922\u001b[0m     \u001b[0;32mexcept\u001b[0m \u001b[0m_core\u001b[0m\u001b[0;34m.\u001b[0m\u001b[0m_NotOkStatusException\u001b[0m \u001b[0;32mas\u001b[0m \u001b[0me\u001b[0m\u001b[0;34m:\u001b[0m\u001b[0;34m\u001b[0m\u001b[0;34m\u001b[0m\u001b[0m\n\u001b[0;32m-> 2923\u001b[0;31m       \u001b[0m_ops\u001b[0m\u001b[0;34m.\u001b[0m\u001b[0mraise_from_not_ok_status\u001b[0m\u001b[0;34m(\u001b[0m\u001b[0me\u001b[0m\u001b[0;34m,\u001b[0m \u001b[0mname\u001b[0m\u001b[0;34m)\u001b[0m\u001b[0;34m\u001b[0m\u001b[0;34m\u001b[0m\u001b[0m\n\u001b[0m\u001b[1;32m   2924\u001b[0m     \u001b[0;32mexcept\u001b[0m \u001b[0m_core\u001b[0m\u001b[0;34m.\u001b[0m\u001b[0m_FallbackException\u001b[0m\u001b[0;34m:\u001b[0m\u001b[0;34m\u001b[0m\u001b[0;34m\u001b[0m\u001b[0m\n\u001b[1;32m   2925\u001b[0m       \u001b[0;32mpass\u001b[0m\u001b[0;34m\u001b[0m\u001b[0;34m\u001b[0m\u001b[0m\n",
            "\u001b[0;32m/usr/local/lib/python3.7/dist-packages/tensorflow/python/framework/ops.py\u001b[0m in \u001b[0;36mraise_from_not_ok_status\u001b[0;34m(e, name)\u001b[0m\n\u001b[1;32m   7184\u001b[0m \u001b[0;32mdef\u001b[0m \u001b[0mraise_from_not_ok_status\u001b[0m\u001b[0;34m(\u001b[0m\u001b[0me\u001b[0m\u001b[0;34m,\u001b[0m \u001b[0mname\u001b[0m\u001b[0;34m)\u001b[0m\u001b[0;34m:\u001b[0m\u001b[0;34m\u001b[0m\u001b[0;34m\u001b[0m\u001b[0m\n\u001b[1;32m   7185\u001b[0m   \u001b[0me\u001b[0m\u001b[0;34m.\u001b[0m\u001b[0mmessage\u001b[0m \u001b[0;34m+=\u001b[0m \u001b[0;34m(\u001b[0m\u001b[0;34m\" name: \"\u001b[0m \u001b[0;34m+\u001b[0m \u001b[0mname\u001b[0m \u001b[0;32mif\u001b[0m \u001b[0mname\u001b[0m \u001b[0;32mis\u001b[0m \u001b[0;32mnot\u001b[0m \u001b[0;32mNone\u001b[0m \u001b[0;32melse\u001b[0m \u001b[0;34m\"\"\u001b[0m\u001b[0;34m)\u001b[0m\u001b[0;34m\u001b[0m\u001b[0;34m\u001b[0m\u001b[0m\n\u001b[0;32m-> 7186\u001b[0;31m   \u001b[0;32mraise\u001b[0m \u001b[0mcore\u001b[0m\u001b[0;34m.\u001b[0m\u001b[0m_status_to_exception\u001b[0m\u001b[0;34m(\u001b[0m\u001b[0me\u001b[0m\u001b[0;34m)\u001b[0m \u001b[0;32mfrom\u001b[0m \u001b[0;32mNone\u001b[0m  \u001b[0;31m# pylint: disable=protected-access\u001b[0m\u001b[0;34m\u001b[0m\u001b[0;34m\u001b[0m\u001b[0m\n\u001b[0m\u001b[1;32m   7187\u001b[0m \u001b[0;34m\u001b[0m\u001b[0m\n\u001b[1;32m   7188\u001b[0m \u001b[0;34m\u001b[0m\u001b[0m\n",
            "\u001b[0;31mDataLossError\u001b[0m: corrupted record at 0 [Op:IteratorGetNext]"
          ]
        }
      ]
    }
  ],
  "metadata": {
    "colab": {
      "collapsed_sections": [
        "Fp6D6s5mLkLn"
      ],
      "name": "SIMPASI MODEL",
      "provenance": [],
      "toc_visible": true,
      "include_colab_link": true
    },
    "kernelspec": {
      "display_name": "Python 3",
      "name": "python3"
    },
    "language_info": {
      "name": "python"
    }
  },
  "nbformat": 4,
  "nbformat_minor": 0
}